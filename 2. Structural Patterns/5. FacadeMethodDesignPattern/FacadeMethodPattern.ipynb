{
 "cells": [
  {
   "cell_type": "markdown",
   "id": "d1d0425c-a1f1-46e0-be19-e670911e33b2",
   "metadata": {},
   "source": [
    "# Facade Method Design Pattern"
   ]
  },
  {
   "cell_type": "markdown",
   "id": "24725ee6-a55c-41ce-ac96-6ac7ecaa53b6",
   "metadata": {},
   "source": [
    "## Some Use Cases:\n",
    "1. Data Warehouse Integration:\n",
    "- Use Case: Simplifying the interaction between various ETL (Extract, Transform, Load) systems and the data warehouse.\n",
    "- Benefit: The facade can provide a unified interface to multiple ETL processes, making it easier to load data into the warehouse without needing to understand the intricacies of each ETL tool.\n",
    "2. Big Data Processing Pipeline\n",
    "- Use Case: Simplifying access to Hadoop, Spark, and other big data processing systems.\n",
    "- Benefit: A facade can provide a higher-level API to trigger complex big data processing tasks, abstracting the complexities of distributed computing and storage systems.\n",
    "3. Data Aggregation from Multiple Sources\n",
    "- Use Case: Aggregating data from multiple sources such as APIs, databases, and CSV files.\n",
    "- Benefit: The facade can provide a simple method for users to aggregate and process data from diverse sources, hiding the complexities of interacting with each data source."
   ]
  },
  {
   "cell_type": "code",
   "execution_count": null,
   "id": "ecdef669-9e41-4794-b4f2-d3d227eb5b2c",
   "metadata": {},
   "outputs": [],
   "source": []
  },
  {
   "cell_type": "markdown",
   "id": "f7f38e44-0f94-44be-94d6-882f2ce727ee",
   "metadata": {},
   "source": [
    "## Scenario:\n",
    "### An e-commerce platform processes customer orders. The platform has separate systems for:\n",
    "- Inventory Management: Checks stock availability and updates stock after purchase.\n",
    "- Payment Processing: Handles payments for orders.\n",
    "- Shipping Management: Manages order delivery to the customer.\n",
    "  \n",
    "The client (order-processing logic) must interact with these subsystems in the correct sequence to place an order.\n",
    "\n"
   ]
  },
  {
   "cell_type": "markdown",
   "id": "909403a6-b7e4-4dbd-ad48-bae6226d2e65",
   "metadata": {},
   "source": [
    "### Problems:\n",
    "- Complexity: The client needs to understand and manage the detailed interactions between subsystems.\n",
    "- Tight Coupling: Subsystems indirectly depend on each other via the client.\n",
    "- Hard to Extend: Adding new features requires modifying the client and potentially all subsystems.\n",
    "- Duplication of Logic: Each client duplicates the logic of interacting with the subsystems."
   ]
  },
  {
   "cell_type": "code",
   "execution_count": 3,
   "id": "e7197632-b1e3-4ff0-bb1a-ecbf88e83772",
   "metadata": {},
   "outputs": [
    {
     "name": "stdout",
     "output_type": "stream",
     "text": [
      "Client A placing order...\n",
      "Checking inventory...\n",
      "Processing payment...\n",
      "Shipping the order...\n",
      "Client A: Order placed successfully.\n",
      "\n",
      "Client B processing payment...\n",
      "Checking inventory...\n",
      "Processing payment...\n",
      "Client B : Payment Successfully.\n",
      "\n",
      "Client C checking inventory...\n",
      "Checking inventory...\n",
      "Client C: Inventory is available.\n"
     ]
    }
   ],
   "source": [
    "# Subsystem: Inventory System\n",
    "class InventorySystem:\n",
    "    def check_inventory(self):\n",
    "        print(\"Checking inventory...\")\n",
    "        return True  # Assume inventory is available\n",
    "\n",
    "\n",
    "# Subsystem: Payment System\n",
    "class PaymentSystem:\n",
    "    def process_payment(self):\n",
    "        print(\"Processing payment...\")\n",
    "        return True  # Assume payment is successful\n",
    "\n",
    "\n",
    "# Subsystem: Shipping System\n",
    "class ShippingSystem:\n",
    "    def ship_order(self):\n",
    "        print(\"Shipping the order...\")\n",
    "\n",
    "\n",
    "# Multiple Clients interacting with subsystems\n",
    "# Client A: Places an order\n",
    "def client_a_place_order():\n",
    "    print(\"Client A placing order...\")\n",
    "    inventory = InventorySystem()\n",
    "    if inventory.check_inventory():\n",
    "        payment = PaymentSystem()\n",
    "        if payment.process_payment():\n",
    "            shipping = ShippingSystem()\n",
    "            shipping.ship_order()\n",
    "            print(f\"Client A: Order placed successfully.\")\n",
    "        else:\n",
    "            print(f\"Client A: Payment failed.\")\n",
    "    else:\n",
    "        print(f\"Client A: Item out of stock.\")\n",
    "\n",
    "\n",
    "# Client B: Processes payment only\n",
    "def client_b_process_payment():\n",
    "    print(f\"\\nClient B processing payment...\")\n",
    "    inventory = InventorySystem()\n",
    "    if inventory.check_inventory():\n",
    "        payment = PaymentSystem()\n",
    "        if payment.process_payment():\n",
    "            print(f\"Client B : Payment Successfully.\")\n",
    "        else:\n",
    "            print(f\"Client A: Payment failed.\")\n",
    "\n",
    "\n",
    "# Client C: Checks inventory only\n",
    "def client_c_check_inventory():\n",
    "    print(f\"\\nClient C checking inventory...\")\n",
    "    inventory = InventorySystem()\n",
    "    if inventory.check_inventory():\n",
    "        print(f\"Client C: Inventory is available.\")\n",
    "    else:\n",
    "        print(f\"Client C: Item out of stock.\")\n",
    "\n",
    "\n",
    "# Execute Clients\n",
    "client_a_place_order()\n",
    "client_b_process_payment()\n",
    "client_c_check_inventory()\n"
   ]
  },
  {
   "cell_type": "markdown",
   "id": "ffe674e8-3ac8-4306-b1ad-7fdaf5c3c009",
   "metadata": {},
   "source": []
  },
  {
   "cell_type": "markdown",
   "id": "a9ba0d62-f80f-4f2e-b0cb-54061121ed34",
   "metadata": {},
   "source": [
    "### Solution by Facade Pattern:\n",
    "- Centralized Logic: The facade consolidates and manages interactions with complex subsystems, simplifying workflows.\n",
    "- Decoupled Clients: Clients only interact with the facade, not directly with subsystems, reducing dependencies.\n",
    "- Easy Maintenance: Changes in subsystems are hidden behind the facade, requiring no client modification.\n",
    "- Scalable Integration: New subsystems or functionalities can be added behind the facade without altering client behavior."
   ]
  },
  {
   "cell_type": "markdown",
   "id": "9fe180a3-e031-4a5a-ab5a-fef25c1f1e26",
   "metadata": {},
   "source": [
    "### Components Explanation:\n",
    "1. Facade:\n",
    "- Centralizes and simplifies the interaction with multiple subsystems.\n",
    "- Provides a unified interface for the client.\n",
    "2. Subsystem Classes:\n",
    "- Perform the actual functionality.\n",
    "- Are unaware of the facade and are loosely coupled to the client.\n",
    "3. Client:\n",
    "- The client is the external entity that interacts with the system via the facade.\n",
    "\n"
   ]
  },
  {
   "cell_type": "code",
   "execution_count": 10,
   "id": "863216f0-4d62-4646-b94d-5d884e60e61e",
   "metadata": {},
   "outputs": [
    {
     "name": "stdout",
     "output_type": "stream",
     "text": [
      "Client B processing payment...\n",
      "Processing payment...\n",
      "Client B: Payment processed successfully.\n"
     ]
    }
   ],
   "source": [
    "# Subsystem: Inventory System (Subsystem Class)\n",
    "class InventorySystem:\n",
    "    def check_inventory(self):\n",
    "        print(\"Checking inventory...\")\n",
    "        return True  # Assume inventory is available\n",
    "\n",
    "\n",
    "# Subsystem: Payment System (Subsystem Class)\n",
    "class PaymentSystem:\n",
    "    def process_payment(self):\n",
    "        print(\"Processing payment...\")\n",
    "        return True  # Assume payment is successful\n",
    "\n",
    "\n",
    "# Subsystem: Shipping System (Subsystem Class)\n",
    "class ShippingSystem:\n",
    "    def ship_order(self):\n",
    "        print(\"Shipping the order...\")\n",
    "\n",
    "\n",
    "# Facade: Provides a unified interface for subsystems (Facade)\n",
    "class OrderFacade:\n",
    "    def __init__(self):\n",
    "        self.inventory = InventorySystem()  # Inventory system as a subsystem\n",
    "        self.payment = PaymentSystem()      # Payment system as a subsystem\n",
    "        self.shipping = ShippingSystem()    # Shipping system as a subsystem\n",
    "\n",
    "    def place_order(self):\n",
    "        if not self.inventory.check_inventory():\n",
    "            print(\"Order failed: Item out of stock.\")\n",
    "            return\n",
    "        if not self.payment.process_payment():\n",
    "            print(\"Order failed: Payment could not be processed.\")\n",
    "            return\n",
    "        self.shipping.ship_order()\n",
    "        print(\"Order placed successfully.\")\n",
    "\n",
    "    \n",
    "    def check_inventory(self):\n",
    "        if not self.inventory.check_inventory():\n",
    "            print(\"Order failed: Item out of stock.\")\n",
    "            return\n",
    "        \n",
    "        return self.inventory.check_inventory()\n",
    "\n",
    "    def process_payment(self):\n",
    "        return self.payment.process_payment()\n",
    "\n",
    "\n",
    "# Clients using the Facade (Client Code)\n",
    "def client_a_place_order(facade):\n",
    "    print(\"Client A placing order...\")\n",
    "    facade.place_order()  # Client interacts with facade to place the order\n",
    "\n",
    "\n",
    "def client_b_process_payment(facade):\n",
    "    print(\"Client B processing payment...\")\n",
    "    if facade.process_payment():  # Client uses facade for payment processing\n",
    "        print(\"Client B: Payment processed successfully.\")\n",
    "    else:\n",
    "        print(\"Client B: Payment failed.\")\n",
    "\n",
    "\n",
    "def client_c_check_inventory(facade):\n",
    "    print(\"Client C checking inventory...\")\n",
    "    if facade.check_inventory():  # Client uses facade to check inventory\n",
    "        print(\"Client C: Inventory is available.\")\n",
    "    else:\n",
    "        print(\"Client C: Item out of stock.\")\n",
    "\n",
    "\n",
    "# Execute Clients using the Facade\n",
    "facade = OrderFacade()\n",
    "# client_a_place_order(facade)  # Client A calling facade's method\n",
    "client_b_process_payment(facade)  # Client B calling facade's method\n",
    "# client_c_check_inventory(facade)  # Client C calling facade's method\n"
   ]
  },
  {
   "cell_type": "code",
   "execution_count": null,
   "id": "b93ff6ea-bd39-4329-8274-11d9e98240c1",
   "metadata": {},
   "outputs": [],
   "source": []
  }
 ],
 "metadata": {
  "kernelspec": {
   "display_name": "Python 3 (ipykernel)",
   "language": "python",
   "name": "python3"
  },
  "language_info": {
   "codemirror_mode": {
    "name": "ipython",
    "version": 3
   },
   "file_extension": ".py",
   "mimetype": "text/x-python",
   "name": "python",
   "nbconvert_exporter": "python",
   "pygments_lexer": "ipython3",
   "version": "3.13.0"
  },
  "widgets": {
   "application/vnd.jupyter.widget-state+json": {
    "state": {},
    "version_major": 2,
    "version_minor": 0
   }
  }
 },
 "nbformat": 4,
 "nbformat_minor": 5
}
