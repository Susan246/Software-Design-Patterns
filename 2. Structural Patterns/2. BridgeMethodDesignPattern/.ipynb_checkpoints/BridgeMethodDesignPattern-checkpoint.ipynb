{
 "cells": [
  {
   "cell_type": "code",
   "execution_count": 1,
   "id": "3f358157-a826-4350-9a35-a856053a3cbb",
   "metadata": {},
   "outputs": [
    {
     "name": "stdout",
     "output_type": "stream",
     "text": [
      "Using Basic Remote:\n",
      "TV is turned ON.\n",
      "TV is turned OFF.\n",
      "Using Basic Remote:\n",
      "Radio is turned ON.\n",
      "Radio is turned OFF.\n"
     ]
    }
   ],
   "source": [
    "\n",
    "# Implementer\n",
    "class Device:\n",
    "    \"\"\"Defines the interface for implementation classes.\"\"\"\n",
    "    def turn_on(self):\n",
    "        pass\n",
    "\n",
    "    def turn_off(self):\n",
    "        pass\n",
    "\n",
    "# Concrete Implementation 1\n",
    "class TV(Device):\n",
    "    \"\"\"Concrete implementation of the Device interface for a TV.\"\"\"\n",
    "    def turn_on(self):\n",
    "        print(\"TV is turned ON.\")\n",
    "\n",
    "    def turn_off(self):\n",
    "        print(\"TV is turned OFF.\")\n",
    "\n",
    "# Concrete Implementation 2\n",
    "class Radio(Device):\n",
    "    \"\"\"Concrete implementation of the Device interface for a Radio.\"\"\"\n",
    "    def turn_on(self):\n",
    "        print(\"Radio is turned ON.\")\n",
    "\n",
    "    def turn_off(self):\n",
    "        print(\"Radio is turned OFF.\")\n",
    "\n",
    "# Abstraction\n",
    "class RemoteControl:\n",
    "    \"\"\"The core abstraction that holds a reference to the implementer.\"\"\"\n",
    "    def __init__(self, device):\n",
    "        self.device = device  # Reference to the implementer.\n",
    "\n",
    "    def toggle_power(self):\n",
    "        pass  # This will be implemented in the refined abstraction.\n",
    "\n",
    "# Refined Abstraction\n",
    "class BasicRemote(RemoteControl):\n",
    "    \"\"\"Refines the abstraction by providing more specific details.\"\"\"\n",
    "    def toggle_power(self):\n",
    "        \"\"\"Use the device's interface to control power.\"\"\"\n",
    "        print(\"Using Basic Remote:\")\n",
    "        self.device.turn_on()\n",
    "        self.device.turn_off()\n",
    "\n",
    "# Client Code\n",
    "if __name__ == \"__main__\":\n",
    "    # Use TV with BasicRemote\n",
    "    tv = TV()\n",
    "    remote = BasicRemote(tv)\n",
    "    remote.toggle_power()\n",
    "\n",
    "    # Use Radio with BasicRemote\n",
    "    radio = Radio()\n",
    "    remote = BasicRemote(radio)\n",
    "    remote.toggle_power()\n"
   ]
  }
 ],
 "metadata": {
  "kernelspec": {
   "display_name": "Python 3 (ipykernel)",
   "language": "python",
   "name": "python3"
  },
  "language_info": {
   "codemirror_mode": {
    "name": "ipython",
    "version": 3
   },
   "file_extension": ".py",
   "mimetype": "text/x-python",
   "name": "python",
   "nbconvert_exporter": "python",
   "pygments_lexer": "ipython3",
   "version": "3.13.0"
  }
 },
 "nbformat": 4,
 "nbformat_minor": 5
}
