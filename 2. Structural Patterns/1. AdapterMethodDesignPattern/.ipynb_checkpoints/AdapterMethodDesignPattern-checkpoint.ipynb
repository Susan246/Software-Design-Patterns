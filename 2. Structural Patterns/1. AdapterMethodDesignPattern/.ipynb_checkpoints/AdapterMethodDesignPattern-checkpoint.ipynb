{
 "cells": [
  {
   "cell_type": "code",
   "execution_count": 1,
   "id": "c51ac2c5-1862-495a-8b13-e34b20f7716b",
   "metadata": {},
   "outputs": [
    {
     "name": "stdout",
     "output_type": "stream",
     "text": [
      "Using Charger Adapter to connect US charger to European socket\n",
      "Charging using US socket\n"
     ]
    }
   ],
   "source": [
    "# Existing class - USCharger (works with US sockets)\n",
    "class USCharger:\n",
    "    def plug_into_us_socket(self):\n",
    "        print(\"Charging using US socket\")\n",
    "\n",
    "\n",
    "# Target Interface - EuropeanSocket (requires a European plug)\n",
    "class EuropeanSocket:\n",
    "    def plug_into_european_socket(self):\n",
    "        pass\n",
    "\n",
    "\n",
    "# Adapter class to convert USCharger to EuropeanSocket\n",
    "class ChargerAdapter(EuropeanSocket):\n",
    "    def __init__(self, us_charger):\n",
    "        self.us_charger = us_charger\n",
    "\n",
    "    def plug_into_european_socket(self):\n",
    "        print(\"Using Charger Adapter to connect US charger to European socket\")\n",
    "        self.us_charger.plug_into_us_socket()\n",
    "\n",
    "\n",
    "# Client code using the Adapter\n",
    "def charge_device(european_socket):\n",
    "    european_socket.plug_into_european_socket()\n",
    "\n",
    "\n",
    "# Usage\n",
    "us_charger = USCharger()\n",
    "adapter = ChargerAdapter(us_charger)\n",
    "\n",
    "# Now EuropeanSocket can be used with the USCharger through the adapter\n",
    "charge_device(adapter)\n"
   ]
  }
 ],
 "metadata": {
  "kernelspec": {
   "display_name": "Python 3 (ipykernel)",
   "language": "python",
   "name": "python3"
  },
  "language_info": {
   "codemirror_mode": {
    "name": "ipython",
    "version": 3
   },
   "file_extension": ".py",
   "mimetype": "text/x-python",
   "name": "python",
   "nbconvert_exporter": "python",
   "pygments_lexer": "ipython3",
   "version": "3.13.0"
  }
 },
 "nbformat": 4,
 "nbformat_minor": 5
}
