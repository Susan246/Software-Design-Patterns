{
 "cells": [
  {
   "cell_type": "markdown",
   "id": "c354460f-ca2c-4941-8dd4-267f7894d5ec",
   "metadata": {},
   "source": [
    "# Adapter Method Design Pattern"
   ]
  },
  {
   "cell_type": "markdown",
   "id": "e0bb3d3a-3624-490f-bd23-fd0cbf81c381",
   "metadata": {},
   "source": [
    "## Some Use Cases:\n",
    "1. Integration of Different Data Sources:\n",
    "- Use Case: Data is often collected from various sources like relational databases, flat files, and APIs, each with its own format. The Adapter pattern can be used to integrate these data sources into a unified interface, allowing the system to handle different input formats (e.g., SQL databases, CSV files, JSON) seamlessly.\n",
    "- Benefit: It simplifies the integration of disparate systems, enabling smooth data extraction and transformation across various formats, reducing the need for custom parsing code for each data source.\n",
    "2. Data Export to Different Formats:\n",
    "- Use Case: In a data processing system, the Adapter pattern can be used when exporting data into different formats. For example, converting data from internal data structures to formats like CSV, Excel, or JSON. Each format requires a specific output logic, and the adapter can provide a consistent interface for these different outputs.\n",
    "- Benefit: It promotes flexibility, allowing easy extensions to support new formats without modifying existing code, making the system adaptable to future data export requirements.\n",
    "3. Legacy System Integration:\n",
    "- Use Case: Often in data engineering, there are legacy systems that output data in outdated formats or use old communication protocols. The Adapter pattern can be used to make these legacy systems compatible with modern data processing pipelines, allowing data to flow seamlessly from older systems into newer analytical or processing systems.\n",
    "- Benefit: It avoids the need to rewrite or replace legacy systems, offering a cost-effective way to integrate them with modern architectures, ensuring data continuity."
   ]
  },
  {
   "cell_type": "code",
   "execution_count": null,
   "id": "dc47309c-fc05-4d92-8d8f-771c5f0c9bc7",
   "metadata": {},
   "outputs": [],
   "source": []
  },
  {
   "cell_type": "markdown",
   "id": "e094d752-3d4a-407c-a827-c3362b3ea39a",
   "metadata": {},
   "source": [
    "## Scenario:\n",
    "- A system that generates data in one format (e.g., TSV) needs to interact with another system that only supports a different format (e.g., CSV), and we cannot change the existing code"
   ]
  },
  {
   "cell_type": "markdown",
   "id": "33c00899-47ea-4488-aa4e-a1a556702a9c",
   "metadata": {},
   "source": [
    "### Problems Without Adapter Method:\n",
    "- Incompatibility: Existing systems cannot work with new components due to differing interfaces.\n",
    "- Code Changes: Requires modifying existing code to integrate new components, risking errors.\n",
    "- Scalability Issues: Adding support for new systems or formats increases complexity."
   ]
  },
  {
   "cell_type": "code",
   "execution_count": 6,
   "id": "6f828849-25df-451f-995b-7a1cf8714783",
   "metadata": {},
   "outputs": [
    {
     "name": "stdout",
     "output_type": "stream",
     "text": [
      "Error: Incompatible file format: data.tsv. Only CSV files are supported.\n"
     ]
    }
   ],
   "source": [
    "import pandas as pd\n",
    "\n",
    "# A system that produces TSV files\n",
    "class TsvProducer:\n",
    "    def produce_tsv(self, data, file_name=\"data.tsv\"):\n",
    "        # Producing a TSV (tab-separated values) file\n",
    "        df = pd.DataFrame(data)\n",
    "        df.to_csv(file_name, sep='\\t', index=False)  # Save as TSV\n",
    "\n",
    "# A system that only reads CSV files\n",
    "class CsvReader:\n",
    "    def Read_csv(self, file_name):\n",
    "        # The storage system only accepts CSV format, not TSV\n",
    "        if not file_name.endswith(\".csv\"):\n",
    "            raise TypeError(f\"Incompatible file format: {file_name}. Only CSV files are supported.\")\n",
    "       \n",
    "        # Process the file if it is a CSV\n",
    "        df = pd.read_csv(file_name)\n",
    "        print(f\"CSV file '{file_name}' successfully stored.\")\n",
    "        print(df)\n",
    "\n",
    "# Usage\n",
    "def main():\n",
    "    # Data to be saved as TSV\n",
    "    data = {\n",
    "        \"Name\": [\"John\", \"Jane\", \"Alice\"],\n",
    "        \"Age\": [25, 30, 28]\n",
    "    }\n",
    "    \n",
    "    # Creating instances\n",
    "    tsv_producer = TsvProducer()\n",
    "    csv_reader = CsvReader()\n",
    "    \n",
    "    # Produce a TSV file\n",
    "    tsv_producer.produce_tsv(data, \"data.tsv\")  # Produces a TSV file\n",
    "\n",
    "    # Attempt to read the produced TSV file as CSV (incompatible)\n",
    "    try:\n",
    "        csv_reader.Read_csv(\"data.tsv\")  # This will raise a TypeError\n",
    "    except TypeError as e:\n",
    "        print(f\"Error: {e}\")\n",
    "\n",
    "\n",
    "# Run the main function\n",
    "main()\n"
   ]
  },
  {
   "cell_type": "markdown",
   "id": "b8f11297-c800-4851-aa93-7563ea7a8159",
   "metadata": {},
   "source": [
    "### How Adapter Method Solves\n",
    "- Resolves Incompatibility: Adapts the new component's interface to match the existing system.\n",
    "- No Code Changes: Existing code remains untouched, making integration seamless.\n",
    "- Scalable and Reusable: Easily integrates new systems or formats by creating new adapters."
   ]
  },
  {
   "cell_type": "markdown",
   "id": "09940791-b461-4217-9c05-4b3d31a922cc",
   "metadata": {},
   "source": [
    "### Components of Adapter Method\n",
    "- Target Interface: The standard interface the client expects.\n",
    "- Client: The system or code that uses the target interface.\n",
    "- Adaptee: The existing or incompatible component that needs to be adapted.\n",
    "- Adapter: Converts the Adaptee's interface to match the Target Interface for the Client."
   ]
  },
  {
   "cell_type": "code",
   "execution_count": 8,
   "id": "d467311b-d4d0-42d6-a7de-a6f3efe59b65",
   "metadata": {},
   "outputs": [
    {
     "name": "stdout",
     "output_type": "stream",
     "text": [
      "TSV file 'data.tsv' produced successfully.\n",
      "TSV file 'data.tsv' converted to CSV file 'converted.csv'.\n",
      "CSV file 'converted.csv' successfully stored.\n",
      "    Name  Age\n",
      "0   John   25\n",
      "1   Jane   30\n",
      "2  Alice   28\n"
     ]
    }
   ],
   "source": [
    "import pandas as pd\n",
    "\n",
    "# **Adaptee**: A system that produces TSV files\n",
    "class TsvProducer:\n",
    "    def produce_tsv(self, data, file_name=\"data.tsv\"):\n",
    "        # Producing a TSV (tab-separated values) file\n",
    "        df = pd.DataFrame(data)\n",
    "        df.to_csv(file_name, sep='\\t', index=False)  # Save as TSV\n",
    "        print(f\"TSV file '{file_name}' produced successfully.\")\n",
    "\n",
    "# **Target Interface**: A system that only reads CSV files\n",
    "class CsvReader:\n",
    "    def read_csv(self, file_name):\n",
    "        # The system only accepts CSV format, not TSV\n",
    "        if not file_name.endswith(\".csv\"):\n",
    "            raise TypeError(f\"Incompatible file format: {file_name}. Only CSV files are supported.\")\n",
    "       \n",
    "        # Process the file if it is a CSV\n",
    "        df = pd.read_csv(file_name)\n",
    "        print(f\"CSV file '{file_name}' successfully stored.\")\n",
    "        print(df)\n",
    "\n",
    "# **Adapter**: Converts TSV to CSV format to bridge incompatibility\n",
    "class TsvToCsvAdapter:\n",
    "    def __init__(self, tsv_file, csv_file=\"converted.csv\"):\n",
    "        self.tsv_file = tsv_file  # The original TSV file\n",
    "        self.csv_file = csv_file  # The converted CSV file\n",
    "\n",
    "    def convert(self):\n",
    "        # Converts the TSV file into a CSV format\n",
    "        df = pd.read_csv(self.tsv_file, sep='\\t')  # Read the TSV file\n",
    "        df.to_csv(self.csv_file, index=False)  # Save it as a CSV file\n",
    "        print(f\"TSV file '{self.tsv_file}' converted to CSV file '{self.csv_file}'.\")\n",
    "        return self.csv_file  # Return the CSV file name\n",
    "\n",
    "# Usage: Simulates the **Client** interacting with the system\n",
    "def main():\n",
    "    # **Client Code**\n",
    "    # Data to be saved as TSV\n",
    "    data = {\n",
    "        \"Name\": [\"John\", \"Jane\", \"Alice\"],\n",
    "        \"Age\": [25, 30, 28]\n",
    "    }\n",
    "    \n",
    "    # Creating instances of **Adaptee** and **Target Interface**\n",
    "    tsv_producer = TsvProducer()\n",
    "    csv_reader = CsvReader()\n",
    "    \n",
    "    # Step 1: Produce a TSV file (**Adaptee Functionality**)\n",
    "    tsv_file = \"data.tsv\"\n",
    "    tsv_producer.produce_tsv(data, tsv_file)  # Produces a TSV file\n",
    "\n",
    "    # Step 2: Use the **Adapter** to convert TSV to CSV\n",
    "    adapter = TsvToCsvAdapter(tsv_file)\n",
    "    csv_file = adapter.convert()  # Convert the TSV to CSV format\n",
    "\n",
    "    # Step 3: Use the **Target Interface** to read the converted CSV file\n",
    "    csv_reader.read_csv(csv_file)  # Now the system can read the converted CSV file\n",
    "\n",
    "# Run the main function\n",
    "main()\n"
   ]
  },
  {
   "cell_type": "code",
   "execution_count": null,
   "id": "caf7dd0c-4a9e-4929-95f3-5d1447899476",
   "metadata": {},
   "outputs": [],
   "source": []
  }
 ],
 "metadata": {
  "kernelspec": {
   "display_name": "Python 3 (ipykernel)",
   "language": "python",
   "name": "python3"
  },
  "language_info": {
   "codemirror_mode": {
    "name": "ipython",
    "version": 3
   },
   "file_extension": ".py",
   "mimetype": "text/x-python",
   "name": "python",
   "nbconvert_exporter": "python",
   "pygments_lexer": "ipython3",
   "version": "3.13.0"
  },
  "widgets": {
   "application/vnd.jupyter.widget-state+json": {
    "state": {},
    "version_major": 2,
    "version_minor": 0
   }
  }
 },
 "nbformat": 4,
 "nbformat_minor": 5
}
