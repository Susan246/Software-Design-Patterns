{
 "cells": [
  {
   "cell_type": "markdown",
   "id": "0ed1e42c-c565-4efc-9768-3ca212bea70a",
   "metadata": {},
   "source": [
    "# Flyweight Method Design Pattern:"
   ]
  },
  {
   "cell_type": "markdown",
   "id": "f6f46850-c443-4fef-838a-00ee615f9c5a",
   "metadata": {},
   "source": [
    "## Some Use Cases:\n",
    "1. Optimizing Storage for Large Data Sets:\n",
    "- Use Case: Storing a massive amount of data where many objects share the same data, such as storing common user profile data or product information for e-commerce platforms.\n",
    "- Benefit: The Flyweight pattern reduces memory usage by sharing common data across multiple instances, avoiding redundant storage for each object.\n",
    "2. Efficient Handling of Large-Scale Event Data:\n",
    "- Use Case: Managing large streams of event data in real-time systems, like sensor data or user activity logs.\n",
    "- Benefit: By reusing common event types, the Flyweight pattern minimizes the overhead of storing each event separately, allowing for scalable handling of vast amounts of data.\n",
    "3. Managing Repeated Queries in Data Warehouses:\n",
    "- Use Case: In data warehousing or OLAP systems where repeated queries retrieve the same results (like top-selling products or frequently accessed reports).\n",
    "- Benefit: The Flyweight pattern allows sharing of query results across different sessions or users, reducing the need to recalculate the same data repeatedly and improving performance."
   ]
  },
  {
   "cell_type": "code",
   "execution_count": null,
   "id": "6029ae8b-352b-456b-8946-36e4046b42cd",
   "metadata": {},
   "outputs": [],
   "source": []
  },
  {
   "cell_type": "markdown",
   "id": "aa8e9413-ae92-49a1-a799-4f858aa9abb4",
   "metadata": {},
   "source": [
    "### Scenario:\n",
    "- You are creating a game where players have different character types such as \"Warrior\", \"Mage\", etc. Each player has unique attributes like name, health, but they share common character types like \"Warrior\" and \"Mage\". You are creating multiple players in the game, but each player gets their own instance of the character type, which leads to unnecessary duplication of the same character type across many players.\n",
    "\n",
    "### Problem:\n",
    "- Excessive Memory Usage: Duplicating common character types (e.g., \"Warrior\", \"Mage\") across multiple players.\n",
    "- Object Duplication: Same character type is stored separately for each player.\n",
    "- Performance Issues: Increased memory consumption and overhead due to object duplication.\n",
    "- Inefficient Resource Utilization: Wasted memory from storing the same data for every player."
   ]
  },
  {
   "cell_type": "code",
   "execution_count": 1,
   "id": "b1d00ea8-0645-4a88-8b6d-602c6e8a97ca",
   "metadata": {},
   "outputs": [
    {
     "name": "stdout",
     "output_type": "stream",
     "text": [
      "Player Player1 has 100 health and is a Warrior.\n",
      "Player Player2 has 90 health and is a Warrior.\n",
      "Player Player3 has 80 health and is a Mage.\n",
      "Player Player4 has 70 health and is a Warrior.\n"
     ]
    }
   ],
   "source": [
    "\n",
    "\n",
    "class Player:\n",
    "    def __init__(self, name, character_type, health):\n",
    "        self.name = name\n",
    "        self.character_type = character_type  # Common character type like \"Warrior\", \"Mage\"\n",
    "        self.health = health\n",
    "\n",
    "    def display(self):\n",
    "        print(f\"Player {self.name} has {self.health} health and is a {self.character_type}.\")\n",
    "\n",
    "# Creating multiple players with similar character types\n",
    "player1 = Player(\"Player1\", \"Warrior\", 100)\n",
    "player2 = Player(\"Player2\", \"Warrior\", 90)\n",
    "player3 = Player(\"Player3\", \"Mage\", 80)\n",
    "player4 = Player(\"Player4\", \"Warrior\", 70)\n",
    "\n",
    "players = [player1, player2, player3, player4]\n",
    "\n",
    "for player in players:\n",
    "    player.display()\n"
   ]
  },
  {
   "cell_type": "code",
   "execution_count": null,
   "id": "26aba7ab-29dd-4e6f-a1b8-a5f3755c70cc",
   "metadata": {},
   "outputs": [],
   "source": []
  },
  {
   "cell_type": "markdown",
   "id": "d45c740d-910f-43bb-96b5-f11c940f7596",
   "metadata": {},
   "source": [
    "## Components of the Flyweight Pattern (Short):\n",
    "- Flyweight: Core object that holds shared state.\n",
    "- ConcreteFlyweight: Implements Flyweight with specific intrinsic state.\n",
    "- FlyweightFactory: Manages creation and reuse of shared objects.\n",
    "- Client: Uses Flyweight objects, passing extrinsic state."
   ]
  },
  {
   "cell_type": "markdown",
   "id": "aa6eab42-441b-4a56-8f22-4311c5b59543",
   "metadata": {},
   "source": [
    "### Solution with Flyweight:\n",
    "- Shared Data: Character types are shared, reducing memory usage.\n",
    "- Intrinsic vs Extrinsic State: Shared character_type (intrinsic) vs unique player data (extrinsic).\n",
    "- Efficient Memory Usage: Only one instance of each character type is created.\n",
    "- Reduced Duplication: The same character_type object is reused across players.\n",
    "- Improved Performance: Reusing objects reduces memory overhead and improves efficiency."
   ]
  },
  {
   "cell_type": "code",
   "execution_count": 2,
   "id": "9905e1ad-10b1-4b20-a0d1-5440c8e7416a",
   "metadata": {
    "scrolled": true
   },
   "outputs": [
    {
     "name": "stdout",
     "output_type": "stream",
     "text": [
      "Player Player1 with 100 health is a Warrior.\n",
      "Player Player2 with 90 health is a Warrior.\n",
      "Player Player3 with 80 health is a Mage.\n",
      "Player Player4 with 70 health is a Warrior.\n"
     ]
    }
   ],
   "source": [
    "# Flyweight Interface/Class\n",
    "class CharacterType:\n",
    "    def display(self):\n",
    "        pass\n",
    "\n",
    "# Concrete Flyweight\n",
    "class ConcreteCharacterType(CharacterType):\n",
    "    def __init__(self, character_type):\n",
    "        self.character_type = character_type  # Intrinsic state (shared)\n",
    "\n",
    "    def display(self):\n",
    "        print(f\"Character Type: {self.character_type}\")\n",
    "\n",
    "# Flyweight Factory\n",
    "class CharacterTypeFactory:\n",
    "    def __init__(self):\n",
    "        self._character_types = {}  # Dictionary to store shared flyweight objects\n",
    "\n",
    "    def get_character_type(self, character_type):\n",
    "        if character_type not in self._character_types:\n",
    "            self._character_types[character_type] = ConcreteCharacterType(character_type)\n",
    "        return self._character_types[character_type]\n",
    "\n",
    "# Client Class: Represents each player in the game\n",
    "class Player:\n",
    "    def __init__(self, name, character_type, health):\n",
    "        self.name = name\n",
    "        self.character_type = character_type  # Shared flyweight object\n",
    "        self.health = health\n",
    "\n",
    "    def display(self):\n",
    "        print(f\"Player {self.name} with {self.health} health is a {self.character_type.character_type}.\")\n",
    "\n",
    "# Using the Flyweight pattern\n",
    "factory = CharacterTypeFactory()\n",
    "\n",
    "# Creating players with shared character types\n",
    "player1 = Player(\"Player1\", factory.get_character_type(\"Warrior\"), 100)\n",
    "player2 = Player(\"Player2\", factory.get_character_type(\"Warrior\"), 90)\n",
    "player3 = Player(\"Player3\", factory.get_character_type(\"Mage\"), 80)\n",
    "player4 = Player(\"Player4\", factory.get_character_type(\"Warrior\"), 70)\n",
    "\n",
    "# Displaying players\n",
    "players = [player1, player2, player3, player4]\n",
    "for player in players:\n",
    "    player.display()\n"
   ]
  },
  {
   "cell_type": "code",
   "execution_count": null,
   "id": "48d5e56b-a266-4904-a1d1-a648d807e82d",
   "metadata": {},
   "outputs": [],
   "source": []
  },
  {
   "cell_type": "markdown",
   "id": "329da771-455a-48ef-8779-62e8f4f4f623",
   "metadata": {},
   "source": [
    "### Problem:\n",
    "1. Excessive Memory Usage: Storing many similar or identical objects consumes too much memory.\n",
    "2. Performance Issues: Creating and managing numerous objects increases overhead.\n",
    "3. Object Duplication: Identical objects are stored separately, wasting memory.\n",
    "\n",
    "### Solution:\n",
    "1. Shared Data: Common data is shared among objects to avoid duplication.\n",
    "2. Intrinsic vs. Extrinsic State:\n",
    "-  Intrinsic: Shared, immutable state (e.g., color, shape).\n",
    "-  Extrinsic: Unique state (e.g., position, health) stored separately.\n",
    "3. Efficient Memory Usage: Reduces memory consumption by sharing common attributes among objects.\n",
    "\n",
    "### Example:\n",
    "- In a game, many soldiers share common appearance data but differ in position or health.\n",
    "- Flyweight stores shared data, while External data is stored separately for individual variations.\n",
    "\n",
    "### Benefit:\n",
    "- Reduced Memory Usage: Only unique data is stored per object, saving memory.\n",
    "- Improved Performance: Less memory and object management overhead."
   ]
  },
  {
   "cell_type": "code",
   "execution_count": null,
   "id": "68cd27d2-d10e-43dd-a802-bf534972254c",
   "metadata": {},
   "outputs": [],
   "source": []
  }
 ],
 "metadata": {
  "kernelspec": {
   "display_name": "Python 3 (ipykernel)",
   "language": "python",
   "name": "python3"
  },
  "language_info": {
   "codemirror_mode": {
    "name": "ipython",
    "version": 3
   },
   "file_extension": ".py",
   "mimetype": "text/x-python",
   "name": "python",
   "nbconvert_exporter": "python",
   "pygments_lexer": "ipython3",
   "version": "3.13.0"
  },
  "widgets": {
   "application/vnd.jupyter.widget-state+json": {
    "state": {},
    "version_major": 2,
    "version_minor": 0
   }
  }
 },
 "nbformat": 4,
 "nbformat_minor": 5
}
