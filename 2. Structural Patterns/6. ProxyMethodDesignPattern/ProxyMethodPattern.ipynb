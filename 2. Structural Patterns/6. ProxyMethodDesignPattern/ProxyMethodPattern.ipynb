{
 "cells": [
  {
   "cell_type": "markdown",
   "id": "347df62c-f7ab-4da5-bb92-80047ae53d28",
   "metadata": {},
   "source": [
    "# Proxy Method Design Pattern"
   ]
  },
  {
   "cell_type": "markdown",
   "id": "981df210-20a4-4652-baf8-507c20a1ba45",
   "metadata": {},
   "source": [
    "## Some Use Cases:\n",
    "1. Lazy Loading of Large Datasets:\n",
    "- Use Case: Loading massive datasets only when required, such as large machine learning models or data from remote storage.\n",
    "- Benefit: The proxy delays the loading of the data until it is actually needed, reducing the initial load time and optimizing memory usage.\n",
    "2. Access Control for Sensitive Data\n",
    "- Use Case: Controlling access to private data stored in secure databases or cloud storage, ensuring that only authorized users or applications can retrieve it.\n",
    "- Benefit: The proxy validates the access request before allowing data retrieval, ensuring secure access without directly exposing sensitive resources.\n",
    "3. Caching Data for Performance\n",
    "- Use Case: Caching frequently accessed data, like real-time sensor data or stock market feeds, to speed up access and reduce the load on the data source.\n",
    "- Benefit: The proxy can check if the data is already in the cache and serve it immediately, reducing the need to query the database or external API, thereby improving performance."
   ]
  },
  {
   "cell_type": "code",
   "execution_count": null,
   "id": "32a33a02-b291-4d32-a0d1-98ddae865757",
   "metadata": {},
   "outputs": [],
   "source": []
  },
  {
   "cell_type": "markdown",
   "id": "d9573c9a-5b3f-44d3-a8f0-44f9b613abc6",
   "metadata": {},
   "source": [
    "### Proxy Patterns:\n",
    "1. Virtual Proxy Pattern\n",
    "2. Remote Proxy Pattern\n",
    "3. Protection Proxy Pattern\n",
    "4. Cache Proxy Pattern\n",
    "\n",
    "### Components:\n",
    "- RealSubject: Implements business logic and actual resource.\n",
    "- Proxy: Controls access to the RealSubject, adding extra functionality like lazy loading or security.\n",
    "- Client: The entity that interacts with the Proxy or RealSubject.\n"
   ]
  },
  {
   "cell_type": "markdown",
   "id": "01cc1b22-5ffe-4cc3-a71c-6150af03135e",
   "metadata": {},
   "source": [
    "### 1. Virtual Proxy Pattern\n",
    "- Problem:\n",
    "When an object is expensive to create or load (e.g., large data, images, or complex computations), it may not be efficient to instantiate it immediately when the client requests it. This can lead to unnecessary resource consumption, slow application performance, and delays in processing.\n",
    "\n",
    "- How Virtual Proxy Solves It:\n",
    "The Virtual Proxy pattern creates a proxy object that stands in place of the real object. The real object is only created when it is actually needed, a technique called lazy initialization. This reduces resource usage and speeds up the application's startup time by deferring the creation of resource-heavy objects until the client requires them.\n",
    "\n",
    "### Advantage of using Virtual Proxy Patter:\n",
    "- Improved Performance: Delays object creation until needed, reducing initial load time.\n",
    "- Reduced Memory Usage: Avoids upfront allocation of resources for unused objects.\n",
    "- Efficient Resource Management: Saves CPU and memory until the object is actually required.\n",
    "- Separation of Concerns: Proxy handles object creation, keeping client code focused on its responsibilities."
   ]
  },
  {
   "cell_type": "code",
   "execution_count": 1,
   "id": "1e37a5eb-dce7-4747-9f1f-dcae69048282",
   "metadata": {},
   "outputs": [
    {
     "name": "stdout",
     "output_type": "stream",
     "text": [
      "Loading image: large_image.jpg\n",
      "Displaying image: large_image.jpg\n"
     ]
    }
   ],
   "source": [
    "# Real Image Class (expensive to load)\n",
    "class RealImage:\n",
    "    def __init__(self, filename):\n",
    "        self.filename = filename\n",
    "        self.load_image()\n",
    "\n",
    "    def load_image(self):\n",
    "        print(f\"Loading image: {self.filename}\")\n",
    "    \n",
    "    def display(self):\n",
    "        print(f\"Displaying image: {self.filename}\")\n",
    "\n",
    "# Virtual Proxy Class\n",
    "class VirtualImage:\n",
    "    def __init__(self, filename):\n",
    "        self.filename = filename\n",
    "        self.real_image = None  # The real image is not created initially\n",
    "\n",
    "    def display(self):\n",
    "        if not self.real_image:\n",
    "            self.real_image = RealImage(self.filename)  # Create the real image when needed\n",
    "        self.real_image.display()  # Delegate the display to the real image\n",
    "\n",
    "# Client Code\n",
    "image = VirtualImage(\"large_image.jpg\")\n",
    "# Image is not loaded yet\n",
    "image.display()  # The image is loaded only now when needed\n"
   ]
  },
  {
   "cell_type": "markdown",
   "id": "d6d70b46-b328-4644-a892-dcf9dec785fc",
   "metadata": {},
   "source": []
  },
  {
   "cell_type": "markdown",
   "id": "25ff68d0-0d56-4a34-9d45-11e2518141f6",
   "metadata": {},
   "source": [
    "### 2. Remote Proxy Pattern\n",
    "- Problem:\n",
    "In distributed systems, accessing remote objects introduces challenges like network latency, communication overhead, and complexities of serializing and deserializing data. Direct communication with remote objects can be inefficient, slow, and prone to errors, especially when objects are far from the client.\n",
    "\n",
    "- How Remote Proxy Solves It:\n",
    "The Remote Proxy pattern provides a local proxy that acts as a stand-in for a remote object. It handles the communication between the client and the remote object, including tasks like serialization, deserialization, and network communication. The proxy simplifies client interactions with remote resources and reduces the overhead of making network calls.\n",
    "\n",
    "### Advantages of using Remote Proxy Pattern:\n",
    "- Efficient Communication: Reduces the complexity of communication between client and remote object.\n",
    "- Simplified Client Interaction: Clients interact with a local proxy, which hides the complexity of remote communication.\n",
    "- Serialization & Deserialization Handling: The proxy manages serialization and deserialization, abstracting these tasks from the client.\n",
    "- Improved Performance: Minimizes the impact of network overhead and delays by managing the communication efficiently."
   ]
  },
  {
   "cell_type": "code",
   "execution_count": 2,
   "id": "f65975fb-a689-4349-a17d-27a389ba3870",
   "metadata": {},
   "outputs": [
    {
     "name": "stdout",
     "output_type": "stream",
     "text": [
      "Client: Requesting data processing with: Sample Data\n",
      "Remote Proxy: Sending data to the remote service: Sample Data\n",
      "Processing data on remote server: Sample Data\n",
      "Client received: Processed Sample Data\n"
     ]
    }
   ],
   "source": [
    "# Remote Service (Real Subject)\n",
    "class RemoteService:\n",
    "    def process_data(self, data):\n",
    "        # Simulating remote processing\n",
    "        print(f\"Processing data on remote server: {data}\")\n",
    "        return f\"Processed {data}\"\n",
    "\n",
    "# Remote Proxy (Proxy Class)\n",
    "class RemoteProxy:\n",
    "    def __init__(self, remote_service):\n",
    "        self._remote_service = remote_service  # Actual remote service instance\n",
    "\n",
    "    def process_data(self, data):\n",
    "        # Handle serialization, network communication, etc.\n",
    "        print(f\"Remote Proxy: Sending data to the remote service: {data}\")\n",
    "        return self._remote_service.process_data(data)\n",
    "\n",
    "# Client code interacts with the proxy instead of directly accessing the remote service\n",
    "class Client:\n",
    "    def request(self, proxy, data):\n",
    "        print(f\"Client: Requesting data processing with: {data}\")\n",
    "        result = proxy.process_data(data)\n",
    "        print(f\"Client received: {result}\")\n",
    "\n",
    "# Creating instances and using the remote proxy\n",
    "remote_service = RemoteService()\n",
    "proxy = RemoteProxy(remote_service)\n",
    "client = Client()\n",
    "\n",
    "# Client makes a request through the proxy\n",
    "client.request(proxy, \"Sample Data\")\n"
   ]
  },
  {
   "cell_type": "markdown",
   "id": "3e803986-981d-4903-ad50-dcc2029f75d6",
   "metadata": {},
   "source": []
  },
  {
   "cell_type": "markdown",
   "id": "fb295d36-10e7-45d8-9d48-dc4fcc87838f",
   "metadata": {},
   "source": [
    "### 3. Protection Proxy Pattern\n",
    "- Problem:\n",
    "Sometimes, you need to control access to an object, especially when the object has sensitive data or operations that need to be protected based on user roles or other security measures. Allowing unrestricted access to the real object can lead to security vulnerabilities or unintended use.\n",
    "\n",
    "- How Protection Proxy Solves It:\n",
    "The Protection Proxy pattern controls access to an object by adding an additional layer that checks for permission or validates user roles before forwarding the request to the real object. It enforces security policies like authentication, authorization, or other access controls without changing the original object.\n",
    "\n",
    "### Advantages of using Protection Proxy Pattern:\n",
    "- Access Control: Provides a mechanism for controlling who can access the real object, based on roles, permissions, or other criteria.\n",
    "- Security: Prevents unauthorized access to sensitive operations or data, protecting the object from misuse.\n",
    "- Separation of Concerns: Keeps the real object focused on its core functionality while the proxy handles access control and security.\n",
    "- Scalability: Security policies can be updated in the proxy without affecting the real object or its clients."
   ]
  },
  {
   "cell_type": "code",
   "execution_count": 1,
   "id": "d494d08b-a179-4a3b-8876-6eea93ddb709",
   "metadata": {},
   "outputs": [
    {
     "name": "stdout",
     "output_type": "stream",
     "text": [
      "Accessing resource: Sensitive Data\n",
      "Access Denied: Insufficient permissions.\n"
     ]
    }
   ],
   "source": [
    "# Real Subject: Resource that needs access control\n",
    "class RealResource:\n",
    "    def __init__(self, resource_name):\n",
    "        self.resource_name = resource_name\n",
    "\n",
    "    def access_resource(self):\n",
    "        print(f\"Accessing resource: {self.resource_name}\")\n",
    "\n",
    "# Proxy: Controls access to the RealResource\n",
    "class ResourceProxy:\n",
    "    def __init__(self, real_resource, user_role):\n",
    "        self.real_resource = real_resource\n",
    "        self.user_role = user_role\n",
    "\n",
    "    def check_access(self):\n",
    "        # Simulate access control based on user role\n",
    "        if self.user_role == \"admin\":\n",
    "            return True\n",
    "        return False\n",
    "\n",
    "    def access_resource(self):\n",
    "        if self.check_access():\n",
    "            self.real_resource.access_resource()\n",
    "        else:\n",
    "            print(\"Access Denied: Insufficient permissions.\")\n",
    "\n",
    "# Client code\n",
    "admin_user = ResourceProxy(RealResource(\"Sensitive Data\"), \"admin\")\n",
    "admin_user.access_resource()  # Access granted\n",
    "\n",
    "guest_user = ResourceProxy(RealResource(\"Sensitive Data\"), \"guest\")\n",
    "guest_user.access_resource()  # Access denied\n"
   ]
  },
  {
   "cell_type": "markdown",
   "id": "1fdc8821-4814-41e0-9c8a-375a8f994e92",
   "metadata": {},
   "source": []
  },
  {
   "cell_type": "markdown",
   "id": "26145e24-1226-4820-9e63-aabb935c70a2",
   "metadata": {},
   "source": [
    "### 4. Cache Proxy Pattern\n",
    "- Problem:\n",
    "In scenarios where retrieving an object or performing a computation is expensive (e.g., fetching data from a database, performing complex calculations), repeated requests for the same data can result in unnecessary delays and increased load on the system. This can degrade performance and waste resources.\n",
    "\n",
    "- How Cache Proxy Solves It:\n",
    "The Cache Proxy pattern adds a layer that stores previously fetched or computed results in a cache. When the same request is made again, the proxy returns the cached data instead of querying the real object, thereby improving performance and reducing system load. The cache is updated when necessary (e.g., when data changes), ensuring the object remains up-to-date.\n",
    "\n",
    "### Advantages of using Cache Proxy Pattern:\n",
    "- Improved Performance: Returns cached data for repeated requests, significantly reducing the time spent on expensive operations or computations.\n",
    "- Reduced Load: Reduces the number of requests made to the real object or system, minimizing resource consumption.\n",
    "- Faster Response Time: For frequently accessed data, the response time is much faster due to caching, enhancing the user experience.\n",
    "- Efficiency: Saves resources by only fetching or computing data once, reducing redundant operations."
   ]
  },
  {
   "cell_type": "code",
   "execution_count": 3,
   "id": "d3d942aa-cb15-487e-bf29-b0a1dd0d1383",
   "metadata": {},
   "outputs": [
    {
     "name": "stdout",
     "output_type": "stream",
     "text": [
      "Client: Requesting data...\n",
      "Cache Proxy: No cache found. Fetching data...\n",
      "RealSubject: Fetching data from the database...\n",
      "Data: Fetched Data\n",
      "Client: Requesting data...\n",
      "Cache Proxy: Returning cached data...\n",
      "Data: Fetched Data\n"
     ]
    }
   ],
   "source": [
    "# Real Subject (The object responsible for expensive data fetching or computation)\n",
    "class RealSubject:\n",
    "    def fetch_data(self):\n",
    "        print(\"RealSubject: Fetching data from the database...\")\n",
    "        return \"Fetched Data\"\n",
    "\n",
    "# Cache Proxy (Caches results to improve performance)\n",
    "class CacheProxy:\n",
    "    def __init__(self, real_subject):\n",
    "        self._real_subject = real_subject\n",
    "        self._cache = None  # Initially, the cache is empty\n",
    "\n",
    "    def fetch_data(self):\n",
    "        # Return cached data if it exists\n",
    "        if self._cache:\n",
    "            print(\"Cache Proxy: Returning cached data...\")\n",
    "            return self._cache\n",
    "        \n",
    "        # If no cache, fetch data and store it in cache\n",
    "        print(\"Cache Proxy: No cache found. Fetching data...\")\n",
    "        self._cache = self._real_subject.fetch_data()  # Store result in cache\n",
    "        return self._cache\n",
    "\n",
    "# Client code interacting with the proxy\n",
    "class Client:\n",
    "    def request(self, proxy):\n",
    "        print(\"Client: Requesting data...\")\n",
    "        print(f\"Data: {proxy.fetch_data()}\")\n",
    "\n",
    "# Creating instances and using the cache proxy\n",
    "real_subject = RealSubject()\n",
    "proxy = CacheProxy(real_subject)\n",
    "client = Client()\n",
    "\n",
    "# The first request fetches the data (no cache available)\n",
    "client.request(proxy)\n",
    "\n",
    "# The second request returns the cached data\n",
    "client.request(proxy)\n"
   ]
  },
  {
   "cell_type": "code",
   "execution_count": null,
   "id": "907341b2-2377-434c-836f-1180b57d3fab",
   "metadata": {},
   "outputs": [],
   "source": []
  }
 ],
 "metadata": {
  "kernelspec": {
   "display_name": "Python 3 (ipykernel)",
   "language": "python",
   "name": "python3"
  },
  "language_info": {
   "codemirror_mode": {
    "name": "ipython",
    "version": 3
   },
   "file_extension": ".py",
   "mimetype": "text/x-python",
   "name": "python",
   "nbconvert_exporter": "python",
   "pygments_lexer": "ipython3",
   "version": "3.13.0"
  },
  "widgets": {
   "application/vnd.jupyter.widget-state+json": {
    "state": {},
    "version_major": 2,
    "version_minor": 0
   }
  }
 },
 "nbformat": 4,
 "nbformat_minor": 5
}
