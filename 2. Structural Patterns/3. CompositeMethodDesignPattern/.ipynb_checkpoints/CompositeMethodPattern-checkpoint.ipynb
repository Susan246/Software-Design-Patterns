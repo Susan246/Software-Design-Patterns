{
 "cells": [
  {
   "cell_type": "markdown",
   "id": "010012b6-c985-4f3a-8f44-80a0cc403e6f",
   "metadata": {},
   "source": [
    "# Composite Method Design Pattern:"
   ]
  },
  {
   "cell_type": "markdown",
   "id": "f3679890-671e-494c-be7b-b7dc7d80d19f",
   "metadata": {},
   "source": [
    "## Some Use Cases:\n",
    "1. Data Transformation Pipelines:\n",
    "- Use Case: In ETL pipelines, different transformations (e.g., filtering, aggregation, mapping) are often applied to the data. The Composite pattern allows for treating both simple and complex transformations uniformly. Simple transformations like column filtering can be treated as leaves, while complex operations like aggregating and joining multiple datasets can be treated as composites.\n",
    "- Benefit: It simplifies managing complex workflows by treating them in a unified manner, where both simple and composite operations can be added or modified independently.\n",
    "2. Hierarchical Data Processing:\n",
    "- Use Case: When processing hierarchical data structures such as JSON or XML, composite operations can be used to navigate, filter, and aggregate data at different levels. For example, filtering records at the top level while aggregating nested data at lower levels.\n",
    "- Benefit: It enables easier manipulation of nested or hierarchical datasets, as each level can be handled with a combination of leaf and composite operations, making the code more flexible and easier to extend.\n",
    "3. Batch Data Processing:\n",
    "- Use Case: In batch processing systems, where large datasets are processed in chunks, composite operations can be used to execute a series of transformations sequentially. These operations could include reading, filtering, aggregating, and writing data, all managed through a common interface.\n",
    "- Benefit: It allows for managing different data processing tasks in a flexible, modular way, improving code reuse and scalability for complex data transformations."
   ]
  },
  {
   "cell_type": "code",
   "execution_count": null,
   "id": "0e0a952b-99c2-4324-96dd-a1733640a212",
   "metadata": {},
   "outputs": [],
   "source": []
  },
  {
   "cell_type": "markdown",
   "id": "e4ccadc3-3624-428b-ba2d-a5d448ece615",
   "metadata": {},
   "source": [
    "## Scenario: Determining Total Salary\n",
    "- The challenge lies in traversing and calculating salaries for a hierarchical structure (General Manager → Manager → Developer). Without the Composite Method, we have to treat each type of employee (GeneralManager, Manager, Developer) differently, resulting in repetitive code and type checks."
   ]
  },
  {
   "cell_type": "markdown",
   "id": "c8da1eb2-4625-418b-b5f7-f7fb701732d7",
   "metadata": {},
   "source": [
    "## 1. Using Traditional Method"
   ]
  },
  {
   "cell_type": "code",
   "execution_count": 1,
   "id": "a0d70ec3-6d8e-41bb-993d-eae0d7c24ba9",
   "metadata": {},
   "outputs": [
    {
     "name": "stdout",
     "output_type": "stream",
     "text": [
      "Total Salary (Without Composite): 160000\n"
     ]
    }
   ],
   "source": [
    "# Classes for General Manager, Manager, and Developer\n",
    "class GeneralManager:\n",
    "    def __init__(self, name, salary):\n",
    "        self.name = name\n",
    "        self.salary = salary\n",
    "        self.managers = []  # List of managers under this general manager\n",
    "\n",
    "    def add_manager(self, manager):\n",
    "        self.managers.append(manager)\n",
    "\n",
    "class Manager:\n",
    "    def __init__(self, name, salary):\n",
    "        self.name = name\n",
    "        self.salary = salary\n",
    "        self.developers = []  # List of developers under this manager\n",
    "\n",
    "    def add_developer(self, developer):\n",
    "        self.developers.append(developer)\n",
    "\n",
    "class Developer:\n",
    "    def __init__(self, name, salary):\n",
    "        self.name = name\n",
    "        self.salary = salary\n",
    "\n",
    "# Calculating total salary\n",
    "def calculate_total_salary(general_managers):\n",
    "    total_salary = 0\n",
    "\n",
    "    for gm in general_managers:\n",
    "        total_salary += gm.salary  # Add GM's salary\n",
    "        for manager in gm.managers:\n",
    "            total_salary += manager.salary  # Add Manager's salary\n",
    "            for developer in manager.developers:\n",
    "                total_salary += developer.salary  # Add Developer's salary\n",
    "\n",
    "    return total_salary\n",
    "\n",
    "# Example Usage\n",
    "gm1 = GeneralManager(\"GM1\", 50000)\n",
    "mgr1 = Manager(\"Mgr1\", 30000)\n",
    "mgr2 = Manager(\"Mgr2\", 32000)\n",
    "dev1 = Developer(\"Dev1\", 15000)\n",
    "dev2 = Developer(\"Dev2\", 16000)\n",
    "dev3 = Developer(\"Dev3\", 17000)\n",
    "\n",
    "gm1.add_manager(mgr1)\n",
    "gm1.add_manager(mgr2)\n",
    "mgr1.add_developer(dev1)\n",
    "mgr1.add_developer(dev2)\n",
    "mgr2.add_developer(dev3)\n",
    "\n",
    "general_managers = [gm1]\n",
    "print(\"Total Salary (Without Composite):\", calculate_total_salary(general_managers))\n"
   ]
  },
  {
   "cell_type": "markdown",
   "id": "2a0bfd8a-1230-4747-a20a-d51a3a34f20a",
   "metadata": {},
   "source": [
    "### Issues with This Approach:\n",
    "- Tight Coupling: Explicitly checks the type of employee (GeneralManager, Manager, Developer) and handles each differently.\n",
    "- Scalability Issues: If the hierarchy changes or new roles are added, we need to update the logic everywhere.\n",
    "- Code Duplication: Similar salary addition logic for each type of employee.\n",
    "- No Polymorphism: Employees cannot be treated uniformly."
   ]
  },
  {
   "cell_type": "code",
   "execution_count": null,
   "id": "51917776-99aa-490c-bf3b-ee0c964c899a",
   "metadata": {},
   "outputs": [],
   "source": []
  },
  {
   "cell_type": "markdown",
   "id": "1185dd0a-cbad-44bf-83e5-42694eda0f48",
   "metadata": {},
   "source": [
    "## 2. Using Inheritance\n",
    "\n",
    "### Inheritance Solves the following issues:\n",
    "- Shared Attributes: The common attributes name and salary are defined in a base Employee class, eliminating redundancy in each derived class.\n",
    "- Reusability: Common behaviors like get_salary() are implemented once in the Employee class, avoiding the need to redefine them in all subclasses.\n",
    "- Consistency: Any changes to shared attributes or methods only need to be made in the base class, simplifying updates.\n",
    "- Polymorphism: Using a common interface (e.g., Employee) allows treating all employee types uniformly, making it easier to extend and maintain the hierarchy."
   ]
  },
  {
   "cell_type": "code",
   "execution_count": 2,
   "id": "32ad7b6b-8611-4ecd-b5db-6d5ec846d37d",
   "metadata": {},
   "outputs": [
    {
     "name": "stdout",
     "output_type": "stream",
     "text": [
      "Total Salary (Inheritance): 160000\n"
     ]
    }
   ],
   "source": [
    "# Base Class: Employee\n",
    "class Employee:\n",
    "    def __init__(self, name, salary):\n",
    "        self.name = name\n",
    "        self.salary = salary\n",
    "\n",
    "    def get_salary(self):\n",
    "        return self.salary\n",
    "\n",
    "# Derived Classes\n",
    "class GeneralManager(Employee):\n",
    "    def __init__(self, name, salary):\n",
    "        super().__init__(name, salary)\n",
    "        self.managers = []  # Specific to General Manager\n",
    "\n",
    "    def add_manager(self, manager):\n",
    "        self.managers.append(manager)\n",
    "\n",
    "class Manager(Employee):\n",
    "    def __init__(self, name, salary):\n",
    "        super().__init__(name, salary)\n",
    "        self.developers = []  # Specific to Manager\n",
    "\n",
    "    def add_developer(self, developer):\n",
    "        self.developers.append(developer)\n",
    "\n",
    "class Developer(Employee):\n",
    "    pass  # Simple implementation for developers\n",
    "\n",
    "# Total Salary Calculation\n",
    "def calculate_total_salary(general_manager):\n",
    "    total_salary = general_manager.get_salary()\n",
    "\n",
    "    for manager in general_manager.managers:\n",
    "        total_salary += manager.get_salary()\n",
    "        for developer in manager.developers:\n",
    "            total_salary += developer.get_salary()\n",
    "\n",
    "    return total_salary\n",
    "\n",
    "# Example Usage\n",
    "gm1 = GeneralManager(\"GM1\", 50000)\n",
    "mgr1 = Manager(\"Mgr1\", 30000)\n",
    "mgr2 = Manager(\"Mgr2\", 32000)\n",
    "dev1 = Developer(\"Dev1\", 15000)\n",
    "dev2 = Developer(\"Dev2\", 16000)\n",
    "dev3 = Developer(\"Dev3\", 17000)\n",
    "\n",
    "gm1.add_manager(mgr1)\n",
    "gm1.add_manager(mgr2)\n",
    "mgr1.add_developer(dev1)\n",
    "mgr1.add_developer(dev2)\n",
    "mgr2.add_developer(dev3)\n",
    "\n",
    "print(\"Total Salary (Inheritance):\", calculate_total_salary(gm1))\n"
   ]
  },
  {
   "cell_type": "markdown",
   "id": "2a344c88-d5ee-49c7-8d2c-3481e4c83570",
   "metadata": {},
   "source": [
    "### Problems with Inheritance:\n",
    "- Tight Coupling: The calculate_total_salary function depends on the specific class types (GeneralManager, Manager, etc.), making it difficult to extend the hierarchy.\n",
    "- Scalability Issues: Adding new roles like TeamLead would require rewriting the salary calculation logic and extending the class structure."
   ]
  },
  {
   "cell_type": "code",
   "execution_count": null,
   "id": "cac33162-b991-4a8f-88b6-a5d7c3ea7753",
   "metadata": {},
   "outputs": [],
   "source": []
  },
  {
   "cell_type": "markdown",
   "id": "a0e68f31-e067-4673-bffd-37d793b6316b",
   "metadata": {},
   "source": [
    "## 3. Using Composite Design Pattern\n",
    "\n",
    "### Composition Solves Issues as:\n",
    "- Dynamic Structure: Composition allows hierarchies to be built dynamically at runtime.\n",
    "GeneralManagers can contain Managers or Developers, and Managers can also contain Developers or other composites without altering their structure.\n",
    "- Decoupling: The hierarchy is decoupled into reusable components, improving maintainability and extensibility.\n",
    "- Scalability: You can easily add or restructure the hierarchy without changing the overall design.\n",
    "\n",
    "### Components:\n",
    "- Component: Common interface for all objects, defines shared methods.\n",
    "- Leaf: Individual object with no children, implements the Component interface.\n",
    "- Composite: Container for Leaf and other Composite objects, implements Component interface and manages children.\n",
    "- Client: Uses the Component interface to interact with Leaf and Composite objects uniformly."
   ]
  },
  {
   "cell_type": "code",
   "execution_count": 10,
   "id": "8ac6093e-cff3-42cd-817e-6308ff0b8ee2",
   "metadata": {},
   "outputs": [
    {
     "name": "stdout",
     "output_type": "stream",
     "text": [
      "Total Salary (Composite): 61000\n"
     ]
    }
   ],
   "source": [
    "from abc import ABC, abstractmethod\n",
    "\n",
    "# Component: Common interface for all employees\n",
    "class Employee(ABC):\n",
    "    @abstractmethod\n",
    "    def get_salary(self):\n",
    "        pass\n",
    "\n",
    "# Leaf: Developer\n",
    "class Developer(Employee):\n",
    "    def __init__(self, name, salary):\n",
    "        self.name = name\n",
    "        self.salary = salary\n",
    "\n",
    "    def get_salary(self):\n",
    "        return self.salary\n",
    "\n",
    "# Composite: Manager\n",
    "class Manager(Employee):\n",
    "    def __init__(self, name, salary):\n",
    "        self.name = name\n",
    "        self.salary = salary\n",
    "        self.subordinates = []  # Can contain any Employee\n",
    "\n",
    "    def add(self, employee):\n",
    "        self.subordinates.append(employee)\n",
    "\n",
    "    def get_salary(self):\n",
    "        total = self.salary\n",
    "        for subordinate in self.subordinates:\n",
    "            total += subordinate.get_salary()\n",
    "        return total\n",
    "\n",
    "# Example Usage\n",
    "gm = Manager(\"GeneralManager\", 50000)\n",
    "mgr1 = Manager(\"Manager1\", 30000)\n",
    "mgr2 = Manager(\"Manager2\", 32000)\n",
    "dev1 = Developer(\"Developer1\", 15000)\n",
    "dev2 = Developer(\"Developer2\", 16000)\n",
    "dev3 = Developer(\"Developer3\", 17000)\n",
    "\n",
    "gm.add(mgr1)\n",
    "gm.add(mgr2)\n",
    "mgr1.add(dev1)\n",
    "mgr1.add(dev2)\n",
    "mgr2.add(dev3)\n",
    "\n",
    "# Display organization and calculate total salary\n",
    "print(\"Total Salary (Composite):\", mgr1.get_salary())\n"
   ]
  },
  {
   "cell_type": "code",
   "execution_count": null,
   "id": "8213ba7b-e6f9-46ab-98ee-4ca9ceaff273",
   "metadata": {},
   "outputs": [],
   "source": []
  }
 ],
 "metadata": {
  "kernelspec": {
   "display_name": "Python 3 (ipykernel)",
   "language": "python",
   "name": "python3"
  },
  "language_info": {
   "codemirror_mode": {
    "name": "ipython",
    "version": 3
   },
   "file_extension": ".py",
   "mimetype": "text/x-python",
   "name": "python",
   "nbconvert_exporter": "python",
   "pygments_lexer": "ipython3",
   "version": "3.13.0"
  },
  "widgets": {
   "application/vnd.jupyter.widget-state+json": {
    "state": {},
    "version_major": 2,
    "version_minor": 0
   }
  }
 },
 "nbformat": 4,
 "nbformat_minor": 5
}
