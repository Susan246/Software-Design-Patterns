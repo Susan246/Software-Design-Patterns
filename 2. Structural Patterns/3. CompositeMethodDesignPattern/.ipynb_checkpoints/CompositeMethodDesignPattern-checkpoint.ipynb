{
 "cells": [
  {
   "cell_type": "code",
   "execution_count": 1,
   "id": "4cbb73a1-71a9-47a2-8ffc-570ba055ebc9",
   "metadata": {},
   "outputs": [
    {
     "name": "stdout",
     "output_type": "stream",
     "text": [
      "Folder: root\n",
      "Folder: folder1\n",
      "File: file1.txt\n",
      "Folder: folder2\n",
      "File: file2.txt\n"
     ]
    }
   ],
   "source": [
    "\n",
    "# Component (common interface)\n",
    "class FileSystemComponent:\n",
    "    def show(self):\n",
    "        pass\n",
    "\n",
    "# Leaf (File)\n",
    "class File(FileSystemComponent):\n",
    "    def __init__(self, name):\n",
    "        self.name = name\n",
    "\n",
    "    def show(self):\n",
    "        print(f\"File: {self.name}\")\n",
    "\n",
    "# Composite (Folder)\n",
    "class Folder(FileSystemComponent):\n",
    "    def __init__(self, name):\n",
    "        self.name = name\n",
    "        self.children = []\n",
    "\n",
    "    def add(self, component):\n",
    "        self.children.append(component)\n",
    "\n",
    "    def show(self):\n",
    "        print(f\"Folder: {self.name}\")\n",
    "        for child in self.children:\n",
    "            child.show()  # Recursive call on child components\n",
    "\n",
    "# Client Code\n",
    "if __name__ == \"__main__\":\n",
    "    # Create files (leaf nodes)\n",
    "    file1 = File(\"file1.txt\")\n",
    "    file2 = File(\"file2.txt\")\n",
    "\n",
    "    # Create folders (composite nodes)\n",
    "    folder1 = Folder(\"folder1\")\n",
    "    folder2 = Folder(\"folder2\")\n",
    "\n",
    "    # Add files to folders\n",
    "    folder1.add(file1)\n",
    "    folder2.add(file2)\n",
    "\n",
    "    # Create root folder and add other folders to it\n",
    "    root = Folder(\"root\")\n",
    "    root.add(folder1)\n",
    "    root.add(folder2)\n",
    "\n",
    "    # Display everything\n",
    "    root.show()\n"
   ]
  }
 ],
 "metadata": {
  "kernelspec": {
   "display_name": "Python 3 (ipykernel)",
   "language": "python",
   "name": "python3"
  },
  "language_info": {
   "codemirror_mode": {
    "name": "ipython",
    "version": 3
   },
   "file_extension": ".py",
   "mimetype": "text/x-python",
   "name": "python",
   "nbconvert_exporter": "python",
   "pygments_lexer": "ipython3",
   "version": "3.13.0"
  }
 },
 "nbformat": 4,
 "nbformat_minor": 5
}
