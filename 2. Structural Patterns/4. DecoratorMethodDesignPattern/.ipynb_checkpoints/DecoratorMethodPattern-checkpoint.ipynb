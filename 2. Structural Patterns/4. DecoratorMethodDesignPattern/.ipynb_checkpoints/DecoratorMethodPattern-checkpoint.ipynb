{
 "cells": [
  {
   "cell_type": "markdown",
   "id": "657d7ac3-2a72-491b-8d75-eb00ed5afc5f",
   "metadata": {},
   "source": [
    "# Decorator Method Design Pattern"
   ]
  },
  {
   "cell_type": "markdown",
   "id": "43f46c7f-8d80-4233-aefb-6aaa66d22b0c",
   "metadata": {},
   "source": [
    "## Some Use Cases:\n",
    "1. Enhancing Data Processing Pipelines:\n",
    "- Use Case: In data engineering, processing pipelines often need to be enhanced with additional features like logging, validation, or transformation. The Decorator pattern allows wrapping existing pipeline components (like data processors or extractors) with extra functionality without modifying the original code.\n",
    "- Benefit: It provides flexibility in extending or modifying behavior dynamically, allowing new features to be added to the pipeline without altering existing components.\n",
    "2. Data Validation and Transformation:\n",
    "- Use Case: A system that processes raw data might need additional validation or transformation steps (e.g., ensuring data integrity, normalizing data formats). The Decorator pattern can be used to wrap data handling functions or classes with validation or transformation logic, making the system more modular.\n",
    "- Benefit: It promotes reusability and flexibility by allowing validation or transformation logic to be added or removed at runtime, making the system adaptable to various data quality requirements.\n",
    "3. Caching Results for Performance Optimization:\n",
    "- Use Case: In data engineering, performance is crucial, especially when working with large datasets. The Decorator pattern can be used to add caching functionality to data processing functions or classes, where the decorator checks if the data has been processed before and returns the cached result to avoid redundant computation.\n",
    "- Benefit: It helps optimize performance and resource usage by enabling caching mechanisms without changing the underlying logic of the data processing components."
   ]
  },
  {
   "cell_type": "code",
   "execution_count": null,
   "id": "b16ed717-6dfb-4d56-877b-1e7df511ec8f",
   "metadata": {},
   "outputs": [],
   "source": []
  },
  {
   "cell_type": "markdown",
   "id": "0f068ea1-dcc2-4511-ab5b-ed30a410ef41",
   "metadata": {},
   "source": [
    "## Scenario:\n",
    "- Imagine a coffee shop where customers can customize their drinks. The base product is a regular coffee, and customers can choose from a variety of add-ons, such as milk, sugar, or whipped cream, to customize their drink. Each add-on increases the cost of the coffee.\n",
    "\n",
    "- The Base Coffee class represents the basic product (coffee).\n",
    "CoffeeWithMilk, CoffeeWithSugar, CoffeeWithMilkAndSugar, and CoffeeWithWhippedCream are decorators that modify the behavior of the original Coffee object by adding more functionality (increasing the cost)."
   ]
  },
  {
   "cell_type": "markdown",
   "id": "862f6d6b-d618-4601-9d27-7fbf1d3415e2",
   "metadata": {},
   "source": [
    "### Problem Without the Decorator Pattern:\n",
    "- Class Explosion: New behaviors require creating a new subclass each time, leading to many classes to manage.\n",
    "- Inflexibility: Features are fixed in advance; adding or removing them dynamically at runtime is difficult.\n",
    "- Difficult to Extend: Adding new functionality requires modifying or creating new classes, violating the Open/Closed Principle."
   ]
  },
  {
   "cell_type": "code",
   "execution_count": 1,
   "id": "fb809eb7-d6ae-4de7-a089-a83ab6fb4fbb",
   "metadata": {},
   "outputs": [
    {
     "name": "stdout",
     "output_type": "stream",
     "text": [
      "Total cost with milk and sugar: 8\n",
      "Total cost with whipped cream: 8\n"
     ]
    }
   ],
   "source": [
    "# Base Coffee class\n",
    "class Coffee:\n",
    "    def cost(self):\n",
    "        return 5\n",
    "\n",
    "# Adding Milk to Coffee\n",
    "class CoffeeWithMilk(Coffee):\n",
    "    def cost(self):\n",
    "        return super().cost() + 2\n",
    "\n",
    "# Adding Sugar to Coffee\n",
    "class CoffeeWithSugar(Coffee):\n",
    "    def cost(self):\n",
    "        return super().cost() + 1\n",
    "\n",
    "# Adding Milk and Sugar to Coffee (another subclass)\n",
    "class CoffeeWithMilkAndSugar(Coffee):\n",
    "    def cost(self):\n",
    "        return super().cost() + 3\n",
    "\n",
    "# Adding another combination: Coffee with Milk, Sugar, and Whipped Cream\n",
    "class CoffeeWithMilkSugarAndWhippedCream(Coffee):\n",
    "    def cost(self):\n",
    "        return super().cost() + 4\n",
    "\n",
    "# Adding another combination: Coffee with only Whipped Cream\n",
    "class CoffeeWithWhippedCream(Coffee):\n",
    "    def cost(self):\n",
    "        return super().cost() + 3\n",
    "\n",
    "# Usage:\n",
    "coffee_with_milk_and_sugar = CoffeeWithMilkAndSugar()\n",
    "print(\"Total cost with milk and sugar:\", coffee_with_milk_and_sugar.cost())\n",
    "\n",
    "coffee_with_whipped_cream = CoffeeWithWhippedCream()\n",
    "print(\"Total cost with whipped cream:\", coffee_with_whipped_cream.cost())\n"
   ]
  },
  {
   "cell_type": "markdown",
   "id": "3d60324d-6b7d-493f-a7d4-3a7f97f33fcb",
   "metadata": {},
   "source": [
    "### Decorator Pattern Benefits:\n",
    "- No Class Explosion: Adds features dynamically without creating new subclasses.\n",
    "- Flexibility: Mix and match features at runtime without new subclasses.\n",
    "- Open/Closed Principle: Add new features without modifying existing code.\n",
    "- Cleaner Code: Reduces the need for many subclasses by using decorators."
   ]
  },
  {
   "cell_type": "code",
   "execution_count": 3,
   "id": "f2d04f1e-6796-4942-8c1d-851b9142e87e",
   "metadata": {},
   "outputs": [
    {
     "name": "stdout",
     "output_type": "stream",
     "text": [
      "Total cost with milk, sugar, and whipped cream: 11\n",
      "Total cost with milk, sugar: 8\n"
     ]
    }
   ],
   "source": [
    "# Component Interface: Defines common operations for components and decorators.\n",
    "class Coffee:\n",
    "    def cost(self):\n",
    "        raise NotImplementedError(\"Cost method must be implemented by concrete classes.\")\n",
    "\n",
    "# Concrete Component: Basic object implementing the Component interface.\n",
    "# This is the base implementation of coffee with no extra features.\n",
    "class BasicCoffee(Coffee):\n",
    "    def cost(self):\n",
    "        return 5  # Basic cost of coffee without any additions\n",
    "\n",
    "# Decorator: Abstract class adding behavior to the component.\n",
    "class CoffeeDecorator(Coffee):\n",
    "    def __init__(self, coffee):\n",
    "        self._coffee = coffee  # Holds the original coffee object\n",
    "\n",
    "    def cost(self):\n",
    "        return self._coffee.cost()  # Calls the cost method of the original coffee\n",
    "\n",
    "# Concrete Decorator: Adds Milk to the Coffee.\n",
    "class MilkDecorator(CoffeeDecorator):\n",
    "    def cost(self):\n",
    "        return self._coffee.cost() + 2  # Adds cost of milk\n",
    "\n",
    "# Concrete Decorator: Adds Sugar to the Coffee.\n",
    "class SugarDecorator(CoffeeDecorator):\n",
    "    def cost(self):\n",
    "        return self._coffee.cost() + 1  # Adds cost of sugar\n",
    "\n",
    "# Concrete Decorator: Adds Whipped Cream to the Coffee.\n",
    "class WhippedCreamDecorator(CoffeeDecorator):\n",
    "    def cost(self):\n",
    "        return self._coffee.cost() + 3  # Adds cost of whipped cream\n",
    "\n",
    "# Usage:\n",
    "coffee = BasicCoffee()  # Concrete Component: Create a basic coffee\n",
    "coffee_with_milk = MilkDecorator(coffee)  # Add milk to the coffee\n",
    "coffee_with_sugar = SugarDecorator(coffee_with_milk)  # Add sugar to the coffee with milk\n",
    "coffee_with_cream = WhippedCreamDecorator(coffee_with_sugar)  # Add whipped cream to the coffee with milk and sugar\n",
    "\n",
    "# Print the total cost of the coffee\n",
    "print(\"Total cost with milk, sugar, and whipped cream:\", coffee_with_cream.cost())\n",
    "print(\"Total cost with milk, sugar:\", coffee_with_sugar.cost())"
   ]
  },
  {
   "cell_type": "code",
   "execution_count": null,
   "id": "dd008d54-0c1f-419f-8064-f47dc54357a8",
   "metadata": {},
   "outputs": [],
   "source": []
  }
 ],
 "metadata": {
  "kernelspec": {
   "display_name": "Python 3 (ipykernel)",
   "language": "python",
   "name": "python3"
  },
  "language_info": {
   "codemirror_mode": {
    "name": "ipython",
    "version": 3
   },
   "file_extension": ".py",
   "mimetype": "text/x-python",
   "name": "python",
   "nbconvert_exporter": "python",
   "pygments_lexer": "ipython3",
   "version": "3.13.0"
  },
  "widgets": {
   "application/vnd.jupyter.widget-state+json": {
    "state": {},
    "version_major": 2,
    "version_minor": 0
   }
  }
 },
 "nbformat": 4,
 "nbformat_minor": 5
}
