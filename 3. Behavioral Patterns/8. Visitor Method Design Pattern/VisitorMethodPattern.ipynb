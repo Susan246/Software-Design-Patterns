{
 "cells": [
  {
   "cell_type": "markdown",
   "id": "f175c2cd-cace-4b33-a5bb-3093fcc6b0e1",
   "metadata": {},
   "source": [
    "# Visitor Method Design Pattern:"
   ]
  },
  {
   "cell_type": "markdown",
   "id": "e69c7b44-2596-494c-9673-45c96045ac0b",
   "metadata": {},
   "source": [
    "## Some Use Cases:\n",
    "1. Data Processing Pipeline:\n",
    "- Use Case: In data engineering workflows, different types of data (e.g., structured, unstructured) may need different types of processing steps (e.g., filtering, transformation). The Visitor pattern can be used to define operations that are applied to different data elements in the pipeline.\n",
    "- Benefit: It allows you to add new operations without changing the data structure, ensuring that new processing steps can be introduced easily while maintaining existing logic.\n",
    "2. Data Serialization and Deserialization:\n",
    "- Use Case: In distributed data systems, data is often serialized to be transmitted or stored, and deserialized when retrieved. The Visitor pattern can be used to define specific serialization or deserialization operations on various data types or structures.\n",
    "- Benefit: It decouples the data structure from the operation, making it easier to add new formats (e.g., JSON, XML) or adapt to new serialization schemes without modifying existing data structures.\n",
    "3. Complex Data Analytics or Reporting:\n",
    "- Use Case: For reporting or data analytics systems, where various types of analyses (e.g., aggregate, trend analysis) need to be applied to different kinds of data (e.g., tables, time-series, graphs), the Visitor pattern can be used to perform different operations on the data without changing its underlying structure.\n",
    "- Benefit: It simplifies the addition of new analytic operations and ensures that the core data structure remains unchanged, making it easy to extend and maintain the system."
   ]
  },
  {
   "cell_type": "code",
   "execution_count": null,
   "id": "b7f640f7-53ec-419c-942e-44e4d73bfd21",
   "metadata": {},
   "outputs": [],
   "source": []
  },
  {
   "cell_type": "markdown",
   "id": "3457f4e0-13fb-4453-84e7-0ef65bcceb56",
   "metadata": {},
   "source": [
    "## 1. Scenario:\n",
    "- We have an online shopping cart system with items like books, electronics, and clothing. Each item has a name and price. Initially, the system calculates the total price of items. Later, we need to add a discount feature, but the system must remain maintainable and flexible without modifying the core item classes."
   ]
  },
  {
   "cell_type": "markdown",
   "id": "a56fadff-8723-4de0-978c-046bd6c6dd5d",
   "metadata": {},
   "source": [
    "### Our Online Shopping Cart System:"
   ]
  },
  {
   "cell_type": "code",
   "execution_count": 1,
   "id": "e80f47a8-f315-47ab-b353-883fbd35fcb1",
   "metadata": {},
   "outputs": [
    {
     "name": "stdout",
     "output_type": "stream",
     "text": [
      "Total Price: 1600\n"
     ]
    }
   ],
   "source": [
    "# Classes\n",
    "class Item:\n",
    "    def __init__(self, name, price):\n",
    "        self.name = name\n",
    "        self.price = price\n",
    "\n",
    "\n",
    "class Book(Item):\n",
    "    def __init__(self, name, price):\n",
    "        super().__init__(name, price)\n",
    "\n",
    "\n",
    "class Electronics(Item):\n",
    "    def __init__(self, name, price):\n",
    "        super().__init__(name, price)\n",
    "\n",
    "\n",
    "class Clothing(Item):\n",
    "    def __init__(self, name, price):\n",
    "        super().__init__(name, price)\n",
    "\n",
    "\n",
    "# Shopping Cart\n",
    "class ShoppingCart:\n",
    "    def __init__(self):\n",
    "        self.items = []\n",
    "\n",
    "    def add_item(self, item):\n",
    "        self.items.append(item)\n",
    "\n",
    "    def calculate_total(self):\n",
    "        return sum(item.price for item in self.items)\n",
    "\n",
    "\n",
    "# Usage\n",
    "cart = ShoppingCart()\n",
    "cart.add_item(Book(\"Book A\", 300))\n",
    "cart.add_item(Electronics(\"Phone\", 800))\n",
    "cart.add_item(Clothing(\"Jacket\", 500))\n",
    "\n",
    "print(\"Total Price:\", cart.calculate_total())  # Total Price: 1600\n"
   ]
  },
  {
   "cell_type": "code",
   "execution_count": null,
   "id": "81b5017f-6134-46fc-836a-7c58add4c95e",
   "metadata": {},
   "outputs": [],
   "source": []
  },
  {
   "cell_type": "markdown",
   "id": "af6a5a3f-0afd-4703-8e25-b59f3d5bdfae",
   "metadata": {},
   "source": [
    "## Now, Adding Discount Feature:"
   ]
  },
  {
   "cell_type": "markdown",
   "id": "0ffeed87-352f-4061-94a9-7288d8bc7afc",
   "metadata": {},
   "source": [
    "### 1.1 Using Traditional Method:"
   ]
  },
  {
   "cell_type": "code",
   "execution_count": 2,
   "id": "e88a5fb9-6e44-457d-afa3-4b5049d1b5d4",
   "metadata": {},
   "outputs": [
    {
     "name": "stdout",
     "output_type": "stream",
     "text": [
      "Total Price (No Discount): 1600\n",
      "Total Price (With Discount): 1350.0\n"
     ]
    }
   ],
   "source": [
    "# Classes with Discount Logic\n",
    "class Item:\n",
    "    def __init__(self, name, price):\n",
    "        self.name = name\n",
    "        self.price = price\n",
    "\n",
    "    def apply_discount(self):\n",
    "        pass\n",
    "\n",
    "\n",
    "class Book(Item):\n",
    "    def __init__(self, name, price):\n",
    "        super().__init__(name, price)\n",
    "\n",
    "    def apply_discount(self):\n",
    "        return self.price * 0.9  # 10% discount\n",
    "\n",
    "\n",
    "class Electronics(Item):\n",
    "    def __init__(self, name, price):\n",
    "        super().__init__(name, price)\n",
    "\n",
    "    def apply_discount(self):\n",
    "        return self.price * 0.85  # 15% discount\n",
    "\n",
    "\n",
    "class Clothing(Item):\n",
    "    def __init__(self, name, price):\n",
    "        super().__init__(name, price)\n",
    "\n",
    "    def apply_discount(self):\n",
    "        return self.price * 0.8  # 20% discount\n",
    "\n",
    "\n",
    "# Shopping Cart\n",
    "class ShoppingCart:\n",
    "    def __init__(self):\n",
    "        self.items = []\n",
    "\n",
    "    def add_item(self, item):\n",
    "        self.items.append(item)\n",
    "\n",
    "    def calculate_total(self):\n",
    "        return sum(item.price for item in self.items)\n",
    "\n",
    "    def calculate_total_with_discount(self):\n",
    "        return sum(item.apply_discount() for item in self.items)\n",
    "\n",
    "\n",
    "# Usage\n",
    "cart = ShoppingCart()\n",
    "cart.add_item(Book(\"Book A\", 300))\n",
    "cart.add_item(Electronics(\"Phone\", 800))\n",
    "cart.add_item(Clothing(\"Jacket\", 500))\n",
    "\n",
    "print(\"Total Price (No Discount):\", cart.calculate_total())  # Total: 1600\n",
    "print(\"Total Price (With Discount):\", cart.calculate_total_with_discount())  # Total: 1390\n"
   ]
  },
  {
   "cell_type": "markdown",
   "id": "ab14e592-1cc5-4ef8-a7ba-0e7f7a5ea9c5",
   "metadata": {},
   "source": [
    "### Issues with Traditional Method:\n",
    "- Violation of Open/Closed Principle: To add or modify features like discounts, tax calculations, or promotions, item classes (Book, Electronics, Clothing) need to be altered.This makes the system less maintainable and harder to extend.\n",
    "- Scattered Logic: Discount logic is distributed across multiple item classes, leading to code duplication and inconsistency.\n",
    "- Tight Coupling: Item classes are tightly coupled with specific operations (discounts), which mixes core functionality (e.g., price) with behavior.\n",
    "- Difficult Feature Addition: Adding new features like tax or promotions requires changes in multiple places, increasing the risk of bugs and regressions.\n",
    "- Reduced Reusability: Discount logic cannot be reused elsewhere without duplicating code or creating workarounds"
   ]
  },
  {
   "cell_type": "code",
   "execution_count": null,
   "id": "78f4210e-d3a2-4145-b16e-dc1e33b93dfb",
   "metadata": {},
   "outputs": [],
   "source": []
  },
  {
   "cell_type": "markdown",
   "id": "33524f36-c4fb-48c4-b6b1-fba61042429e",
   "metadata": {},
   "source": [
    "### 1.2 Using Visitor Method Pattern:"
   ]
  },
  {
   "cell_type": "markdown",
   "id": "364adbf6-33b0-4a60-99e2-2a8522f1ed6a",
   "metadata": {},
   "source": [
    "### Components of Visitor Pattern:\n",
    "- Visitor Interface: Declares operations for all item types.\n",
    "- Concrete Visitors: Implements specific operations like calculating totals or applying discounts.\n",
    "- Element Interface: Declares the accept method to allow visitors to operate on items.\n",
    "- Concrete Elements: Represents different item types (e.g., books, electronics).\n"
   ]
  },
  {
   "cell_type": "code",
   "execution_count": 3,
   "id": "b2c4a5ba-ee7a-44b0-9a19-2ed3fbcf5903",
   "metadata": {},
   "outputs": [
    {
     "name": "stdout",
     "output_type": "stream",
     "text": [
      "Total Price (No Discount): 1600\n",
      "Total Price (With Discount): 1350.0\n"
     ]
    }
   ],
   "source": [
    "# Visitor Interface\n",
    "class Visitor:\n",
    "    def visit(self, item):\n",
    "        pass\n",
    "\n",
    "\n",
    "# Concrete Visitor for Discount\n",
    "class DiscountVisitor(Visitor):\n",
    "    def visit(self, item):\n",
    "        if isinstance(item, Book):\n",
    "            return item.price * 0.9  # 10% discount\n",
    "        elif isinstance(item, Electronics):\n",
    "            return item.price * 0.85  # 15% discount\n",
    "        elif isinstance(item, Clothing):\n",
    "            return item.price * 0.8  # 20% discount\n",
    "        else:\n",
    "            return item.price\n",
    "\n",
    "\n",
    "# Element interface\n",
    "class Item:\n",
    "    def __init__(self, name, price):\n",
    "        self.name = name\n",
    "        self.price = price\n",
    "\n",
    "    def accept(self, visitor):\n",
    "        return visitor.visit(self)\n",
    "\n",
    "\n",
    "# Concrete Elements\n",
    "class Book(Item):\n",
    "    def __init__(self, name, price):\n",
    "        super().__init__(name, price)\n",
    "\n",
    "\n",
    "class Electronics(Item):\n",
    "    def __init__(self, name, price):\n",
    "        super().__init__(name, price)\n",
    "\n",
    "\n",
    "class Clothing(Item):\n",
    "    def __init__(self, name, price):\n",
    "        super().__init__(name, price)\n",
    "\n",
    "\n",
    "# Shopping Cart\n",
    "class ShoppingCart:\n",
    "    def __init__(self):\n",
    "        self.items = []\n",
    "\n",
    "    def add_item(self, item):\n",
    "        self.items.append(item)\n",
    "\n",
    "    def calculate_total(self):\n",
    "        return sum(item.price for item in self.items)\n",
    "\n",
    "    def calculate_total_with_discount(self, visitor):\n",
    "        return sum(item.accept(visitor) for item in self.items)\n",
    "\n",
    "\n",
    "# Usage\n",
    "cart = ShoppingCart()\n",
    "cart.add_item(Book(\"Book A\", 300))\n",
    "cart.add_item(Electronics(\"Phone\", 800))\n",
    "cart.add_item(Clothing(\"Jacket\", 500))\n",
    "\n",
    "discount_visitor = DiscountVisitor()\n",
    "\n",
    "print(\"Total Price (No Discount):\", cart.calculate_total())  # Total: 1600\n",
    "print(\"Total Price (With Discount):\", cart.calculate_total_with_discount(discount_visitor))  # Total: 1390\n"
   ]
  },
  {
   "cell_type": "markdown",
   "id": "831ee4f9-f993-4e24-b8fa-1fd735bd59d5",
   "metadata": {},
   "source": [
    "### How the Visitor Pattern Solves These Issues:\n",
    "- Adheres to Open/Closed Principle: New operations (e.g., discounts, taxes) can be added as separate visitor classes without modifying item classes.\n",
    "- Centralized Logic: Visitor consolidates behavior in one place, avoiding scattered and duplicated code.\n",
    "- Decoupling: Item classes only focus on core attributes (name and price), while the visitor handles additional features.\n",
    "- Scalable for New Features: Easily extendable for new features by adding a new visitor class (e.g., TaxVisitor), keeping the system modular and maintainable.\n",
    "- Reusability: Visitors are standalone classes and can be reused across different systems or scenarios.\n",
    "- Improved Maintenance: Centralized feature logic in visitor classes simplifies debugging and testing."
   ]
  },
  {
   "cell_type": "code",
   "execution_count": null,
   "id": "2db0475e-86c7-426b-8056-8e2f48c9a820",
   "metadata": {},
   "outputs": [],
   "source": []
  }
 ],
 "metadata": {
  "kernelspec": {
   "display_name": "Python 3 (ipykernel)",
   "language": "python",
   "name": "python3"
  },
  "language_info": {
   "codemirror_mode": {
    "name": "ipython",
    "version": 3
   },
   "file_extension": ".py",
   "mimetype": "text/x-python",
   "name": "python",
   "nbconvert_exporter": "python",
   "pygments_lexer": "ipython3",
   "version": "3.13.0"
  },
  "widgets": {
   "application/vnd.jupyter.widget-state+json": {
    "state": {},
    "version_major": 2,
    "version_minor": 0
   }
  }
 },
 "nbformat": 4,
 "nbformat_minor": 5
}
