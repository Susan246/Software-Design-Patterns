{
 "cells": [
  {
   "cell_type": "markdown",
   "id": "63d1c494-3f49-4da4-aaa8-ec6a615345bf",
   "metadata": {},
   "source": [
    "# Observer Method Design Pattern:"
   ]
  },
  {
   "cell_type": "markdown",
   "id": "934c3b19-9df5-4b5c-ac53-a423a75cfa92",
   "metadata": {},
   "source": [
    "## Some Use Cases:\n",
    "1. Real-Time Data Analytics Dashboards:\n",
    "- Use Case: In a data analytics platform, where multiple subscribers (dashboards) need to receive real-time updates whenever new data is ingested or processed (e.g., stock prices, sensor data, or website traffic).\n",
    "- Benefit: The Observer pattern ensures that all interested subscribers (dashboards) automatically receive updates whenever there is new data, without requiring complex polling mechanisms.\n",
    "2. Event-Driven Data Pipelines:\n",
    "- Use Case: For event-driven architectures, such as data streaming platforms (e.g., Apache Kafka, RabbitMQ), where multiple systems (subscribers) need to respond to data events (e.g., new data uploaded to a cloud storage or a new data processing trigger).\n",
    "- Benefit: The Observer pattern decouples the event producers from the consumers, making it easy to add new subscribers and scale the system without modifying the core logic.\n",
    "3. Data Consistency Across Distributed Systems:\n",
    "- Use Case: In distributed data systems, where different services need to be informed of changes in shared data (e.g., database updates, data syncing across multiple microservices).\n",
    "- Benefit: The Observer pattern allows all services to stay updated in real-time when the data changes, ensuring consistency across systems while maintaining loose coupling between services."
   ]
  },
  {
   "cell_type": "code",
   "execution_count": null,
   "id": "0d79b0b4-5d6d-45ec-be1a-37452abe9b84",
   "metadata": {},
   "outputs": [],
   "source": []
  },
  {
   "cell_type": "markdown",
   "id": "db0e9e55-3426-4edb-a01d-89db1a76c354",
   "metadata": {},
   "source": [
    "### Components of Observer Method Pattern:\n",
    "- Subject (Observable): Maintains a list of observers and notifies them of state changes.\n",
    "- Observer: Interface or abstract class with an update() method to receive notifications.\n",
    "- ConcreteSubject: A concrete implementation of the subject that manages state and notifies observers.\n",
    "- ConcreteObserver: A concrete implementation of the observer that reacts to changes from the subject."
   ]
  },
  {
   "cell_type": "markdown",
   "id": "fbf1d1aa-3350-4f98-895f-317abc002f40",
   "metadata": {},
   "source": [
    "## 1. Scenario: Weather Data Updates\n",
    "- Imagine a weather station system that monitors temperature and humidity and needs to notify multiple devices (e.g., phone display, web display) whenever the data changes. Each device should reflect the updated weather data in real-time."
   ]
  },
  {
   "cell_type": "markdown",
   "id": "b443ba15-ca07-4987-bce2-f5eeb49cf224",
   "metadata": {},
   "source": [
    "### 1.1 Observer Method Pattern (pull approach):\n"
   ]
  },
  {
   "cell_type": "code",
   "execution_count": 10,
   "id": "12b93fb6-90b0-454b-a2f9-619562cfed2f",
   "metadata": {},
   "outputs": [
    {
     "name": "stdout",
     "output_type": "stream",
     "text": [
      "Phone Display - Temp: 25°C, Humidity: 60%\n",
      "Web Display - Temp: 25°C, Humidity: 60%\n"
     ]
    }
   ],
   "source": [
    "# 1. Subject Interface\n",
    "class Subject:\n",
    "    def add_observer(self, observer):\n",
    "        pass\n",
    "    \n",
    "    def remove_observer(self, observer):\n",
    "        pass\n",
    "    \n",
    "    def get_weather_data(self):\n",
    "        pass\n",
    "\n",
    "# 2. ConcreteSubject\n",
    "class WeatherStation(Subject):\n",
    "    def __init__(self):\n",
    "        self.temperature = 0\n",
    "        self.humidity = 0\n",
    "    \n",
    "    def set_temperature(self, temp):\n",
    "        self.temperature = temp\n",
    "\n",
    "    def set_humidity(self, humidity):\n",
    "        self.humidity = humidity\n",
    "\n",
    "    def get_weather_data(self):\n",
    "        # Devices must call this method to pull the data manually\n",
    "        return self.temperature, self.humidity\n",
    "\n",
    "# 3. Observer Interface\n",
    "class Observer:\n",
    "    def request_data(self, weather_station):\n",
    "        pass\n",
    "\n",
    "# 4. ConcreteObservers\n",
    "class PhoneDisplay(Observer):\n",
    "    def request_data(self, weather_station):\n",
    "        temp, humidity = weather_station.get_weather_data()\n",
    "        print(f\"Phone Display - Temp: {temp}°C, Humidity: {humidity}%\")\n",
    "\n",
    "class WebDisplay(Observer):\n",
    "    def request_data(self, weather_station):\n",
    "        temp, humidity = weather_station.get_weather_data()\n",
    "        print(f\"Web Display - Temp: {temp}°C, Humidity: {humidity}%\")\n",
    "\n",
    "# 5. Example Usage:\n",
    "weather_station = WeatherStation()\n",
    "\n",
    "# Create observers (devices)\n",
    "phone_display = PhoneDisplay()\n",
    "web_display = WebDisplay()\n",
    "\n",
    "# Simulate data change\n",
    "weather_station.set_temperature(25)\n",
    "weather_station.set_humidity(60)\n",
    "\n",
    "# Devices need to manually request the data\n",
    "phone_display.request_data(weather_station)\n",
    "web_display.request_data(weather_station)\n"
   ]
  },
  {
   "cell_type": "markdown",
   "id": "dcdd64fc-f4c3-46a3-baef-7a78be4fcf31",
   "metadata": {},
   "source": [
    "### Problems with the Pull Approach in this Scenario:\n",
    "- Manual Polling: Devices have to manually ask the WeatherStation for updates, leading to inefficiency.\n",
    "- Inconsistent Updates: Devices may request data at different times, leading to outdated or inconsistent information.\n",
    "- Lack of Real-Time Updates: Devices only get updates when they explicitly request them, not in real-time."
   ]
  },
  {
   "cell_type": "markdown",
   "id": "d95da4ab-c004-4b10-b393-1d6ec81e6977",
   "metadata": {},
   "source": [
    "### 1.2 Using Observer Method Design Pattern:"
   ]
  },
  {
   "cell_type": "code",
   "execution_count": 11,
   "id": "1221dff2-6036-4bed-88d2-62783c70da06",
   "metadata": {},
   "outputs": [
    {
     "name": "stdout",
     "output_type": "stream",
     "text": [
      "Phone Display - Temp: 25°C, Humidity: 0%\n",
      "Web Display - Temp: 25°C, Humidity: 0%\n",
      "Phone Display - Temp: 25°C, Humidity: 60%\n",
      "Web Display - Temp: 25°C, Humidity: 60%\n",
      "Web Display - Temp: 30°C, Humidity: 60%\n",
      "Web Display - Temp: 30°C, Humidity: 70%\n"
     ]
    }
   ],
   "source": [
    "from abc import ABC, abstractmethod\n",
    "\n",
    "# 1. Subject Interface\n",
    "class Subject(ABC):\n",
    "    @abstractmethod\n",
    "    def add_observer(self, observer):\n",
    "        pass\n",
    "\n",
    "    @abstractmethod\n",
    "    def remove_observer(self, observer):\n",
    "        pass\n",
    "\n",
    "    @abstractmethod\n",
    "    def notify_observers(self):\n",
    "        pass\n",
    "\n",
    "# 2. ConcreteSubject\n",
    "class WeatherStation(Subject):\n",
    "    def __init__(self):\n",
    "        self.temperature = 0\n",
    "        self.humidity = 0\n",
    "        self.observers = []  # List of observers to notify\n",
    "\n",
    "    def add_observer(self, observer):\n",
    "        self.observers.append(observer)\n",
    "\n",
    "    def remove_observer(self, observer):\n",
    "        self.observers.remove(observer)\n",
    "\n",
    "    def notify_observers(self):\n",
    "        # Push updates to all observers\n",
    "        for observer in self.observers:\n",
    "            observer.update(self.temperature, self.humidity)\n",
    "\n",
    "    def set_temperature(self, temp):\n",
    "        self.temperature = temp\n",
    "        self.notify_observers()  # Notify all observers (push update)\n",
    "\n",
    "    def set_humidity(self, humidity):\n",
    "        self.humidity = humidity\n",
    "        self.notify_observers()  # Notify all observers (push update)\n",
    "\n",
    "# 3. Observer Interface\n",
    "class Observer(ABC):\n",
    "    @abstractmethod\n",
    "    def update(self, temperature, humidity):\n",
    "        pass\n",
    "\n",
    "# 4. ConcreteObservers\n",
    "class PhoneDisplay(Observer):\n",
    "    def update(self, temperature, humidity):\n",
    "        print(f\"Phone Display - Temp: {temperature}°C, Humidity: {humidity}%\")\n",
    "\n",
    "class WebDisplay(Observer):\n",
    "    def update(self, temperature, humidity):\n",
    "        print(f\"Web Display - Temp: {temperature}°C, Humidity: {humidity}%\")\n",
    "\n",
    "# 5. Example Usage:\n",
    "weather_station = WeatherStation()\n",
    "\n",
    "# Create observers (devices)\n",
    "phone_display = PhoneDisplay()\n",
    "web_display = WebDisplay()\n",
    "\n",
    "# Register observers to the weather station\n",
    "weather_station.add_observer(phone_display)\n",
    "weather_station.add_observer(web_display)\n",
    "\n",
    "# Simulate weather data change\n",
    "weather_station.set_temperature(25)  # Push update to all observers\n",
    "weather_station.set_humidity(60)\n",
    "\n",
    "# Remove an observer and simulate another change\n",
    "weather_station.remove_observer(phone_display)\n",
    "weather_station.set_temperature(30)  # Only WebDisplay will receive this update\n",
    "weather_station.set_humidity(70)\n"
   ]
  },
  {
   "cell_type": "markdown",
   "id": "10ad6a99-f6d8-454f-be78-a051da58eccf",
   "metadata": {},
   "source": [
    "### How the Push Approach Solves the Problem:\n",
    "- Automatic Updates: The WeatherStation (ConcreteSubject) automatically notifies all registered observers (devices) when the data changes, without needing manual requests.\n",
    "- Real-Time Updates: Devices get updated data as soon as it changes, ensuring real-time synchronization.\n",
    "- Consistency: All observers get the same data at the same time, ensuring consistency across devices.\n",
    "- Efficient: No need for devices to manually check for updates, which saves resources and ensures timely updates."
   ]
  },
  {
   "cell_type": "code",
   "execution_count": null,
   "id": "f10d1960-4b2f-4091-b1f3-4278108c8278",
   "metadata": {},
   "outputs": [],
   "source": []
  },
  {
   "cell_type": "markdown",
   "id": "40f9ec88-fd5a-4c94-8d46-a82b7bbed775",
   "metadata": {},
   "source": [
    "## 2. Scenario: Stock Price Updates\n",
    "- Imagine a stock market application where multiple users (observers) track the price of a particular stock. These users only want to receive updates when they check for new data (i.e., \"pull\" the data) instead of receiving automatic updates all the time. This is useful in scenarios where the price might change frequently, and the observer doesn’t need every update, but only when it actively asks for the information. This avoids overwhelming the observer with too many updates.\n",
    "\n"
   ]
  },
  {
   "cell_type": "markdown",
   "id": "09970056-7d94-431c-b71e-154f6df5fbb6",
   "metadata": {},
   "source": [
    "### 2.1 Traditional Observer Pattern (Push Model):\n",
    "- In the traditional observer pattern (push model), the subject automatically notifies all observers when the stock price changes, regardless of whether the observer needs the update. This might be inefficient, especially if the observers do not need constant updates."
   ]
  },
  {
   "cell_type": "code",
   "execution_count": 4,
   "id": "e9c1a5f3-77df-4453-9531-0c526812b2c8",
   "metadata": {},
   "outputs": [
    {
     "name": "stdout",
     "output_type": "stream",
     "text": [
      "User1 received stock price update: 105\n",
      "User2 received stock price update: 105\n",
      "User1 received stock price update: 110\n",
      "User2 received stock price update: 110\n"
     ]
    }
   ],
   "source": [
    "# Subject class\n",
    "class StockPrice:\n",
    "    def __init__(self):\n",
    "        self.price = 100\n",
    "        self.observers = []\n",
    "\n",
    "    def add_observer(self, observer):\n",
    "        self.observers.append(observer)\n",
    "\n",
    "    def remove_observer(self, observer):\n",
    "        self.observers.remove(observer)\n",
    "\n",
    "    def notify_observers(self):\n",
    "        # Push model: Notify all observers whenever price changes\n",
    "        for observer in self.observers:\n",
    "            observer.update(self.price)\n",
    "\n",
    "    def set_price(self, new_price):\n",
    "        self.price = new_price\n",
    "        self.notify_observers()\n",
    "\n",
    "# Observer interface\n",
    "class Observer:\n",
    "    def update(self, price):\n",
    "        pass\n",
    "\n",
    "# Concrete observer classes\n",
    "class User1(Observer):\n",
    "    def update(self, price):\n",
    "        print(f\"User1 received stock price update: {price}\")\n",
    "\n",
    "class User2(Observer):\n",
    "    def update(self, price):\n",
    "        print(f\"User2 received stock price update: {price}\")\n",
    "\n",
    "# Example usage\n",
    "stock_price = StockPrice()\n",
    "user1 = User1()\n",
    "user2 = User2()\n",
    "\n",
    "stock_price.add_observer(user1)\n",
    "stock_price.add_observer(user2)\n",
    "\n",
    "# Stock price updates\n",
    "stock_price.set_price(105)\n",
    "stock_price.set_price(110)\n"
   ]
  },
  {
   "cell_type": "markdown",
   "id": "e19f116b-44af-4aaf-ace2-f549a51e77e5",
   "metadata": {},
   "source": [
    "### Problem with Push Model:\n",
    "- Observers receive updates every time the stock price changes, which might not be necessary if they aren't interested in all changes.\n",
    "It can lead to inefficiency, especially if the stock price changes rapidly.\n",
    "If the number of observers grows, the subject might overload observers with too many updates.\n"
   ]
  },
  {
   "cell_type": "markdown",
   "id": "3d4e79b6-3bcd-43c1-bc7b-36b27f81f8b5",
   "metadata": {},
   "source": [
    "### 2.2 Pull Model (Observer Pattern):\n",
    "- In the pull model of the observer pattern, the observer controls when to check for updates. The subject doesn’t automatically notify the observers when its state changes; instead, observers \"pull\" the latest state when they need it. This reduces unnecessary updates and minimizes the load on both the subject and observers."
   ]
  },
  {
   "cell_type": "code",
   "execution_count": 6,
   "id": "f443f3d2-d923-4f3c-8f9b-7c750f918720",
   "metadata": {},
   "outputs": [
    {
     "name": "stdout",
     "output_type": "stream",
     "text": [
      "User1 pulled stock price: 100\n",
      "User2 pulled stock price: 100\n",
      "User1 pulled stock price: 105\n",
      "User2 pulled stock price: 105\n"
     ]
    }
   ],
   "source": [
    "# Subject class\n",
    "class StockPrice:\n",
    "    def __init__(self):\n",
    "        self.price = 100\n",
    "        self.observers = []\n",
    "\n",
    "    def add_observer(self, observer):\n",
    "        self.observers.append(observer)\n",
    "\n",
    "    def remove_observer(self, observer):\n",
    "        self.observers.remove(observer)\n",
    "\n",
    "    # No automatic notifications, observers will pull the price when needed\n",
    "    def get_price(self):\n",
    "        return self.price\n",
    "\n",
    "# Observer interface\n",
    "class Observer:\n",
    "    def check_for_update(self, stock_price):\n",
    "        pass\n",
    "\n",
    "# Concrete observer classes\n",
    "class User1(Observer):\n",
    "    def check_for_update(self, stock_price):\n",
    "        print(f\"User1 pulled stock price: {stock_price.get_price()}\")\n",
    "\n",
    "class User2(Observer):\n",
    "    def check_for_update(self, stock_price):\n",
    "        print(f\"User2 pulled stock price: {stock_price.get_price()}\")\n",
    "\n",
    "# Example usage\n",
    "stock_price = StockPrice()\n",
    "user1 = User1()\n",
    "user2 = User2()\n",
    "\n",
    "stock_price.add_observer(user1)\n",
    "stock_price.add_observer(user2)\n",
    "\n",
    "# User1 and User2 only pull the price when they want it, avoiding automatic updates\n",
    "user1.check_for_update(stock_price)\n",
    "user2.check_for_update(stock_price)\n",
    "\n",
    "# Stock price updates\n",
    "stock_price.price = 105  # Price changed but no automatic notification\n",
    "\n",
    "# Users pull the latest price when needed\n",
    "user1.check_for_update(stock_price)\n",
    "user2.check_for_update(stock_price)\n"
   ]
  },
  {
   "cell_type": "markdown",
   "id": "bafa4976-4aa3-473f-9816-a9a2fd1b6dda",
   "metadata": {},
   "source": [
    "### How the Pull Model Solves the Problem:\n",
    "- Decoupling Updates: The observers only pull updates when they need them, rather than being pushed updates constantly.\n",
    "- Efficiency: This avoids overwhelming the observers with constant updates, especially if the stock price fluctuates frequently.\n",
    "- Control: Observers have control over when they want to check the stock price, making the system more efficient, especially when there are many observers.\n",
    "- Reduces Load: The subject (stock price) doesn't need to worry about notifying multiple observers every time the price changes, leading to a lighter load.\n"
   ]
  }
 ],
 "metadata": {
  "kernelspec": {
   "display_name": "Python 3 (ipykernel)",
   "language": "python",
   "name": "python3"
  },
  "language_info": {
   "codemirror_mode": {
    "name": "ipython",
    "version": 3
   },
   "file_extension": ".py",
   "mimetype": "text/x-python",
   "name": "python",
   "nbconvert_exporter": "python",
   "pygments_lexer": "ipython3",
   "version": "3.13.0"
  },
  "widgets": {
   "application/vnd.jupyter.widget-state+json": {
    "state": {},
    "version_major": 2,
    "version_minor": 0
   }
  }
 },
 "nbformat": 4,
 "nbformat_minor": 5
}
