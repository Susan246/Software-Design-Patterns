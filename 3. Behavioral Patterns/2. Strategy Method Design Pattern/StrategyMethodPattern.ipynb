{
 "cells": [
  {
   "cell_type": "markdown",
   "id": "b4b021b5-2b3d-4b4d-bbe1-bab6eea29c70",
   "metadata": {},
   "source": [
    "# Strategy Method Design Pattern:"
   ]
  },
  {
   "cell_type": "markdown",
   "id": "09792ff8-fbd7-4f7f-8be1-b6fa321062ed",
   "metadata": {},
   "source": [
    "## Some Use Cases:\n",
    "1. Dynamic Data Transformation:\n",
    "- Use Case: In data engineering pipelines, where different types of data transformation (e.g., aggregation, filtering, normalization) need to be applied based on the context or user inputs, the Strategy pattern can enable dynamic selection of the transformation logic.\n",
    "- Benefit: The Strategy pattern allows the system to easily swap transformation strategies at runtime, providing flexibility and efficiency in handling different data processing requirements without modifying the core logic.\n",
    "2. Choosing Data Storage Options:\n",
    "- Use Case: When processing and storing data, the Strategy pattern can be used to select the appropriate storage solution (e.g., relational databases, NoSQL stores, file-based storage) based on the type of data, size, and access frequency.\n",
    "- Benefit: The Strategy pattern enables a system to dynamically choose the best storage option at runtime, optimizing performance and resource utilization based on varying conditions.\n",
    "3. Optimizing Data Querying Approaches:\n",
    "- Use Case: For complex systems that query data from different sources (e.g., SQL, NoSQL, or graph databases), the Strategy pattern can help in choosing the best querying strategy based on the data structure and query complexity.\n",
    "- Benefit: The Strategy pattern allows the system to dynamically select the most appropriate query method depending on the data store being used, ensuring efficient and optimized data retrieval across different systems."
   ]
  },
  {
   "cell_type": "code",
   "execution_count": null,
   "id": "7e8bde49-d12a-4131-828e-11613b62ae2f",
   "metadata": {},
   "outputs": [],
   "source": []
  },
  {
   "cell_type": "markdown",
   "id": "84dd9f58-de6a-4e20-a3c9-ad888594969b",
   "metadata": {},
   "source": [
    "## 1. Scenario: Payment System\n",
    "- A shopping application allows users to pay using Credit Card, eSewa, and Cash. The system should be flexible to add new payment methods in the future and allow switching between payment methods dynamically at runtime."
   ]
  },
  {
   "cell_type": "markdown",
   "id": "52aba14d-4a43-401a-a0d7-eb03c58610a1",
   "metadata": {},
   "source": [
    "### 1.1 Solution Using Traditional Method:"
   ]
  },
  {
   "cell_type": "code",
   "execution_count": 1,
   "id": "a1602d5b-5699-4a8e-94f8-95e8dfc94afe",
   "metadata": {},
   "outputs": [
    {
     "name": "stdout",
     "output_type": "stream",
     "text": [
      "Paid 500 using Credit Card.\n",
      "Paid 500 using eSewa.\n",
      "Paid 500 in Cash.\n"
     ]
    }
   ],
   "source": [
    "# Handling Payment Logic\n",
    "class PaymentProcessor:\n",
    "    def process_payment(self, payment_method, amount):\n",
    "        if payment_method == \"CreditCard\":\n",
    "            print(f\"Paid {amount} using Credit Card.\")\n",
    "        elif payment_method == \"eSewa\":\n",
    "            print(f\"Paid {amount} using eSewa.\")\n",
    "        elif payment_method == \"Cash\":\n",
    "            print(f\"Paid {amount} in Cash.\")\n",
    "        else:\n",
    "            print(\"Invalid payment method.\")\n",
    "\n",
    "# Client\n",
    "if __name__ == \"__main__\":\n",
    "    amount = 500\n",
    "    processor = PaymentProcessor()\n",
    "\n",
    "    # Pay using different methods\n",
    "    processor.process_payment(\"CreditCard\", amount) \n",
    "    processor.process_payment(\"eSewa\", amount)       \n",
    "    processor.process_payment(\"Cash\", amount)        "
   ]
  },
  {
   "cell_type": "markdown",
   "id": "7a309c36-9012-4951-a46d-cc50a211ec6f",
   "metadata": {},
   "source": [
    "### Problems with Traditional Approach:\n",
    "- Violation of Open/Closed Principle: Adding a new payment method (e.g., mobile banking) requires modifying the process_payment method.\n",
    "- Tightly Coupled Code: All payment logic is in one class, making it hard to maintain or test.\n",
    "- Scalability Issues: Adding more payment methods increases the size and complexity of the process_payment method."
   ]
  },
  {
   "cell_type": "code",
   "execution_count": null,
   "id": "7bd03de0-0647-443a-b0ad-8a030c8e7982",
   "metadata": {},
   "outputs": [],
   "source": []
  },
  {
   "cell_type": "markdown",
   "id": "949a120f-53f7-44c7-85f4-5379c9b87f77",
   "metadata": {},
   "source": [
    "### 1.2 Solution Using Strategy Pattern"
   ]
  },
  {
   "cell_type": "markdown",
   "id": "734e24af-cc46-4d57-b2ea-79bc1eda609d",
   "metadata": {},
   "source": [
    "### Components of Strategy Pattern:\n",
    "1. Context: It manages the strategy and represent the system itself.\n",
    "2. Strategy Interface: Defines a common method all strategies must follow.\n",
    "3. Concrete Strategies: Actual implementations of the strategy interface.\n",
    "4. Client: Chooses and sets the strategy for the context."
   ]
  },
  {
   "cell_type": "code",
   "execution_count": 2,
   "id": "1e2a97de-85cc-4c40-b054-2984268952d0",
   "metadata": {},
   "outputs": [
    {
     "name": "stdout",
     "output_type": "stream",
     "text": [
      "Paid 500 using Credit Card.\n",
      "Paid 500 using eSewa.\n",
      "Paid 500 in Cash.\n"
     ]
    }
   ],
   "source": [
    "from abc import ABC, abstractmethod\n",
    "\n",
    "# 1. Strategy Interface\n",
    "class PaymentStrategy(ABC):  \n",
    "    @abstractmethod\n",
    "    def pay(self, amount):\n",
    "        pass\n",
    "\n",
    "# 2. Concrete Strategies\n",
    "class CreditCardPayment(PaymentStrategy):\n",
    "    def pay(self, amount):\n",
    "        print(f\"Paid {amount} using Credit Card.\")\n",
    "\n",
    "class eSewaPayment(PaymentStrategy):\n",
    "    def pay(self, amount):\n",
    "        print(f\"Paid {amount} using eSewa.\")\n",
    "\n",
    "class CashPayment(PaymentStrategy):\n",
    "    def pay(self, amount):\n",
    "        print(f\"Paid {amount} in Cash.\")\n",
    "\n",
    "# 3. Context\n",
    "class PaymentContext:\n",
    "    def __init__(self, strategy: PaymentStrategy):  # Holds a payment strategy\n",
    "        self.strategy = strategy\n",
    "\n",
    "    def set_strategy(self, strategy: PaymentStrategy):  # Allows dynamic strategy change\n",
    "        self.strategy = strategy\n",
    "\n",
    "    def execute_payment(self, amount):  # Delegates payment logic to the current strategy\n",
    "        self.strategy.pay(amount)\n",
    "\n",
    "# 4. Client: Configures the context with a specific strategy\n",
    "if __name__ == \"__main__\":\n",
    "    amount = 500\n",
    "\n",
    "    # Create strategy instances\n",
    "    credit_card_payment = CreditCardPayment()  \n",
    "    esewa_payment = eSewaPayment()            \n",
    "    cash_payment = CashPayment()              \n",
    "\n",
    "    # Configure context with Credit Card payment\n",
    "    payment_context = PaymentContext(credit_card_payment) \n",
    "    payment_context.execute_payment(amount)  \n",
    "    \n",
    "    # Switch strategy to eSewa\n",
    "    payment_context.set_strategy(esewa_payment)\n",
    "    payment_context.execute_payment(amount)  \n",
    "\n",
    "    # Switch strategy to Cash\n",
    "    payment_context.set_strategy(cash_payment)\n",
    "    payment_context.execute_payment(amount)  \n"
   ]
  },
  {
   "cell_type": "markdown",
   "id": "f20c3239-b7b7-436c-a74f-e3eee46bf4b0",
   "metadata": {},
   "source": [
    "### How Strategy Pattern Solves the Problems:\n",
    "- Open/Closed Principle: New payment methods (e.g., Mobile Banking) can be added by creating a new strategy class, without modifying existing code structure.\n",
    "- Clean Code: Payment logic is modular, with each payment method in its own class.\n",
    "- Dynamic Behavior: Payment methods can be switched at runtime using the set_strategy method.\n",
    "- Scalability: Adding more payment methods does not increase the complexity of the context or client."
   ]
  },
  {
   "cell_type": "code",
   "execution_count": null,
   "id": "b4113444-8079-4c07-b686-5179d636dfdc",
   "metadata": {},
   "outputs": [],
   "source": []
  },
  {
   "cell_type": "markdown",
   "id": "38204a24-5342-4951-96eb-8d898f13c128",
   "metadata": {},
   "source": [
    "### # How the above if-else code is non-dynamic?\n",
    "- Even we are passing the same arguments in the both code\n",
    "### Ans: if-else code is statice because:\n",
    "- Sequential Logic: Behavior is chosen by evaluating conditions step-by-step.\n",
    "- Hardcoded Decisions: The logic for selecting behaviors is embedded in a centralized block (e.g., if-else or switch).\n",
    "- Dependent on Modifications: Adding new behaviors or modifying existing ones requires changing the centralized logic, violating the Open/Closed Principle.\n",
    "- Lack of Flexibility: Switching follows predefined rules and cannot dynamically adjust during runtime without altering the code."
   ]
  },
  {
   "cell_type": "markdown",
   "id": "729667e4-75f3-45c7-afbc-9fcc3934e4c1",
   "metadata": {},
   "source": []
  },
  {
   "cell_type": "markdown",
   "id": "be2365b6-5308-4185-8dbf-37399cd2c7c6",
   "metadata": {},
   "source": [
    "### # How the above Strategy Method Pattern code is dynamic?\n",
    "### Ans: It is dynamic in nature because:\n",
    "- Direct Behavior Assignment: Behavior is directly assigned via independent classes at runtime, bypassing sequential logic.\n",
    "- Encapsulation: Each behavior (strategy) is encapsulated, promoting modularity and decoupling from the context.\n",
    "- Runtime Flexibility: Behaviors can be swapped dynamically without modifying the core logic or existing code.\n",
    "- Extensibility: Adding new strategies doesn’t require changes to existing code, adhering to the Open/Closed Principle."
   ]
  }
 ],
 "metadata": {
  "kernelspec": {
   "display_name": "Python 3 (ipykernel)",
   "language": "python",
   "name": "python3"
  },
  "language_info": {
   "codemirror_mode": {
    "name": "ipython",
    "version": 3
   },
   "file_extension": ".py",
   "mimetype": "text/x-python",
   "name": "python",
   "nbconvert_exporter": "python",
   "pygments_lexer": "ipython3",
   "version": "3.13.0"
  },
  "widgets": {
   "application/vnd.jupyter.widget-state+json": {
    "state": {},
    "version_major": 2,
    "version_minor": 0
   }
  }
 },
 "nbformat": 4,
 "nbformat_minor": 5
}
