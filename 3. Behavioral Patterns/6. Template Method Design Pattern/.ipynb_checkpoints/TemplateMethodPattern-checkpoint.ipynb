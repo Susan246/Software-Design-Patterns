{
 "cells": [
  {
   "cell_type": "markdown",
   "id": "80a15169-1865-42c8-919a-69c29b96d237",
   "metadata": {},
   "source": [
    "# Template Method Design Pattern:"
   ]
  },
  {
   "cell_type": "markdown",
   "id": "bb9bc09c-c6ca-4892-ba1a-9d36277c1e00",
   "metadata": {},
   "source": [
    "## Some Use Cases:\n",
    "1. Data Extraction Pipeline:\n",
    "- Use Case: In data engineering, extracting data from various sources (e.g., databases, APIs, flat files) follows a common structure. The Template Method pattern can define the steps for extracting the data (e.g., establishing connection, fetching data, closing the connection), while allowing subclasses to implement specific details for different data sources.\n",
    "- Benefit: This pattern ensures consistency in the extraction process, while allowing flexibility in how data is fetched from different sources. It reduces code duplication and centralizes common functionality.\n",
    "2. Data Transformation Process:\n",
    "- Use Case: Data transformation often involves repetitive steps like cleaning, transforming, and loading data (ETL). The Template Method can be used to define a skeleton of the transformation process, allowing subclasses to customize specific transformation rules (e.g., for different data formats or types).\n",
    "- Benefit: It provides a clear and consistent flow for data transformation while enabling customization where necessary. This reduces errors and increases maintainability in ETL pipelines.\n",
    "3. Reporting Framework:\n",
    "- Use Case: Generating reports in a data processing system often follows a similar sequence: gathering data, applying business logic, formatting the output, and generating the final report. The Template Method pattern can be used to define the overall report generation process while allowing subclasses to implement specific steps (e.g., customizing the data aggregation or report formatting).\n",
    "- Benefit: This ensures a consistent reporting workflow while providing flexibility for different types of reports. It minimizes code duplication and makes it easier to add new report types by overriding specific methods."
   ]
  },
  {
   "cell_type": "code",
   "execution_count": null,
   "id": "3346a8a9-0d22-4530-a7c6-60598c6620e5",
   "metadata": {},
   "outputs": [],
   "source": []
  },
  {
   "cell_type": "markdown",
   "id": "62dc1420-8926-482f-92a2-1fc16dfc2bb2",
   "metadata": {},
   "source": [
    "## 1. Scenario: Data Processing Pipeline for Different Formats\n",
    "- You have a data processing system that needs to handle different types of data, such as JSON, CSV, and XML. The goal is to read the data, perform a transformation, and save it into a database. The processing steps are largely the same (read → transform → save), but the actual implementation varies based on the data format."
   ]
  },
  {
   "cell_type": "markdown",
   "id": "8f2591d4-3a4a-43c4-b9bf-0e7ccbd9f370",
   "metadata": {},
   "source": [
    "### 1.1 Solution with Traditional Method\n",
    "- In the traditional approach, we'd create separate classes or methods for each data format. The code for reading, transforming, and saving would be repeated across different classes, which can become inefficient and difficult to maintain."
   ]
  },
  {
   "cell_type": "code",
   "execution_count": 1,
   "id": "e9bc250f-68dc-40cc-83ff-8306e34411fd",
   "metadata": {},
   "outputs": [
    {
     "name": "stdout",
     "output_type": "stream",
     "text": [
      "Reading JSON data...\n",
      "Transforming JSON data...\n",
      "Saving JSON data to database...\n",
      "Reading CSV data...\n",
      "Transforming CSV data...\n",
      "Saving CSV data to database...\n",
      "Reading XML data...\n",
      "Transforming XML data...\n",
      "Saving XML data to database...\n"
     ]
    }
   ],
   "source": [
    "# Traditional way to handle JSON, CSV, and XML\n",
    "\n",
    "class JSONProcessor:\n",
    "    def process(self):\n",
    "        self.read_json()\n",
    "        self.transform_json()\n",
    "        self.save_json()\n",
    "\n",
    "    def read_json(self):\n",
    "        print(\"Reading JSON data...\")\n",
    "\n",
    "    def transform_json(self):\n",
    "        print(\"Transforming JSON data...\")\n",
    "\n",
    "    def save_json(self):\n",
    "        print(\"Saving JSON data to database...\")\n",
    "\n",
    "class CSVProcessor:\n",
    "    def process(self):\n",
    "        self.read_csv()\n",
    "        self.transform_csv()\n",
    "        self.save_csv()\n",
    "\n",
    "    def read_csv(self):\n",
    "        print(\"Reading CSV data...\")\n",
    "\n",
    "    def transform_csv(self):\n",
    "        print(\"Transforming CSV data...\")\n",
    "\n",
    "    def save_csv(self):\n",
    "        print(\"Saving CSV data to database...\")\n",
    "\n",
    "class XMLProcessor:\n",
    "    def process(self):\n",
    "        self.read_xml()\n",
    "        self.transform_xml()\n",
    "        self.save_xml()\n",
    "\n",
    "    def read_xml(self):\n",
    "        print(\"Reading XML data...\")\n",
    "\n",
    "    def transform_xml(self):\n",
    "        print(\"Transforming XML data...\")\n",
    "\n",
    "    def save_xml(self):\n",
    "        print(\"Saving XML data to database...\")\n",
    "\n",
    "# Client Code\n",
    "json_processor = JSONProcessor()\n",
    "json_processor.process()\n",
    "\n",
    "csv_processor = CSVProcessor()\n",
    "csv_processor.process()\n",
    "\n",
    "xml_processor = XMLProcessor()\n",
    "xml_processor.process()\n"
   ]
  },
  {
   "cell_type": "markdown",
   "id": "70f06240-f493-4f48-8260-2c6cb096e996",
   "metadata": {},
   "source": [
    "### Problems with Traditional Method:\n",
    "- Code Duplication: The same steps (read, transform, save) are repeated across different data types.\n",
    "- Hard to Maintain: If the processing steps need modification, you must change the logic in each class, which can lead to errors or inconsistencies.\n",
    "- Difficult to Extend: Adding a new data format requires creating a new class, leading to more code duplication."
   ]
  },
  {
   "cell_type": "code",
   "execution_count": null,
   "id": "df9f16a4-6ee1-4c7b-8276-bc26f85adbf4",
   "metadata": {},
   "outputs": [],
   "source": []
  },
  {
   "cell_type": "markdown",
   "id": "3a601419-2228-4e70-b24b-d1178f15e242",
   "metadata": {},
   "source": [
    "### 1.2 Solving with Template Method\n"
   ]
  },
  {
   "cell_type": "markdown",
   "id": "d02409ec-267a-4fb4-9f95-7081f0f0a574",
   "metadata": {},
   "source": [
    "### Components of Template Method Pattern:\n",
    "- Abstract Class: Defines the skeleton of the algorithm (steps for data processing).\n",
    "- Concrete Class: Implements the specific details of the steps (e.g., reading, transforming, and saving data).\n",
    "- Template Method: The high-level method in the abstract class that calls the concrete methods in a predefined order.\n",
    "- Hooks (Optional): Optional methods in the abstract class that can be overridden by subclasses to extend or alter the behavior of certain steps."
   ]
  },
  {
   "cell_type": "code",
   "execution_count": 3,
   "id": "e2e48e35-a65c-4423-8fc5-cef8c1081a56",
   "metadata": {},
   "outputs": [
    {
     "name": "stdout",
     "output_type": "stream",
     "text": [
      "Reading JSON data...\n",
      "Transforming JSON data...\n",
      "Saving JSON data to database...\n",
      "Reading CSV data...\n",
      "Transforming CSV data...\n",
      "Saving CSV data to database...\n",
      "Reading XML data...\n",
      "Transforming XML data...\n",
      "Saving XML data to database...\n"
     ]
    }
   ],
   "source": [
    "# Abstract Base Class\n",
    "\n",
    "class DataProcessor:\n",
    "    # Template Method\n",
    "    def process(self):\n",
    "        self.read_data()      # Step 1: Read data (abstract method)\n",
    "        self.transform_data() # Step 2: Transform data (abstract method)\n",
    "        self.save_data()      # Step 3: Save data (abstract method)\n",
    "\n",
    "    def read_data(self):\n",
    "        raise NotImplementedError(\"Subclasses must implement this method\")\n",
    "\n",
    "    def transform_data(self):\n",
    "        raise NotImplementedError(\"Subclasses must implement this method\")\n",
    "\n",
    "    def save_data(self):\n",
    "        raise NotImplementedError(\"Subclasses must implement this method\")\n",
    "\n",
    "# Concrete classes implementing the abstract methods\n",
    "\n",
    "class JSONProcessor(DataProcessor):\n",
    "    def read_data(self):\n",
    "        print(\"Reading JSON data...\")\n",
    "\n",
    "    def transform_data(self):\n",
    "        print(\"Transforming JSON data...\")\n",
    "\n",
    "    def save_data(self):\n",
    "        print(\"Saving JSON data to database...\")\n",
    "\n",
    "class CSVProcessor(DataProcessor):\n",
    "    def read_data(self):\n",
    "        print(\"Reading CSV data...\")\n",
    "\n",
    "    def transform_data(self):\n",
    "        print(\"Transforming CSV data...\")\n",
    "\n",
    "    def save_data(self):\n",
    "        print(\"Saving CSV data to database...\")\n",
    "\n",
    "class XMLProcessor(DataProcessor):\n",
    "    def read_data(self):\n",
    "        print(\"Reading XML data...\")\n",
    "\n",
    "    def transform_data(self):\n",
    "        print(\"Transforming XML data...\")\n",
    "\n",
    "    def save_data(self):\n",
    "        print(\"Saving XML data to database...\")\n",
    "\n",
    "# Client Code\n",
    "json_processor = JSONProcessor()\n",
    "json_processor.process()\n",
    "\n",
    "csv_processor = CSVProcessor()\n",
    "csv_processor.process()\n",
    "\n",
    "xml_processor = XMLProcessor()\n",
    "xml_processor.process()\n"
   ]
  },
  {
   "cell_type": "markdown",
   "id": "cb50e0f7-7854-40aa-a3ad-192ce2e5d3e7",
   "metadata": {},
   "source": [
    "### How Template Method Solves the Problem:\n",
    "- Reduces Code Duplication: The steps of reading, transforming, and saving are defined once in the abstract class (DataProcessor) and reused across all data types.\n",
    "- Centralized Control: The process() method in the abstract class provides a centralized control point for the overall flow of data processing, ensuring consistency.\n",
    "- Easy to Extend: To add a new data type, you only need to create a new subclass and implement the specific methods (read_data, transform_data, save_data). No need to modify existing classes.\n",
    "- Separation of Concerns: The abstract class handles the overall flow, while the concrete classes focus only on the specific details of processing each data type."
   ]
  },
  {
   "cell_type": "markdown",
   "id": "8d86eeab-cafd-4cc5-888c-5c007eb5f3fa",
   "metadata": {},
   "source": [
    "### Best Fit for Template Method:\n",
    "- Common Algorithm: Steps with a fixed sequence, but some steps vary in subclasses.\n",
    "- Code Reuse: Common steps in the base class, only variable steps differ in subclasses.\n",
    "- Consistent Process: Ensures steps are always followed in order.\n",
    "- Customization of Steps: Allows subclass-specific implementation for certain steps.\n",
    "\n",
    "### Not the Best Fit:\n",
    "- Highly Variable Algorithm: If the entire algorithm changes, use Strategy or State Pattern.\n",
    "- Subclassing Not Ideal: In non-OOP or when inheritance doesn’t fit.\n",
    "- Too Simple: Simple algorithms may not need Template Method, leading to unnecessary complexity.\n",
    "- Independent Components: If steps are better handled by separate components (e.g., Composite or Chain of Responsibility)."
   ]
  }
 ],
 "metadata": {
  "kernelspec": {
   "display_name": "Python 3 (ipykernel)",
   "language": "python",
   "name": "python3"
  },
  "language_info": {
   "codemirror_mode": {
    "name": "ipython",
    "version": 3
   },
   "file_extension": ".py",
   "mimetype": "text/x-python",
   "name": "python",
   "nbconvert_exporter": "python",
   "pygments_lexer": "ipython3",
   "version": "3.13.0"
  },
  "widgets": {
   "application/vnd.jupyter.widget-state+json": {
    "state": {},
    "version_major": 2,
    "version_minor": 0
   }
  }
 },
 "nbformat": 4,
 "nbformat_minor": 5
}
