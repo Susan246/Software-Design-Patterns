{
 "cells": [
  {
   "cell_type": "markdown",
   "id": "120386a0-ec95-4951-9c6e-f4f95b249f29",
   "metadata": {},
   "source": [
    "# Mediator Method Design Pattern:"
   ]
  },
  {
   "cell_type": "markdown",
   "id": "7f100545-e687-4d64-8000-2d6b38895aba",
   "metadata": {},
   "source": [
    "## Some Use Cases:\n",
    "1. Centralized Control of Data Flows in ETL Pipelines:\n",
    "- Use Case: In complex ETL (Extract, Transform, Load) workflows where multiple systems (data sources, processors, and sinks) interact with each other, the Mediator pattern can manage communication and coordination between these systems.\n",
    "- Benefit: The Mediator ensures that all systems interact through a central mediator, simplifying the communication and reducing the direct dependencies between them, making the entire pipeline easier to manage.\n",
    "2. Coordinating Data Access Across Microservices\n",
    "- Use Case: In a microservices architecture, where various services require access to shared data (e.g., user profiles, transactions), the Mediator pattern can centralize the management of requests, ensuring consistency and preventing data conflicts.\n",
    "- Benefit: The Mediator enables communication between different services through a single access point, decoupling services and reducing direct dependencies, which is essential for scaling and maintaining consistency across the system.\n",
    "3. Managing Complex Data Integration Tasks\n",
    "- Use Case: When integrating data from multiple heterogeneous sources (e.g., databases, APIs, third-party systems), the Mediator can facilitate and streamline the interaction between these sources by centralizing the logic of how data is exchanged.\n",
    "- Benefit: The Mediator simplifies the integration process, ensuring that each system only communicates with the mediator, rather than managing multiple direct dependencies, thus making the integration more flexible and maintainable."
   ]
  },
  {
   "cell_type": "code",
   "execution_count": null,
   "id": "4d5e70c1-91b9-4082-bbb5-67400dee21ea",
   "metadata": {},
   "outputs": [],
   "source": []
  },
  {
   "cell_type": "markdown",
   "id": "9d723f36-39d3-408e-8a60-f55fd105f248",
   "metadata": {},
   "source": [
    "## 1. Scenario: Mediator Design Pattern\n",
    "- In a chat application, multiple users communicate in a group chat. Instead of each user directly managing their interactions with others, a central \"ChatRoom\" (mediator) handles the communication."
   ]
  },
  {
   "cell_type": "markdown",
   "id": "395230b5-53fc-498e-9a31-87db5375b9d7",
   "metadata": {},
   "source": [
    "### 1.1 Using Traditional Method:"
   ]
  },
  {
   "cell_type": "code",
   "execution_count": 1,
   "id": "f776e76e-a5ba-4430-b8a0-f7cdad48272d",
   "metadata": {},
   "outputs": [
    {
     "name": "stdout",
     "output_type": "stream",
     "text": [
      "Alice to Bob: Hi Bob!\n",
      "Bob to Charlie: Hello Charlie!\n"
     ]
    }
   ],
   "source": [
    "class User:\n",
    "    def __init__(self, name):\n",
    "        self.name = name\n",
    "\n",
    "    def send_message(self, receiver, message):\n",
    "        print(f\"{self.name} to {receiver.name}: {message}\")\n",
    "\n",
    "\n",
    "# Usage\n",
    "user1 = User(\"Alice\")\n",
    "user2 = User(\"Bob\")\n",
    "user3 = User(\"Charlie\")\n",
    "\n",
    "user1.send_message(user2, \"Hi Bob!\")  # Alice to Bob: Hi Bob!\n",
    "user2.send_message(user3, \"Hello Charlie!\")  # Bob to Charlie: Hello Charlie!\n"
   ]
  },
  {
   "cell_type": "markdown",
   "id": "6b4e0fd8-8416-49cc-bd44-af2be9971028",
   "metadata": {},
   "source": [
    "### Issues with Traditional Method:\n",
    "- Tightly Coupled: Users interact directly with each other, making the system hard to modify.\n",
    "- Scalability Problems: Adding new users increases complexity due to direct communication links.\n",
    "- Difficult Coordination: Managing group interactions becomes cumbersome."
   ]
  },
  {
   "cell_type": "code",
   "execution_count": null,
   "id": "7f753fe8-b25d-4992-aec9-1d4ddb2d1ba5",
   "metadata": {},
   "outputs": [],
   "source": []
  },
  {
   "cell_type": "markdown",
   "id": "49fafa29-193b-4321-ab07-ebc461fba4b7",
   "metadata": {},
   "source": [
    "### 1.2 Using Mediator Method Pattern:"
   ]
  },
  {
   "cell_type": "markdown",
   "id": "b521fb9b-3751-47ac-bbc0-7753c71e80ce",
   "metadata": {},
   "source": [
    "### Components of Mediator Pattern:\n",
    "- Mediator Interface: Defines the contract for communication between objects.\n",
    "- Concrete Mediator: Implements the communication logic, coordinating interactions.\n",
    "- Colleagues: Abstract base class for objects that interact through the mediator.\n",
    "- Concrete Colleagues: Specific implementations of Colleagues that communicate via the mediator"
   ]
  },
  {
   "cell_type": "code",
   "execution_count": 3,
   "id": "139f96b9-d34d-4769-a1ab-5618a24ba3f2",
   "metadata": {},
   "outputs": [
    {
     "name": "stdout",
     "output_type": "stream",
     "text": [
      "[Alice]: Hi everyone!\n",
      "[Bob]: Hello Alice!\n",
      "[Charlie]: Hey all!\n"
     ]
    }
   ],
   "source": [
    "# Mediator Interface\n",
    "class ChatRoomMediator:\n",
    "    def show_message(self, user, message):\n",
    "        pass\n",
    "\n",
    "\n",
    "# Concrete Mediator\n",
    "class ChatRoom(ChatRoomMediator):\n",
    "    def show_message(self, user, message):\n",
    "        print(f\"[{user.name}]: {message}\")\n",
    "\n",
    "\n",
    "# Colleague Class\n",
    "class User:\n",
    "    def __init__(self, name, chatroom):\n",
    "        self.name = name\n",
    "        self.chatroom = chatroom\n",
    "\n",
    "    def send_message(self, message):\n",
    "        self.chatroom.show_message(self, message)\n",
    "\n",
    "\n",
    "# Usage\n",
    "chatroom = ChatRoom()\n",
    "user1 = User(\"Alice\", chatroom)\n",
    "user2 = User(\"Bob\", chatroom)\n",
    "user3 = User(\"Charlie\", chatroom)\n",
    "\n",
    "user1.send_message(\"Hi everyone!\")  # [Alice]: Hi everyone!\n",
    "user2.send_message(\"Hello Alice!\")  # [Bob]: Hello Alice!\n",
    "user3.send_message(\"Hey all!\")      # [Charlie]: Hey all!\n"
   ]
  },
  {
   "cell_type": "markdown",
   "id": "7c618751-1b1c-4eaa-931b-0d7366511da0",
   "metadata": {},
   "source": [
    "### How Mediator Solves the Problem\n",
    "- Loose Coupling: Users interact with the mediator, not directly with each other.\n",
    "- Simplified Communication: A central mediator manages all communication logic.\n",
    "- Scalability: Adding or modifying users doesn’t affect the existing system.\n",
    "- Centralized Control: The mediator provides a single point of communication, making group interactions efficient."
   ]
  },
  {
   "cell_type": "code",
   "execution_count": null,
   "id": "5bc1cb13-eede-42e7-b2d4-d21ab4858828",
   "metadata": {},
   "outputs": [],
   "source": []
  },
  {
   "cell_type": "markdown",
   "id": "85bb7601-b469-4b7a-ad2e-0dd1ed20fd18",
   "metadata": {},
   "source": [
    "## 2. Scenario: Data Pipeline Coordination\n",
    "- In a data engineering context, consider a data pipeline where different components (like data ingestion, data transformation, and data storage) need to work together seamlessly. Each component depends on the successful execution of others, and direct communication between them can lead to tight coupling, making the pipeline difficult to maintain or modify.\n",
    "\n",
    "- Using the Mediator design pattern, we can introduce a central mediator to coordinate these interactions without the components needing to know about each other directly."
   ]
  },
  {
   "cell_type": "code",
   "execution_count": 4,
   "id": "a67bc5a5-8e96-4708-9f64-418db61e27ce",
   "metadata": {},
   "outputs": [
    {
     "name": "stdout",
     "output_type": "stream",
     "text": [
      "Ingesting data: raw_data\n",
      "Mediator: Data ingested. Triggering transformation...\n",
      "Transforming data: raw_data\n",
      "Mediator: Data transformed. Triggering storage...\n",
      "Storing data: RAW_DATA\n"
     ]
    }
   ],
   "source": [
    "# Mediator Interface\n",
    "class PipelineMediator:\n",
    "    def notify(self, sender, event):\n",
    "        pass\n",
    "\n",
    "# Concrete Mediator\n",
    "class DataPipelineMediator(PipelineMediator):\n",
    "    def __init__(self):\n",
    "        self.ingest = None\n",
    "        self.transform = None\n",
    "        self.store = None\n",
    "\n",
    "    def notify(self, sender, event):\n",
    "        if event == \"data_ingested\":\n",
    "            print(\"Mediator: Data ingested. Triggering transformation...\")\n",
    "            self.transform.process_data(sender.data)\n",
    "        elif event == \"data_transformed\":\n",
    "            print(\"Mediator: Data transformed. Triggering storage...\")\n",
    "            self.store.save_data(sender.data)\n",
    "\n",
    "# Abstract Colleague\n",
    "class PipelineComponent:\n",
    "    def __init__(self, mediator):\n",
    "        self.mediator = mediator\n",
    "\n",
    "# Concrete Colleagues\n",
    "class DataIngest(PipelineComponent):\n",
    "    def __init__(self, mediator):\n",
    "        super().__init__(mediator)\n",
    "        self.data = None\n",
    "\n",
    "    def ingest_data(self, data):\n",
    "        print(f\"Ingesting data: {data}\")\n",
    "        self.data = data\n",
    "        self.mediator.notify(self, \"data_ingested\")\n",
    "\n",
    "class DataTransform(PipelineComponent):\n",
    "    def __init__(self, mediator):\n",
    "        super().__init__(mediator)\n",
    "        self.data = None\n",
    "\n",
    "    def process_data(self, data):\n",
    "        print(f\"Transforming data: {data}\")\n",
    "        self.data = data.upper()  # Example transformation\n",
    "        self.mediator.notify(self, \"data_transformed\")\n",
    "\n",
    "class DataStore(PipelineComponent):\n",
    "    def __init__(self, mediator):\n",
    "        super().__init__(mediator)\n",
    "\n",
    "    def save_data(self, data):\n",
    "        print(f\"Storing data: {data}\")\n",
    "\n",
    "# Usage\n",
    "mediator = DataPipelineMediator()\n",
    "ingest = DataIngest(mediator)\n",
    "transform = DataTransform(mediator)\n",
    "store = DataStore(mediator)\n",
    "\n",
    "mediator.ingest = ingest\n",
    "mediator.transform = transform\n",
    "mediator.store = store\n",
    "\n",
    "# Start the pipeline\n",
    "ingest.ingest_data(\"raw_data\")\n"
   ]
  },
  {
   "cell_type": "markdown",
   "id": "537aa2be-6d1a-412c-a005-dee0e939076a",
   "metadata": {},
   "source": [
    "### Advantage of using Mediator Pattern:\n",
    "- Decoupling: Components (ingest, transform, store) do not need to know about each other. All communication is handled by the mediator.\n",
    "- Scalability: Adding new pipeline stages or modifying existing ones can be done by updating the mediator, without changing the other components.\n",
    "- Centralized Control: The mediator manages the workflow, making it easier to debug and extend."
   ]
  },
  {
   "cell_type": "code",
   "execution_count": null,
   "id": "f3a6cecc-a114-45e6-8295-6d6f54826ee7",
   "metadata": {},
   "outputs": [],
   "source": []
  }
 ],
 "metadata": {
  "kernelspec": {
   "display_name": "Python 3 (ipykernel)",
   "language": "python",
   "name": "python3"
  },
  "language_info": {
   "codemirror_mode": {
    "name": "ipython",
    "version": 3
   },
   "file_extension": ".py",
   "mimetype": "text/x-python",
   "name": "python",
   "nbconvert_exporter": "python",
   "pygments_lexer": "ipython3",
   "version": "3.13.0"
  },
  "widgets": {
   "application/vnd.jupyter.widget-state+json": {
    "state": {},
    "version_major": 2,
    "version_minor": 0
   }
  }
 },
 "nbformat": 4,
 "nbformat_minor": 5
}
