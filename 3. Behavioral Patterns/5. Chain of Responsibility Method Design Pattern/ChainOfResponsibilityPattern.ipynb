{
 "cells": [
  {
   "cell_type": "markdown",
   "id": "c71824ff-7fae-4b58-b95e-8e1e93b3db8f",
   "metadata": {},
   "source": [
    "# Chain of Responsibility Method Design Pattern:"
   ]
  },
  {
   "cell_type": "markdown",
   "id": "96f1e7cd-51bf-420a-8e8c-3adca047d5b3",
   "metadata": {},
   "source": [
    "## Some Use Cases:\n",
    "1. Data Validation Pipeline:\n",
    "- Use Case: In data engineering, data often needs to pass through a series of validation checks (e.g., format validation, completeness, consistency). The Chain of Responsibility pattern can be used to process data through multiple validation steps, where each step decides if the data passes or needs further checks.\n",
    "- Benefit: This pattern allows the validation logic to be modular, easy to extend, and flexible. Each validation step can be added or modified independently without changing the entire validation pipeline.\n",
    "2. Error Handling in Data Processing:\n",
    "- Use Case: In complex data processing pipelines, errors or exceptions may need to be handled in different ways based on the type of error (e.g., data format error, missing value, network timeout). The Chain of Responsibility pattern allows for the delegation of error handling to different handlers based on the error type.\n",
    "- Benefit: The pattern enables flexible error handling by allowing multiple handlers to process an error in a chain, ensuring that the most appropriate handler is chosen dynamically.\n",
    "3. Log Processing:\n",
    "- Use Case: When processing logs from multiple data sources (e.g., system logs, application logs, sensor data), different log levels (INFO, WARNING, ERROR) or types of logs may need to be processed differently. The Chain of Responsibility pattern can be used to pass logs through a series of processors based on their severity or type.\n",
    "- Benefit: This approach ensures that logs are handled and processed in an organized manner, allowing for easy extension of log processors (e.g., filtering, aggregation, or alerting) without changing the core log processing logic."
   ]
  },
  {
   "cell_type": "code",
   "execution_count": null,
   "id": "2e75d08a-ea4d-4609-979f-4384e6450a5e",
   "metadata": {},
   "outputs": [],
   "source": []
  },
  {
   "cell_type": "markdown",
   "id": "81292f17-6dd5-49aa-b4f1-27bd84563b85",
   "metadata": {},
   "source": [
    "## 1. Scenario: Logging System\n",
    "- In a logging system, we need to handle different log levels (e.g., DEBUG, INFO, WARN, ERROR) and process them in a sequence. The system should allow for different levels of logging to be handled differently based on priority. For example, ERROR logs should be immediately handled, while INFO or DEBUG logs may be stored for later analysis.\n",
    "\n",
    "#### Tasks:\n",
    "- For each log level (DEBUG, INFO, WARN, ERROR), we need different processing (e.g., write to file, print to console, etc.).\n",
    "- We want to dynamically change the processing order or handlers."
   ]
  },
  {
   "cell_type": "markdown",
   "id": "c7ab6eb6-7cf6-4dbb-b11e-d6a7241006b3",
   "metadata": {},
   "source": [
    "### 1.1 Using Traditional Approach:\n",
    "- Using traditional conditional checks like if-else or switch-case."
   ]
  },
  {
   "cell_type": "code",
   "execution_count": 1,
   "id": "82763a5d-8e23-4209-b455-e52a012836c7",
   "metadata": {},
   "outputs": [
    {
     "name": "stdout",
     "output_type": "stream",
     "text": [
      "DEBUG: This is a debug message\n"
     ]
    }
   ],
   "source": [
    "class Logger:\n",
    "    def log(self, level, message):\n",
    "        if level == \"DEBUG\":\n",
    "            self.log_debug(message)\n",
    "        elif level == \"INFO\":\n",
    "            self.log_info(message)\n",
    "        elif level == \"WARN\":\n",
    "            self.log_warn(message)\n",
    "        elif level == \"ERROR\":\n",
    "            self.log_error(message)\n",
    "    \n",
    "    def log_debug(self, message):\n",
    "        print(f\"DEBUG: {message}\")\n",
    "    \n",
    "    def log_info(self, message):\n",
    "        print(f\"INFO: {message}\")\n",
    "    \n",
    "    def log_warn(self, message):\n",
    "        print(f\"WARN: {message}\")\n",
    "    \n",
    "    def log_error(self, message):\n",
    "        print(f\"ERROR: {message}\")\n",
    "\n",
    "# Usage\n",
    "logger = Logger()\n",
    "logger.log(\"DEBUG\", \"This is a debug message\")\n"
   ]
  },
  {
   "cell_type": "markdown",
   "id": "e29ae9a4-30bd-4731-9603-850d7e054528",
   "metadata": {},
   "source": [
    "### Issues with the Traditional Approach:\n",
    "- Tightly Coupled: Every new log level requires modifying the log method, violating the Open/Closed Principle.\n",
    "- Hard to Maintain: If new logging levels are introduced or the behavior for an existing level changes, it forces us to modify the existing logic, leading to a potential for errors and bugs.\n",
    "- Lack of Flexibility: You cannot change the flow of logging dynamically (e.g., change the order of log handling)."
   ]
  },
  {
   "cell_type": "code",
   "execution_count": null,
   "id": "11103d57-e4f4-46d0-856c-ac0c0c3e9fc6",
   "metadata": {},
   "outputs": [],
   "source": []
  },
  {
   "cell_type": "markdown",
   "id": "8422c92b-9be7-4812-8e3a-c657a92a807f",
   "metadata": {},
   "source": [
    "### 1.2 Using State Method Pattern:\n",
    "- With State Pattern, we can define states like DEBUG, INFO, WARN, and ERROR as separate classes. However, State Pattern comes with its own limitations in this case.\n",
    "### Issues Solved by State Pattern:\n",
    "- Separation of Concerns: Each log level is encapsulated in its own class, which decouples the logging logic for each level and adheres to the Single Responsibility Principle.\n",
    "- Extensibility: New log levels can be added without modifying the Logger class, addressing the issue of Open/Closed Principle.\n"
   ]
  },
  {
   "cell_type": "code",
   "execution_count": 8,
   "id": "82782ad9-87c9-49c5-a1c8-c22618e14a04",
   "metadata": {},
   "outputs": [
    {
     "name": "stdout",
     "output_type": "stream",
     "text": [
      "DEBUG: This is a debug message\n"
     ]
    }
   ],
   "source": [
    "# Context\n",
    "class Logger:\n",
    "    def __init__(self, level: LogLevel):\n",
    "        self.level = level\n",
    "    \n",
    "    def log(self, message):\n",
    "        self.level.handle(message)\n",
    "\n",
    "# State\n",
    "class LogLevel:\n",
    "    def handle(self, message):\n",
    "        pass\n",
    "\n",
    "# Concrete State 1\n",
    "class DebugLogLevel(LogLevel):\n",
    "    def handle(self, message):\n",
    "        print(f\"DEBUG: {message}\")\n",
    "\n",
    "# Concrete State 2\n",
    "class InfoLogLevel(LogLevel):\n",
    "    def handle(self, message):\n",
    "        print(f\"INFO: {message}\")\n",
    "\n",
    "# Concrete State 3\n",
    "class WarnLogLevel(LogLevel):\n",
    "    def handle(self, message):\n",
    "        print(f\"WARN: {message}\")\n",
    "\n",
    "# Concrete State 4\n",
    "class ErrorLogLevel(LogLevel):\n",
    "    def handle(self, message):\n",
    "        print(f\"ERROR: {message}\")\n",
    "\n",
    "# Usage\n",
    "logger = Logger(DebugLogLevel())\n",
    "logger.log(\"This is a debug message\")\n"
   ]
  },
  {
   "cell_type": "markdown",
   "id": "c6389c0a-1541-4ff6-91df-a78c05a44442",
   "metadata": {},
   "source": [
    "### Issues with State Pattern:\n",
    "- Fixed Transitions: The state transitions are fixed. Once you set a state (e.g., DEBUG), you cannot easily change the order or flow of log levels (e.g., processing ERROR before INFO).\n",
    "- Rigid Structure: Each log level requires a separate class, leading to a rigid structure where adding new levels requires new classes and changes to the Logger class.\n",
    "- No Dynamic Behavior: The flow of log handling is not dynamic. The state is fixed, and you cannot change the handling order dynamically (like handling ERROR before INFO)."
   ]
  },
  {
   "cell_type": "code",
   "execution_count": null,
   "id": "9a69e077-c246-4710-a4ff-10865972108e",
   "metadata": {},
   "outputs": [],
   "source": []
  },
  {
   "cell_type": "markdown",
   "id": "d7609899-778f-45b2-b83d-326486573b30",
   "metadata": {},
   "source": [
    "### 1.3 Solve with Strategy Pattern\n",
    "The Strategy Pattern provides a flexible way to change the logging strategy (e.g., log to console, log to file) but still doesn't solve the issue of dynamic ordering of log levels.\n",
    "\n",
    "### Issues Solved by Strategy Pattern:\n",
    "- Dynamic Strategy Change: Allows you to dynamically change the logging strategy at runtime (e.g., from console to file logging), solving the rigidity of the previous approaches.\n",
    "- Separation of Concerns: The logging logic is separated into different strategies (e.g., ConsoleLogStrategy, FileLogStrategy), following the Single Responsibility Principle."
   ]
  },
  {
   "cell_type": "code",
   "execution_count": 7,
   "id": "3847f488-52ee-41b4-a2e9-10ad6b5b768d",
   "metadata": {},
   "outputs": [
    {
     "name": "stdout",
     "output_type": "stream",
     "text": [
      "Console Log: This is a console log message\n"
     ]
    }
   ],
   "source": [
    "# Context\n",
    "class Logger:\n",
    "    def __init__(self, strategy: LogStrategy):\n",
    "        self.strategy = strategy\n",
    "    \n",
    "    def log(self, message):\n",
    "        self.strategy.log(message)\n",
    "\n",
    "# Strategy\n",
    "class LogStrategy:\n",
    "    def log(self, message):\n",
    "        pass\n",
    "\n",
    "# Concrete Strategy 1\n",
    "class ConsoleLogStrategy(LogStrategy):\n",
    "    def log(self, message):\n",
    "        print(f\"Console Log: {message}\")\n",
    "\n",
    "# Concrete Strategy 2\n",
    "class FileLogStrategy(LogStrategy):\n",
    "    def log(self, message):\n",
    "        with open(\"log.txt\", \"a\") as file:\n",
    "            file.write(f\"File Log: {message}\\n\")\n",
    "\n",
    "# Usage\n",
    "logger = Logger(ConsoleLogStrategy())\n",
    "logger.log(\"This is a console log message\")\n"
   ]
  },
  {
   "cell_type": "markdown",
   "id": "23b24531-4022-41ce-9149-f5637b1761e8",
   "metadata": {},
   "source": [
    "### Issues with Strategy Pattern:\n",
    "- No Flow Control: The strategy defines how to handle logs but doesn't define when to handle them. You can't change the order or manage the flow of log levels (e.g., process ERROR first, then INFO).\n",
    "- No Sequential Handling: Unlike the Chain of Responsibility, the Strategy Pattern lacks the ability to process logs sequentially (i.e., define the order of log handling).\n",
    "- No Dynamic Log Level Handling: The pattern is effective for selecting how to handle logs but doesn't manage the different levels of logs dynamically or chain them in sequence."
   ]
  },
  {
   "cell_type": "code",
   "execution_count": null,
   "id": "d604e184-a902-430c-b2db-f0ba03be0adb",
   "metadata": {},
   "outputs": [],
   "source": []
  },
  {
   "cell_type": "markdown",
   "id": "faa4be1f-416b-4f04-aebc-84b5c65ef9fa",
   "metadata": {},
   "source": [
    "### 1.4 Using Chain of Responsibility Method Pattern:\n",
    "The Chain of Responsibility pattern provides a solution to dynamically change the order in which log levels are handled, enabling the sequential processing of logs.\n"
   ]
  },
  {
   "cell_type": "markdown",
   "id": "65161b80-3f77-466e-9b9d-d1b5f3acb83c",
   "metadata": {},
   "source": [
    "### Components of the Chain of Responsibility pattern:\n",
    "\n",
    "- Handler: Defines the interface for handling requests and optionally passing them to the next handler.\n",
    "- ConcreteHandler: Implements the Handler interface and processes the request. If it can't handle the request, it passes it along the chain.\n",
    "- Client: Initiates the request and sends it to the first handler in the chain.\n",
    "\n",
    "#### Chain:\n",
    "- The linked structure of handlers, where each handler knows the next one in the chain to forward the request if it cannot process it."
   ]
  },
  {
   "cell_type": "code",
   "execution_count": 6,
   "id": "223b5500-917b-45ef-829c-fec7793edea0",
   "metadata": {},
   "outputs": [
    {
     "name": "stdout",
     "output_type": "stream",
     "text": [
      "DEBUG: This is a debug message\n",
      "INFO: This is an info message\n",
      "ERROR: This is an error message\n"
     ]
    }
   ],
   "source": [
    "# Handler (Defines the interface for handling requests)\n",
    "class LogHandler:\n",
    "    def __init__(self, next_handler=None):\n",
    "        self.next_handler = next_handler  # Chain link to next handler\n",
    "    \n",
    "    def handle(self, level, message):\n",
    "        if self.next_handler:\n",
    "            self.next_handler.handle(level, message)  # Pass to next handler\n",
    "\n",
    "# ConcreteHandler for DEBUG logs\n",
    "class DebugLogHandler(LogHandler):\n",
    "    def handle(self, level, message):\n",
    "        if level == \"DEBUG\":\n",
    "            print(f\"DEBUG: {message}\")\n",
    "        elif self.next_handler:\n",
    "            self.next_handler.handle(level, message)  # Pass to next handler if not handled\n",
    "\n",
    "# ConcreteHandler for INFO logs\n",
    "class InfoLogHandler(LogHandler):\n",
    "    def handle(self, level, message):\n",
    "        if level == \"INFO\":\n",
    "            print(f\"INFO: {message}\")\n",
    "        elif self.next_handler:\n",
    "            self.next_handler.handle(level, message)  # Pass to next handler if not handled\n",
    "\n",
    "# ConcreteHandler for WARN logs\n",
    "class WarnLogHandler(LogHandler):\n",
    "    def handle(self, level, message):\n",
    "        if level == \"WARN\":\n",
    "            print(f\"WARN: {message}\")\n",
    "        elif self.next_handler:\n",
    "            self.next_handler.handle(level, message)  # Pass to next handler if not handled\n",
    "\n",
    "# ConcreteHandler for ERROR logs\n",
    "class ErrorLogHandler(LogHandler):\n",
    "    def handle(self, level, message):\n",
    "        if level == \"ERROR\":\n",
    "            print(f\"ERROR: {message}\")\n",
    "        elif self.next_handler:\n",
    "            self.next_handler.handle(level, message)  # Pass to next handler if not handled\n",
    "\n",
    "# Client (Starts the request)\n",
    "# Chain of handlers, each linked to the next one\n",
    "handler_chain = DebugLogHandler(\n",
    "    InfoLogHandler(\n",
    "        WarnLogHandler(\n",
    "            ErrorLogHandler()\n",
    "        )\n",
    "    )\n",
    ")\n",
    "\n",
    "# Logs get passed through the chain\n",
    "handler_chain.handle(\"DEBUG\", \"This is a debug message\")  # DEBUG: This is a debug message\n",
    "handler_chain.handle(\"INFO\", \"This is an info message\")  # INFO: This is an info message\n",
    "handler_chain.handle(\"ERROR\", \"This is an error message\")  # ERROR: This is an error message\n"
   ]
  },
  {
   "cell_type": "markdown",
   "id": "8e04a089-802c-4cf2-83b8-44d6ea9dac96",
   "metadata": {},
   "source": [
    "### How Chain of Responsibility Solves the Issues:\n",
    "- Dynamic Handling: The chain can be dynamically modified. You can add, remove, or reorder handlers without modifying the existing code, providing flexibility in log handling.\n",
    "- Decoupled Process: Each handler is decoupled from others. They are responsible for handling their specific log level and delegate the rest to the next handler, promoting Single Responsibility Principle.\n",
    "- Flexible Log Level Flow: The order in which log levels are handled can be modified dynamically. For example, you can handle ERROR first and then INFO by changing the order of handlers in the chain.\n",
    "- Extensibility: New log levels can be added easily by creating a new handler, without changing existing code or breaking the existing flow."
   ]
  },
  {
   "cell_type": "code",
   "execution_count": null,
   "id": "799d773d-5971-4aee-9f3e-823c1f34ad82",
   "metadata": {},
   "outputs": [],
   "source": []
  },
  {
   "cell_type": "markdown",
   "id": "613c0c6d-a32b-4751-b0f9-ba8323442cfc",
   "metadata": {},
   "source": [
    "### Summary of Issue Resolutions:\n",
    "1.1 Traditional Method:\n",
    "- Issues: Tightly coupled, hard to extend, no dynamic flexibility.\n",
    "\n",
    "1.2 State Pattern:\n",
    "- Solved by State Pattern: Separation of concerns, more extensibility, but fixed flow and rigid structure.\n",
    "- Issues: Fixed state transitions, rigid structure, no dynamic flow.\n",
    "\n",
    "1.3 Strategy Pattern:\n",
    "- Solved by Strategy Pattern: Allows dynamic strategy changes but still lacks flow control and sequential handling.\n",
    "- Issues: No flow control, no sequential handling, no dynamic log level handling.\n",
    "\n",
    "1.4 Chain of Responsibility:\n",
    "- Solved by Chain of Responsibility: Enables dynamic flow control, decoupled handling, and flexible ordering of log levels.\n",
    "- Clear Advantage: Dynamic and flexible log handling, decoupled handlers, easy to add new levels or change the flow without affecting existing code."
   ]
  },
  {
   "cell_type": "code",
   "execution_count": null,
   "id": "d9ecf6ab-3c7f-476b-b67d-c645f023e3c9",
   "metadata": {},
   "outputs": [],
   "source": []
  },
  {
   "cell_type": "markdown",
   "id": "d0362a35-c5de-41d1-bd3e-aa3b1b04be29",
   "metadata": {},
   "source": [
    "## Changing the Order of Execution:\n",
    "#### Original Order (DEBUG -> INFO -> WARN -> ERROR):\n",
    "\n",
    "handler_chain = \n",
    "        DebugLogHandler(\n",
    "    \n",
    "    InfoLogHandler(\n",
    "        WarnLogHandler(\n",
    "            ErrorLogHandler()\n",
    "        )\n",
    "    )\n",
    ")\n"
   ]
  },
  {
   "cell_type": "markdown",
   "id": "4866a765-cee3-47f6-b81f-f4bd37534c58",
   "metadata": {},
   "source": [
    "#### Changing the Order (ERROR -> DEBUG -> INFO -> WARN):\n",
    "handler_chain = ErrorLogHandler(\n",
    "    \n",
    "    DebugLogHandler(\n",
    "        InfoLogHandler(\n",
    "            WarnLogHandler()\n",
    "        )\n",
    "    )\n",
    ")\n"
   ]
  },
  {
   "cell_type": "code",
   "execution_count": 9,
   "id": "92181097-8799-4c8b-84fb-0074ad869aeb",
   "metadata": {},
   "outputs": [
    {
     "name": "stdout",
     "output_type": "stream",
     "text": [
      "DEBUG: This is a debug message\n",
      "INFO: This is an info message\n",
      "ERROR: This is an error message\n"
     ]
    }
   ],
   "source": [
    "# Handler (Defines the interface for handling requests)\n",
    "class LogHandler:\n",
    "    def __init__(self, next_handler=None):\n",
    "        self.next_handler = next_handler  # Chain link to next handler\n",
    "    \n",
    "    def handle(self, level, message):\n",
    "        if self.next_handler:\n",
    "            self.next_handler.handle(level, message)  # Pass to next handler\n",
    "\n",
    "# ConcreteHandler for DEBUG logs\n",
    "class DebugLogHandler(LogHandler):\n",
    "    def handle(self, level, message):\n",
    "        if level == \"DEBUG\":\n",
    "            print(f\"DEBUG: {message}\")\n",
    "        elif self.next_handler:\n",
    "            self.next_handler.handle(level, message)  # Pass to next handler if not handled\n",
    "\n",
    "# ConcreteHandler for INFO logs\n",
    "class InfoLogHandler(LogHandler):\n",
    "    def handle(self, level, message):\n",
    "        if level == \"INFO\":\n",
    "            print(f\"INFO: {message}\")\n",
    "        elif self.next_handler:\n",
    "            self.next_handler.handle(level, message)  # Pass to next handler if not handled\n",
    "\n",
    "# ConcreteHandler for WARN logs\n",
    "class WarnLogHandler(LogHandler):\n",
    "    def handle(self, level, message):\n",
    "        if level == \"WARN\":\n",
    "            print(f\"WARN: {message}\")\n",
    "        elif self.next_handler:\n",
    "            self.next_handler.handle(level, message)  # Pass to next handler if not handled\n",
    "\n",
    "# ConcreteHandler for ERROR logs\n",
    "class ErrorLogHandler(LogHandler):\n",
    "    def handle(self, level, message):\n",
    "        if level == \"ERROR\":\n",
    "            print(f\"ERROR: {message}\")\n",
    "        elif self.next_handler:\n",
    "            self.next_handler.handle(level, message)  # Pass to next handler if not handled\n",
    "\n",
    "# Client (Starts the request)\n",
    "# Chain of handlers, each linked to the next one\n",
    "# Chain of handlers in changed order: ERROR -> DEBUG -> INFO -> WARN\n",
    "handler_chain = ErrorLogHandler(\n",
    "    DebugLogHandler(\n",
    "        InfoLogHandler(\n",
    "            WarnLogHandler()\n",
    "        )\n",
    "    )\n",
    ")\n",
    "\n",
    "# Logs get passed through the chain in the new order\n",
    "handler_chain.handle(\"DEBUG\", \"This is a debug message\")  # DEBUG: This is a debug message\n",
    "handler_chain.handle(\"INFO\", \"This is an info message\")  # INFO: This is an info message\n",
    "handler_chain.handle(\"ERROR\", \"This is an error message\")  # ERROR: This is an error message\n"
   ]
  },
  {
   "cell_type": "code",
   "execution_count": null,
   "id": "0b12c78a-2e57-408e-810e-75611897aa26",
   "metadata": {},
   "outputs": [],
   "source": []
  }
 ],
 "metadata": {
  "kernelspec": {
   "display_name": "Python 3 (ipykernel)",
   "language": "python",
   "name": "python3"
  },
  "language_info": {
   "codemirror_mode": {
    "name": "ipython",
    "version": 3
   },
   "file_extension": ".py",
   "mimetype": "text/x-python",
   "name": "python",
   "nbconvert_exporter": "python",
   "pygments_lexer": "ipython3",
   "version": "3.13.0"
  },
  "widgets": {
   "application/vnd.jupyter.widget-state+json": {
    "state": {},
    "version_major": 2,
    "version_minor": 0
   }
  }
 },
 "nbformat": 4,
 "nbformat_minor": 5
}
