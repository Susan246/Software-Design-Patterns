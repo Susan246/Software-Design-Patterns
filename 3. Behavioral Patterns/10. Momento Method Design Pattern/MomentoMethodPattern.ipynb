{
 "cells": [
  {
   "cell_type": "markdown",
   "id": "8589aad6-2968-434c-b107-0bca21698e9e",
   "metadata": {},
   "source": [
    "# Momento Method Design Pattern:"
   ]
  },
  {
   "cell_type": "markdown",
   "id": "936a0240-b1fe-4ec2-8402-9457a212dc92",
   "metadata": {},
   "source": [
    "## Some Use Cases:\n",
    "1. Data Versioning:\n",
    "- Use Case: In data engineering systems, it’s often required to keep track of different versions of datasets, such as historical data snapshots or backups of data pipelines. The Memento pattern can be used to capture the state of the data at a specific point in time.\n",
    "- Benefit: It allows for easy rollback or restoration to previous data states without exposing the internal structure or details of the data, making versioning easier to implement and manage.\n",
    "2. Checkpointing in Data Processing Pipelines:\n",
    "- Use Case: In long-running data processing pipelines (e.g., ETL processes), you might want to store the current state of the pipeline to allow for recovery in case of failure. The Memento pattern helps by saving the state of the pipeline at certain checkpoints.\n",
    "- Benefit: It ensures that if a failure occurs, the pipeline can be restored from the last valid checkpoint, improving reliability and reducing data loss.\n",
    "3. Undo/Redo Functionality in Data Transformation Tools:\n",
    "- Use Case: In tools that allow data analysts to transform or manipulate data (e.g., cleaning, filtering), providing undo/redo functionality can enhance the user experience. The Memento pattern can capture the state of the data before and after each transformation.\n",
    "- Benefit: It makes it easier to revert or redo operations on data, enhancing the flexibility and usability of data manipulation tools."
   ]
  },
  {
   "cell_type": "code",
   "execution_count": null,
   "id": "7678b265-4dc3-47dd-a993-baad6245ef49",
   "metadata": {},
   "outputs": [],
   "source": []
  },
  {
   "cell_type": "markdown",
   "id": "622ac098-2fcb-458c-86c3-9a364cb845bd",
   "metadata": {},
   "source": [
    "## 1. Scenario: Undo/Redo Functionality in a Text Editor\n",
    "- Imagine a text editor where a user can type text, delete, or edit it, and they need to have an undo/redo feature."
   ]
  },
  {
   "cell_type": "markdown",
   "id": "8ace2b7d-df52-4b3e-bb7a-26d2aedacd7c",
   "metadata": {},
   "source": [
    "### 1.1 Using Traditional Approach:"
   ]
  },
  {
   "cell_type": "code",
   "execution_count": 1,
   "id": "51c9bb8c-2fc1-4d35-b12b-3ee6681abddc",
   "metadata": {},
   "outputs": [
    {
     "name": "stdout",
     "output_type": "stream",
     "text": [
      "Hello world!\n",
      "Hello \n"
     ]
    }
   ],
   "source": [
    "class TextEditor:\n",
    "    def __init__(self):\n",
    "        self.text = \"\"\n",
    "        self.history = []\n",
    "\n",
    "    def type(self, content):\n",
    "        self.history.append(self.text)  # Store previous state\n",
    "        self.text += content\n",
    "\n",
    "    def undo(self):\n",
    "        if self.history:\n",
    "            self.text = self.history.pop()  # Revert to last saved state\n",
    "\n",
    "    def show_text(self):\n",
    "        print(self.text)\n",
    "\n",
    "# Usage\n",
    "editor = TextEditor()\n",
    "editor.type(\"Hello \")\n",
    "editor.type(\"world!\")\n",
    "editor.show_text()  # Output: Hello world!\n",
    "editor.undo()\n",
    "editor.show_text()  # Output: Hello\n"
   ]
  },
  {
   "cell_type": "markdown",
   "id": "65275bc3-c7d0-43c8-b6a7-641726cad2a3",
   "metadata": {},
   "source": [
    "### Problems with the Traditional Approach:\n",
    "- Memory Usage: We store the entire history of text, which may result in large memory usage, especially for long documents with frequent edits.\n",
    "- Scalability: As changes grow, managing history becomes cumbersome and inefficient.\n",
    "- No Isolation: We are tightly coupling the undo mechanism with the core text management logic, making the design less flexible."
   ]
  },
  {
   "cell_type": "code",
   "execution_count": null,
   "id": "d34674be-9ed5-4e4d-a6a0-e3932de8d286",
   "metadata": {},
   "outputs": [],
   "source": []
  },
  {
   "cell_type": "markdown",
   "id": "2ac0fd14-d65b-4a29-bf61-ef87c87d08e8",
   "metadata": {},
   "source": [
    "### 1.2 Using Momento Method Pattern:"
   ]
  },
  {
   "cell_type": "markdown",
   "id": "34faebdd-0431-407b-933a-d001e25274dc",
   "metadata": {},
   "source": [
    "### Components of the Memento Pattern\n",
    "- Memento: Holds the state of an object at a certain point in time. It is a snapshot of the object's state that can be restored later.\n",
    "- Originator: The object whose state needs to be saved. It creates a memento to capture its current state and can restore its state from a memento.\n",
    "- Caretaker: Manages the mementos. It is responsible for storing and retrieving mementos but does not modify the state stored in the memento."
   ]
  },
  {
   "cell_type": "code",
   "execution_count": 4,
   "id": "0fe88587-8eaa-4e39-b561-7a2649b903c8",
   "metadata": {},
   "outputs": [
    {
     "name": "stdout",
     "output_type": "stream",
     "text": [
      "Hello world!\n",
      "Hello world!\n"
     ]
    }
   ],
   "source": [
    "# Memento: Stores the state of the object\n",
    "class Memento:\n",
    "    def __init__(self, state):\n",
    "        self.state = state\n",
    "\n",
    "# Originator: The object whose state is saved and restored\n",
    "class TextEditor:\n",
    "    def __init__(self):\n",
    "        self.text = \"\"\n",
    "        \n",
    "    def type(self, content):\n",
    "        self.text += content\n",
    "\n",
    "    def show_text(self):\n",
    "        print(self.text)\n",
    "\n",
    "# Caretaker: Holds the saved states (Mementos)\n",
    "class Caretaker:\n",
    "    def __init__(self):\n",
    "        self.history = []\n",
    "\n",
    "    def add_memento(self, memento):\n",
    "        self.history.append(memento)\n",
    "\n",
    "    def get_last_memento(self):\n",
    "        if self.history:\n",
    "            return self.history.pop()\n",
    "        return None\n",
    "\n",
    "# Usage\n",
    "editor = TextEditor()\n",
    "caretaker = Caretaker()\n",
    "\n",
    "# Typing some content\n",
    "editor.type(\"Hello \")\n",
    "caretaker.add_memento(Memento(editor.text))  # Save the state\n",
    "editor.type(\"world!\")\n",
    "caretaker.add_memento(Memento(editor.text))  # Save the new state\n",
    "\n",
    "editor.show_text()  # Output: Hello world!\n",
    "\n",
    "# Undo the last action\n",
    "last_state = caretaker.get_last_memento()  # Get the last saved state\n",
    "if last_state:\n",
    "    editor.text = last_state.state  # Revert to that state\n",
    "\n",
    "editor.show_text()  # Output: Hello\n"
   ]
  },
  {
   "cell_type": "markdown",
   "id": "0d35c2cf-9a35-452c-8c5e-7f8355962730",
   "metadata": {},
   "source": [
    "### How Memento Solves the Problems:\n",
    "- Memory Efficiency: Instead of saving the entire text each time, we only save snapshots (Memento objects) of the state. This allows us to minimize the memory usage while maintaining the ability to undo changes.\n",
    "- Clean Separation of Concerns: The Memento pattern decouples the logic of managing the state (TextEditor) from storing the state (Memento). This reduces complexity in the TextEditor class.\n",
    "- Extensibility: We can easily extend the functionality (e.g., adding redo, or undoing more complex operations) by working with Mementos, without changing the core logic.\n",
    "- Encapsulation: The Memento pattern ensures that the internal state is not exposed or changed directly, providing better control and security over the editor's data."
   ]
  },
  {
   "cell_type": "code",
   "execution_count": null,
   "id": "67946fb1-94ec-41c9-bcf3-4730b3078f63",
   "metadata": {},
   "outputs": [],
   "source": []
  }
 ],
 "metadata": {
  "kernelspec": {
   "display_name": "Python 3 (ipykernel)",
   "language": "python",
   "name": "python3"
  },
  "language_info": {
   "codemirror_mode": {
    "name": "ipython",
    "version": 3
   },
   "file_extension": ".py",
   "mimetype": "text/x-python",
   "name": "python",
   "nbconvert_exporter": "python",
   "pygments_lexer": "ipython3",
   "version": "3.13.0"
  },
  "widgets": {
   "application/vnd.jupyter.widget-state+json": {
    "state": {},
    "version_major": 2,
    "version_minor": 0
   }
  }
 },
 "nbformat": 4,
 "nbformat_minor": 5
}
