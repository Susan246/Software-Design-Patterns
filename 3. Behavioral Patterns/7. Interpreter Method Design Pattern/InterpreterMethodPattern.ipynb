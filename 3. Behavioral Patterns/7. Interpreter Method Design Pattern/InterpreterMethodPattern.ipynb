{
 "cells": [
  {
   "cell_type": "markdown",
   "id": "90771052-29b3-4814-8917-b1b9b33f689f",
   "metadata": {},
   "source": [
    "# Interpreter Method Design Pattern:"
   ]
  },
  {
   "cell_type": "markdown",
   "id": "75fd22e5-12b0-4a6f-82b8-c00156a74a9f",
   "metadata": {},
   "source": [
    "## Some Use Cases:\n",
    "1. Query Language Interpretation:\n",
    "- Use Case: In data analytics or database systems, custom query languages (e.g., SQL-like syntax) are often used for extracting or transforming data. The Interpreter pattern can be employed to define the grammar and rules for parsing and interpreting these queries.\n",
    "- Benefit: This provides a structured way to evaluate queries and perform complex data manipulations, ensuring that custom queries can be interpreted and executed dynamically in a consistent manner.\n",
    "2. Data Validation and Transformation Rules:\n",
    "- Use Case: In data pipelines, complex validation and transformation rules often need to be interpreted and applied to incoming data. The Interpreter pattern can define rules (e.g., regular expressions, mathematical expressions) that are parsed and executed to validate or transform data.\n",
    "- Benefit: It provides a flexible way to define and interpret rules, making it easier to change or extend validation and transformation logic without changing the core application code.\n",
    "3. Business Rule Engine:\n",
    "- Use Case: In data-driven applications, business rules often govern data processing workflows. The Interpreter pattern can be used to define these rules in a formal language that can be parsed and evaluated at runtime (e.g., \"if a customer's age is greater than 18, approve loan application\").\n",
    "- Benefit: This enables dynamic rule evaluation without modifying the underlying application, providing flexibility for users to add or update rules as needed. It also allows for easy integration with different data sources and processing systems."
   ]
  },
  {
   "cell_type": "code",
   "execution_count": null,
   "id": "c44230ba-b23b-45b8-9e43-17265f62249e",
   "metadata": {},
   "outputs": [],
   "source": []
  },
  {
   "cell_type": "markdown",
   "id": "1dc5e06a-072d-4f91-84da-2f39dc34dc62",
   "metadata": {},
   "source": [
    "## 1. Scenario:\n",
    "- You need to evaluate mathematical expressions that involve a mix of operations (addition, multiplication, division, etc.) and numbers."
   ]
  },
  {
   "cell_type": "markdown",
   "id": "5047f3df-640f-4ed8-b2fe-4738233ea5f2",
   "metadata": {},
   "source": [
    "### 1.1 Traditional Method to Solve the Problem:\n"
   ]
  },
  {
   "cell_type": "code",
   "execution_count": 8,
   "id": "3566c7f8-61b7-4927-a7a8-ed6e786cede7",
   "metadata": {},
   "outputs": [
    {
     "name": "stdout",
     "output_type": "stream",
     "text": [
      "10\n",
      "30\n"
     ]
    }
   ],
   "source": [
    "# Traditional method to evaluate mathematical expressions\n",
    "def evaluate_expression(expression):\n",
    "    if '+' in expression:\n",
    "        return sum(map(int, expression.split('+')))\n",
    "    elif '*' in expression:\n",
    "        result = 1\n",
    "        for num in expression.split('*'):\n",
    "            result *= int(num)\n",
    "        return result\n",
    "    elif '-' in expression:\n",
    "        nums = list(map(int, expression.split('-')))\n",
    "        return nums[0] - sum(nums[1:])\n",
    "    elif '/' in expression:\n",
    "        nums = list(map(int, expression.split('/')))\n",
    "        return nums[0] / nums[1]\n",
    "    # More operations (exponentiation, modulus, etc.)\n",
    "    else:\n",
    "        raise ValueError(\"Unknown operation\")\n",
    "\n",
    "# Example usage\n",
    "print(evaluate_expression(\"2+3+5\"))  # Output: 10\n",
    "print(evaluate_expression(\"6*5\"))"
   ]
  },
  {
   "cell_type": "markdown",
   "id": "b45c1303-0292-4353-82f1-8c382131e6a2",
   "metadata": {},
   "source": [
    "### Problems with Traditional Approach:\n",
    "- Tightly Coupled: All operations are evaluated within the same method.\n",
    "- Difficult to Extend: Adding new operations (like exponentiation) requires modifying the if-else or switch block.\n",
    "- Scalability Issues: As more operations are added, the code becomes harder to maintain.\n",
    "- Code Duplication: Each operation type requires separate handling within the function, leading to duplication."
   ]
  },
  {
   "cell_type": "code",
   "execution_count": null,
   "id": "8143e608-f93e-4dc5-926e-f35e8a875fc8",
   "metadata": {},
   "outputs": [],
   "source": []
  },
  {
   "cell_type": "markdown",
   "id": "0f434aa7-929b-4e67-8823-92acdf734ea3",
   "metadata": {},
   "source": [
    "### 1.5 Interpreter Pattern Solution:\n",
    "- The Interpreter Pattern helps by treating operations as objects and interpreting them through an abstract interface. Each operation is encapsulated in a class, and you can easily extend the functionality without modifying existing code.\n",
    "\n",
    "### Components of the Interpreter Pattern:\n",
    "- Abstract Expression: Defines an interface for interpreting an expression.\n",
    "- Terminal Expressions: Represents values (like numbers in an expression).\n",
    "- Non-Terminal Expressions: Represents operators (like addition, multiplication, etc.).\n",
    "- Context: Holds any additional information needed for interpretation (in our case, it could be empty)."
   ]
  },
  {
   "cell_type": "code",
   "execution_count": 9,
   "id": "ffeb642e-43ca-4349-ad11-5f2bac6e6583",
   "metadata": {},
   "outputs": [
    {
     "name": "stdout",
     "output_type": "stream",
     "text": [
      "11\n",
      "4\n"
     ]
    }
   ],
   "source": [
    "# Abstract Expression\n",
    "class Expression:\n",
    "    def interpret(self):\n",
    "        pass\n",
    "\n",
    "# Terminal Expression: Represents numbers\n",
    "class Number(Expression):\n",
    "    def __init__(self, value):\n",
    "        self.value = value\n",
    "\n",
    "    def interpret(self):\n",
    "        return self.value\n",
    "\n",
    "# Non-Terminal Expressions: Represent operations\n",
    "class Add(Expression):\n",
    "    def __init__(self, left, right):\n",
    "        self.left = left\n",
    "        self.right = right\n",
    "\n",
    "    def interpret(self):\n",
    "        return self.left.interpret() + self.right.interpret()\n",
    "\n",
    "class Multiply(Expression):\n",
    "    def __init__(self, left, right):\n",
    "        self.left = left\n",
    "        self.right = right\n",
    "\n",
    "    def interpret(self):\n",
    "        return self.left.interpret() * self.right.interpret()\n",
    "\n",
    "class Subtract(Expression):\n",
    "    def __init__(self, left, right):\n",
    "        self.left = left\n",
    "        self.right = right\n",
    "\n",
    "    def interpret(self):\n",
    "        return self.left.interpret() - self.right.interpret()\n",
    "\n",
    "class Divide(Expression):\n",
    "    def __init__(self, left, right):\n",
    "        self.left = left\n",
    "        self.right = right\n",
    "\n",
    "    def interpret(self):\n",
    "        return self.left.interpret() / self.right.interpret()\n",
    "\n",
    "\n",
    "# Example of building the expression tree and evaluating it\n",
    "expr = Add(Multiply(Number(2), Number(3)), Number(5))  # (2 * 3) + 5\n",
    "print(expr.interpret())  # Output: 11 (evaluated as (6) + 5)\n",
    "\n",
    "expr2 = Subtract(Add(Number(5), Number(3)), Multiply(Number(2), Number(2)))  # (5 + 3) - (2 * 2)\n",
    "print(expr2.interpret())  # Output: 4 (evaluated as 8 - 4)\n"
   ]
  },
  {
   "cell_type": "markdown",
   "id": "eabba07c-9b24-49d8-bd63-9b993d923ec6",
   "metadata": {},
   "source": [
    "### How the Interpreter Pattern Solves the Problem:\n",
    "- Decouples Operations and Parsing: The operations (Add, Multiply, etc.) are separate from the logic of interpreting and evaluating expressions.\n",
    "- Modularization: Each operation is encapsulated in its own class, making the code cleaner and more modular.\n",
    "- Easy to Extend: New operations (like Exponentiation, Modulus) can be added by creating new classes without changing existing code.\n",
    "- Maintainability: Operations are handled independently, making the code easier to maintain and extend.\n",
    "- Reusability: Once operations are implemented, they can be reused across multiple expressions."
   ]
  },
  {
   "cell_type": "code",
   "execution_count": null,
   "id": "cb40d55d-0adc-4940-8211-659b14cc7097",
   "metadata": {},
   "outputs": [],
   "source": []
  },
  {
   "cell_type": "markdown",
   "id": "dd0066a7-6772-4be2-b4ef-b25490c02bb2",
   "metadata": {},
   "source": [
    "## 2. Scenario: Hand Gestures Interpreter (Contextual Interpretation)\n",
    "we're building an interpreter for hand gestures, where the same gesture might have different meanings depending on the context.\n",
    "\n",
    "#### Context:\n",
    "- Friend: A raised hand means \"Hi!\"\n",
    "- Police Officer: A raised hand means \"Stop!\"\n",
    "\n",
    "The same gesture (\"raised hand\") has different interpretations depending on whether the context is a friend or a police officer."
   ]
  },
  {
   "cell_type": "markdown",
   "id": "3c88f959-a33c-47b0-8e21-456366f60d09",
   "metadata": {},
   "source": [
    "### 2.1 Using Traditional Method:"
   ]
  },
  {
   "cell_type": "code",
   "execution_count": 13,
   "id": "460738ee-722b-474e-adc0-9219d28ff349",
   "metadata": {},
   "outputs": [
    {
     "name": "stdout",
     "output_type": "stream",
     "text": [
      "Hi!\n",
      "Stop!\n"
     ]
    }
   ],
   "source": [
    "# Traditional method to handle context-based gesture interpretation\n",
    "def interpret_gesture(gesture, context):\n",
    "    if gesture == \"raised hand\":\n",
    "        if context == \"friend\":\n",
    "            return \"Hi!\"\n",
    "        elif context == \"police\":\n",
    "            return \"Stop!\"\n",
    "        else:\n",
    "            return \"Unknown Gesture\"\n",
    "    return \"Unknown Gesture\"\n",
    "    \n",
    "# Example Usage\n",
    "context_friend = \"friend\"\n",
    "context_police = \"police\"\n",
    "\n",
    "gesture = \"raised hand\"\n",
    "\n",
    "# Interpreting the raised hand gesture in different contexts\n",
    "print(interpret_gesture(gesture, context_friend))  # Output: Hi!\n",
    "print(interpret_gesture(gesture, context_police))  # Output: Stop!\n"
   ]
  },
  {
   "cell_type": "markdown",
   "id": "8ba84a28-e1b8-4a09-a923-8107d73b2b66",
   "metadata": {},
   "source": [
    "### Issues with the Traditional Approach:\n",
    "- Tight Coupling: The logic for interpreting gestures is tightly coupled with the context, making it difficult to extend or modify.\n",
    "- Lack of Extensibility: Adding new gestures or contexts requires modifying the interpret_gesture function, which increases the risk of errors and reduces maintainability.\n",
    "- Scalability: If there are many gestures or roles, the if-else logic becomes harder to manage."
   ]
  },
  {
   "cell_type": "code",
   "execution_count": null,
   "id": "f0cfb1a4-960b-4bc4-beb1-d66b19b37a8e",
   "metadata": {},
   "outputs": [],
   "source": []
  },
  {
   "cell_type": "markdown",
   "id": "94c36901-ad04-4cc8-ab0b-79b33090d5d2",
   "metadata": {},
   "source": [
    "### 2.2 Using Interpreter Method Design Pattern:"
   ]
  },
  {
   "cell_type": "code",
   "execution_count": 14,
   "id": "0172e135-6707-47fb-b524-ab54c4b78eb4",
   "metadata": {},
   "outputs": [
    {
     "name": "stdout",
     "output_type": "stream",
     "text": [
      "Friend: Hi!\n",
      "Police: Stop!\n"
     ]
    }
   ],
   "source": [
    "# Abstract Expression\n",
    "class Expression:\n",
    "    def interpret(self, context):\n",
    "        pass\n",
    "\n",
    "# Terminal Expression: Represents a simple gesture (e.g., Raised Hand)\n",
    "class RaisedHandExpression(Expression):\n",
    "    def interpret(self, context):\n",
    "        if context == \"friend\":\n",
    "            return \"Hi!\"  # Gesture interpreted as 'Hi!' when the context is friend\n",
    "        elif context == \"police\":\n",
    "            return \"Stop!\"  # Gesture interpreted as 'Stop!' when the context is police\n",
    "        return \"Unknown Gesture\"  # Default case when context is not recognized\n",
    "\n",
    "# Context class to store the current state (role of the person interacting with the gesture)\n",
    "class Context:\n",
    "    def __init__(self, role):\n",
    "        self.role = role  # Role can be 'friend' or 'police'\n",
    "\n",
    "    def get_role(self):\n",
    "        return self.role\n",
    "\n",
    "# Client\n",
    "class GestureInterpreterClient:\n",
    "    def __init__(self, context):\n",
    "        self.context = context  # The context that will be passed to the interpreter\n",
    "\n",
    "    def interpret_gesture(self, gesture):\n",
    "        return gesture.interpret(self.context.get_role())  # Interpret the gesture based on the context\n",
    "\n",
    "# Creating context and gestures\n",
    "friend_context = Context(\"friend\")  # Context where the person is a friend\n",
    "police_context = Context(\"police\")  # Context where the person is a police officer\n",
    "\n",
    "# Creating the gesture expression for \"raised hand\"\n",
    "raised_hand = RaisedHandExpression()\n",
    "\n",
    "# Client interpreting gestures for different contexts\n",
    "client_friend = GestureInterpreterClient(friend_context)\n",
    "client_police = GestureInterpreterClient(police_context)\n",
    "\n",
    "# Interpreting the same gesture in different contexts\n",
    "print(f\"Friend: {client_friend.interpret_gesture(raised_hand)}\")  # Output: \"Hi!\"\n",
    "print(f\"Police: {client_police.interpret_gesture(raised_hand)}\")  # Output: \"Stop!\"\n"
   ]
  },
  {
   "cell_type": "markdown",
   "id": "f343b2dc-2750-4494-a6cf-017b51e67142",
   "metadata": {},
   "source": [
    "### How the Interpreter Pattern Solves the Problem:\n",
    "- Decoupling: The gesture and its interpretation logic are separated. The RaisedHandExpression is only responsible for interpreting the gesture, and the Context decides the meaning based on the role.\n",
    "- Extensibility: Adding new gestures (e.g., \"wave\") or new contexts (e.g., \"teacher\") is easy. We just need to create new classes like WaveExpression or TeacherContext.\n",
    "- Maintainability: If the interpretation logic changes, we only need to modify the corresponding expression (like RaisedHandExpression) without touching other parts of the system."
   ]
  },
  {
   "cell_type": "code",
   "execution_count": null,
   "id": "27807c24-13e5-44e7-aa8b-853177c859cf",
   "metadata": {},
   "outputs": [],
   "source": []
  }
 ],
 "metadata": {
  "kernelspec": {
   "display_name": "Python 3 (ipykernel)",
   "language": "python",
   "name": "python3"
  },
  "language_info": {
   "codemirror_mode": {
    "name": "ipython",
    "version": 3
   },
   "file_extension": ".py",
   "mimetype": "text/x-python",
   "name": "python",
   "nbconvert_exporter": "python",
   "pygments_lexer": "ipython3",
   "version": "3.13.0"
  },
  "widgets": {
   "application/vnd.jupyter.widget-state+json": {
    "state": {},
    "version_major": 2,
    "version_minor": 0
   }
  }
 },
 "nbformat": 4,
 "nbformat_minor": 5
}
