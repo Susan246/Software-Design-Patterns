{
 "cells": [
  {
   "cell_type": "markdown",
   "id": "5ee6dd09-3dbf-4fc1-852f-323fff0e1329",
   "metadata": {},
   "source": [
    "# Command Method Design Pattern:"
   ]
  },
  {
   "cell_type": "markdown",
   "id": "d5506535-a367-4b0e-84dd-5ec438f363f7",
   "metadata": {},
   "source": [
    "## Some Use Cases:\n",
    "1. Batch Data Processing Jobs:\n",
    "- Use Case: In batch processing systems, where large amounts of data are processed in scheduled jobs, the Command pattern can be used to encapsulate each batch job (e.g., data transformation, loading, or aggregation) as a command. This allows for flexible job scheduling and execution.\n",
    "- Benefit: The Command pattern enables modularity by separating the logic of the jobs from the scheduling mechanism, allowing for easy extension and reusability of individual data processing tasks.\n",
    "2. Data Export and Import Automation:\n",
    "- Use Case: When data needs to be exported from or imported into different systems (databases, APIs, file systems), the Command pattern can encapsulate each export/import action as a command. This allows users to queue, execute, and undo these actions easily.\n",
    "- Benefit: The Command pattern provides a structured way to manage various data export/import operations, enabling easy tracking, undoing, and automating complex workflows.\n",
    "3. Data Transformation Workflow Control:\n",
    "- Use Case: In data engineering, when multiple transformations need to be applied to a dataset in a specific order (e.g., cleaning, filtering, enrichment), the Command pattern can be used to encapsulate each transformation step as a command.\n",
    "- Benefit: The Command pattern allows for better control and flexibility over the sequence of transformations, enabling easy addition, removal, or reordering of data transformation steps without altering the core logic."
   ]
  },
  {
   "cell_type": "code",
   "execution_count": null,
   "id": "a8b88281-598a-4709-9817-1f36f2544300",
   "metadata": {},
   "outputs": [],
   "source": []
  },
  {
   "cell_type": "markdown",
   "id": "9a2cb9a1-fb5d-457b-a03b-b31060496b3f",
   "metadata": {},
   "source": [
    "## 1. Scenario: Managing Database Operations\n",
    "- You are building a system to manage database operations such as INSERT, UPDATE, DELETE, and SELECT. The operations can be queued, executed later, or even rolled back (undo feature).\n",
    "\n",
    "#### The challenge is to design a system where:\n",
    "- The system is not tightly coupled with the database handling logic.\n",
    "New operations (e.g., bulk insert, batch updates) can be added without modifying existing code.\n",
    "Undo/redo of operations is easy to implement."
   ]
  },
  {
   "cell_type": "markdown",
   "id": "3c7655e6-ba9b-4cc6-8b8f-a8884b553018",
   "metadata": {},
   "source": [
    "### 1.2 Solution using Traditional Approach:"
   ]
  },
  {
   "cell_type": "code",
   "execution_count": 3,
   "id": "01952563-50de-4c90-87e3-8c1582e6f8a6",
   "metadata": {},
   "outputs": [
    {
     "name": "stdout",
     "output_type": "stream",
     "text": [
      "Inserting Record1\n",
      "Updating Record1\n",
      "Deleting Record1\n",
      "Undoing delete: Re-inserting Record1\n",
      "Undoing update on Record1\n"
     ]
    }
   ],
   "source": [
    "class Database:\n",
    "    def __init__(self):\n",
    "        self.history = []\n",
    "\n",
    "    def insert(self, record):\n",
    "        print(f\"Inserting {record}\")\n",
    "        self.history.append((\"insert\", record))\n",
    "\n",
    "    def update(self, record):\n",
    "        print(f\"Updating {record}\")\n",
    "        self.history.append((\"update\", record))\n",
    "\n",
    "    def delete(self, record):\n",
    "        print(f\"Deleting {record}\")\n",
    "        self.history.append((\"delete\", record))\n",
    "\n",
    "    def undo_last_action(self):\n",
    "        if not self.history:\n",
    "            print(\"No actions to undo.\")\n",
    "            return\n",
    "        \n",
    "        action, record = self.history.pop()\n",
    "        if action == \"insert\":\n",
    "            print(f\"Undoing insert: Deleting {record}\")\n",
    "        elif action == \"update\":\n",
    "            print(f\"Undoing update on {record}\")\n",
    "        elif action == \"delete\":\n",
    "            print(f\"Undoing delete: Re-inserting {record}\")\n",
    "\n",
    "\n",
    "# Usage\n",
    "db = Database()\n",
    "db.insert(\"Record1\")  # Inserting Record1\n",
    "db.update(\"Record1\")  # Updating Record1\n",
    "db.delete(\"Record1\")  # Deleting Record1\n",
    "db.undo_last_action()  # Undoing delete: Re-inserting Record1\n",
    "db.undo_last_action()  # Undoing update on Record1\n"
   ]
  },
  {
   "cell_type": "markdown",
   "id": "ed3f52de-69ab-4c76-bc41-90cf5692a3be",
   "metadata": {},
   "source": [
    "### Problems with the Traditional Method:\n",
    "- Tight Coupling: The Database class handles both executing operations and maintaining history, violating the Single Responsibility Principle.\n",
    "- Scalability Issues: Adding new operations requires modifying the Database class, leading to poor extensibility.\n",
    "- No Abstraction for Operations: Operations (insert, update, delete) are hardcoded in the undo_last_action logic, making it difficult to adapt or extend.\n",
    "- Hard to Manage Complex Sequences: Undoing or redoing specific commands is cumbersome as all logic resides within the Database."
   ]
  },
  {
   "cell_type": "code",
   "execution_count": null,
   "id": "1f350df6-1100-4495-a838-c4703bf8e3d1",
   "metadata": {},
   "outputs": [],
   "source": []
  },
  {
   "cell_type": "markdown",
   "id": "36216d19-cc31-4b32-b0b5-d3d927e0cc9b",
   "metadata": {},
   "source": [
    "### 1.2 Solution Using Command Design Pattern:\n",
    "- With the Command Design Pattern, each database operation is encapsulated as a Command object. The client queues and executes commands, decoupling itself from the database."
   ]
  },
  {
   "cell_type": "markdown",
   "id": "e15bb8c6-758c-44a0-8181-a8d0d9b2caf6",
   "metadata": {},
   "source": [
    "### Components of Command Design Pattern:\n",
    "\n",
    "- Command: A blueprint defining the action to be performed and a way to undo it.\n",
    "- Concrete Command: Specific implementation of an action, often linked to the object performing it.\n",
    "- Receiver: The entity that carries out the actual work or task when a command is executed.\n",
    "- Invoker: The handler or manager that triggers the execution of commands and may store them for future use (e.g., undo/redo).\n",
    "- Client: The originator that decides the actions, creates the commands, and connects them to the invoker."
   ]
  },
  {
   "cell_type": "code",
   "execution_count": 2,
   "id": "4bce1320-dbdc-4626-8c9e-657c84905ab6",
   "metadata": {},
   "outputs": [
    {
     "name": "stdout",
     "output_type": "stream",
     "text": [
      "Inserting Record1\n",
      "Updating Record1\n",
      "Deleting Record1\n",
      "Inserting Record1\n"
     ]
    }
   ],
   "source": [
    "# Command Interface\n",
    "class Command:\n",
    "    def execute(self):\n",
    "        pass\n",
    "\n",
    "    def undo(self):\n",
    "        pass\n",
    "\n",
    "\n",
    "# Concrete Commands\n",
    "class InsertCommand(Command):\n",
    "    def __init__(self, database, record):\n",
    "        self.database = database\n",
    "        self.record = record\n",
    "\n",
    "    def execute(self):\n",
    "        self.database.insert(self.record)\n",
    "\n",
    "    def undo(self):\n",
    "        self.database.delete(self.record)\n",
    "\n",
    "\n",
    "class UpdateCommand(Command):\n",
    "    def __init__(self, database, record):\n",
    "        self.database = database\n",
    "        self.record = record\n",
    "\n",
    "    def execute(self):\n",
    "        self.database.update(self.record)\n",
    "\n",
    "    def undo(self):\n",
    "        print(f\"Reverting update on {self.record}\")\n",
    "\n",
    "\n",
    "class DeleteCommand(Command):\n",
    "    def __init__(self, database, record):\n",
    "        self.database = database\n",
    "        self.record = record\n",
    "\n",
    "    def execute(self):\n",
    "        self.database.delete(self.record)\n",
    "\n",
    "    def undo(self):\n",
    "        self.database.insert(self.record)\n",
    "\n",
    "\n",
    "# Invoker\n",
    "class CommandManager:\n",
    "    def __init__(self):\n",
    "        self.command_queue = []\n",
    "        self.history = []\n",
    "\n",
    "    def execute_command(self, command):\n",
    "        command.execute()\n",
    "        self.history.append(command)\n",
    "\n",
    "    def undo_last_command(self):\n",
    "        if self.history:\n",
    "            last_command = self.history.pop()\n",
    "            last_command.undo()\n",
    "\n",
    "# Database Class (Receiver)\n",
    "class Database:\n",
    "    def insert(self, record):\n",
    "        print(f\"Inserting {record}\")\n",
    "\n",
    "    def update(self, record):\n",
    "        print(f\"Updating {record}\")\n",
    "\n",
    "    def delete(self, record):\n",
    "        print(f\"Deleting {record}\")\n",
    "\n",
    "\n",
    "# Usage\n",
    "db = Database()\n",
    "manager = CommandManager()\n",
    "\n",
    "# Create commands\n",
    "insert_cmd = InsertCommand(db, \"Record1\")\n",
    "update_cmd = UpdateCommand(db, \"Record1\")\n",
    "delete_cmd = DeleteCommand(db, \"Record1\")\n",
    "\n",
    "# Execute commands/ passing request as an object\n",
    "manager.execute_command(insert_cmd)  # Inserting Record1\n",
    "manager.execute_command(update_cmd)  # Updating Record1\n",
    "manager.execute_command(delete_cmd)  # Deleting Record1\n",
    "\n",
    "# Undo last command\n",
    "manager.undo_last_command()  # Reverts deletion: Inserting Record1\n"
   ]
  },
  {
   "cell_type": "markdown",
   "id": "52bca04a-08fa-48d1-a5a0-435ff7f9bd13",
   "metadata": {},
   "source": [
    "### How Command Pattern Solves These Problems:\n",
    "\n",
    "- Encapsulation of Commands: Each command (InsertCommand, UpdateCommand, DeleteCommand) is encapsulated in a class, separating execution logic from the Database.\n",
    "- Extensibility: Adding new operations is as simple as creating a new Command class without modifying existing code.\n",
    "- History Management: The CommandManager independently handles the history of commands, adhering to Single Responsibility Principle.\n",
    "- Reusability: Commands are reusable and can be executed or undone without duplicating logic.\n",
    "- Dynamic Behavior: You can add, modify, or remove commands dynamically during runtime."
   ]
  },
  {
   "cell_type": "code",
   "execution_count": null,
   "id": "56692298-6b10-4af7-a61e-21744eb97a8d",
   "metadata": {},
   "outputs": [],
   "source": []
  },
  {
   "cell_type": "markdown",
   "id": "6c74a1f8-97eb-4625-aa9b-a036e555068d",
   "metadata": {},
   "source": [
    "### Advantage of decoupling of Invoker and Receiver:\n",
    "- Separation of Concerns: Invoker doesn’t need to know the execution logic (Receiver).\n",
    "- Extensibility: Easily add new commands without altering existing code.\n",
    "- Undo/Redo Support: Manage actions with undo functionality.\n",
    "- Flexibility: Reuse invoker with different receivers."
   ]
  },
  {
   "cell_type": "markdown",
   "id": "33e89b8a-ef5d-4bb1-9a5e-ca5d41af3feb",
   "metadata": {},
   "source": [
    "### Advantage of passing Request as an Object:\n",
    "- Decoupling Sender and Receiver: The sender only knows the command exists, not how it's executed, reducing dependencies.\n",
    "- Flexibility: Commands can be queued, stored, or passed around easily for scheduling, undo/redo, or batch processing.\n",
    "- Undo/Redo: Commands can store enough info to allow for easy reversal or re-execution of actions.\n",
    "- Maintainability: Changes to logic are confined to the command object, reducing risk in the rest of the system.\n",
    "- Reusability: Command objects can be reused across different parts of the application.\n",
    "- Extensibility: New commands can be added without altering existing code.\n",
    "- Auditability: Commands can encapsulate logging, validation, or auditing, keeping concerns separate.\n",
    "- Parameterization: Commands store all necessary data, allowing for more focused and clean execution"
   ]
  }
 ],
 "metadata": {
  "kernelspec": {
   "display_name": "Python 3 (ipykernel)",
   "language": "python",
   "name": "python3"
  },
  "language_info": {
   "codemirror_mode": {
    "name": "ipython",
    "version": 3
   },
   "file_extension": ".py",
   "mimetype": "text/x-python",
   "name": "python",
   "nbconvert_exporter": "python",
   "pygments_lexer": "ipython3",
   "version": "3.13.0"
  },
  "widgets": {
   "application/vnd.jupyter.widget-state+json": {
    "state": {},
    "version_major": 2,
    "version_minor": 0
   }
  }
 },
 "nbformat": 4,
 "nbformat_minor": 5
}
