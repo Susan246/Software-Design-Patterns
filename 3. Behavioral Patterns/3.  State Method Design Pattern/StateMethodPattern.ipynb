{
 "cells": [
  {
   "cell_type": "markdown",
   "id": "3e1c15d4-b726-4ebb-8aab-08221d6c10b3",
   "metadata": {},
   "source": [
    "# State Method Design Pattern:"
   ]
  },
  {
   "cell_type": "markdown",
   "id": "d3dda8f6-fb1d-405b-9b96-efbd7cdc627a",
   "metadata": {},
   "source": [
    "## Some Use Cases:\n",
    "1. Data Processing Pipeline with Multiple Stages:\n",
    "- Use Case: In a data pipeline, different stages of data processing may require different operations depending on the data's state (e.g., raw, cleaned, processed). The State pattern can manage transitions between different processing states such as \"raw,\" \"cleaned,\" or \"transformed.\"\n",
    "- Benefit: The State pattern allows the pipeline to transition seamlessly between stages, applying appropriate logic at each state, and ensuring a consistent workflow for data transformation without complex conditional logic.\n",
    "2. Real-Time Data Monitoring Systems:\n",
    "- Use Case: In real-time systems that monitor data streams, the system can transition between states such as \"active,\" \"paused,\" or \"error\" based on data availability or processing status. The State pattern helps manage these transitions effectively.\n",
    "- Benefit: The State pattern enables the monitoring system to handle different states dynamically, providing appropriate responses based on the system’s current status, and ensuring better control over real-time data processing.\n",
    "3. Data Validation Workflow:\n",
    "- Use Case: In systems that validate data from multiple sources, different validation rules may be applied based on the state of the data (e.g., \"pending validation,\" \"valid,\" \"invalid\"). The State pattern can define and change validation behaviors based on these states.\n",
    "- Benefit: The State pattern provides a clean way to handle different validation states, allowing easy maintenance and scalability for validating complex datasets, ensuring that rules are applied correctly at each stage of the validation process."
   ]
  },
  {
   "cell_type": "code",
   "execution_count": null,
   "id": "d924a8b8-6ab5-4347-89a0-add4a6d17ed6",
   "metadata": {},
   "outputs": [],
   "source": []
  },
  {
   "cell_type": "markdown",
   "id": "3fdbe7f1-cff4-4805-b610-95a6db4a14b4",
   "metadata": {},
   "source": [
    "## 1. Scenario: Traffic Light System\n",
    "A traffic light system transitions between states (Green, Yellow, and Red) to manage traffic flow. Each state has specific behavior:\n",
    "- Green: Vehicles move.\n",
    "- Yellow: Vehicles prepare to stop.\n",
    "- Red: Vehicles must stop."
   ]
  },
  {
   "cell_type": "markdown",
   "id": "145ef41a-2ae7-4d5e-89f6-893b0c2421bb",
   "metadata": {},
   "source": [
    "### 1.1 Solving with Traditional Method (if-else)"
   ]
  },
  {
   "cell_type": "code",
   "execution_count": 4,
   "id": "fb1e690c-dab0-443d-a055-eac34445bb8d",
   "metadata": {},
   "outputs": [
    {
     "name": "stdout",
     "output_type": "stream",
     "text": [
      "Vehicles must stop.\n",
      "Vehicles can move.\n",
      "Vehicles should prepare to stop.\n",
      "Vehicles must stop.\n"
     ]
    }
   ],
   "source": [
    "# Traditional approach with if-else\n",
    "class TrafficLight:\n",
    "    def __init__(self):\n",
    "        self.state = \"Red\"  # Initial state\n",
    "\n",
    "    def change_state(self):\n",
    "        if self.state == \"Red\":\n",
    "            print(\"Vehicles must stop.\")\n",
    "            self.state = \"Green\"\n",
    "        elif self.state == \"Green\":\n",
    "            print(\"Vehicles can move.\")\n",
    "            self.state = \"Yellow\"\n",
    "        elif self.state == \"Yellow\":\n",
    "            print(\"Vehicles should prepare to stop.\")\n",
    "            self.state = \"Red\"\n",
    "        else:\n",
    "            print(\"Invalid state.\")\n",
    "\n",
    "# Usage\n",
    "traffic_light = TrafficLight()\n",
    "traffic_light.change_state()  # Red\n",
    "traffic_light.change_state()  # Red -> Green\n",
    "traffic_light.change_state()  # Green -> Yellow\n",
    "traffic_light.change_state()  # Yellow -> Red"
   ]
  },
  {
   "cell_type": "code",
   "execution_count": null,
   "id": "e7adddfe-43b8-4964-a8f2-bbc577b6e82a",
   "metadata": {},
   "outputs": [],
   "source": []
  },
  {
   "cell_type": "markdown",
   "id": "fea03dfd-1490-413d-bf8c-190f26463f1d",
   "metadata": {},
   "source": [
    "### 1.2 Solving with State Pattern\n",
    "### Components in the State Pattern:\n",
    "- State Interface: Defines a method to change the state.\n",
    "- Concrete States: Implement state-specific behaviors (Green, Yellow, Red).\n",
    "- Context: It manages the states and represent the system itself (traffic light)."
   ]
  },
  {
   "cell_type": "code",
   "execution_count": 15,
   "id": "21fba501-1bf9-4b08-a583-7c8530262d34",
   "metadata": {},
   "outputs": [
    {
     "name": "stdout",
     "output_type": "stream",
     "text": [
      "Vehicles must stop.\n",
      "Vehicles can move.\n",
      "Vehicles should prepare to stop.\n",
      "Vehicles must stop.\n"
     ]
    }
   ],
   "source": [
    "# State Interface\n",
    "class TrafficLightState:\n",
    "    def change_state(self, context):\n",
    "        raise NotImplementedError(\"Subclasses must implement this method\")\n",
    "\n",
    "# Concrete State: Red\n",
    "class RedState(TrafficLightState):\n",
    "    def change_state(self, context):\n",
    "        print(\"Vehicles must stop.\")\n",
    "        context.set_state(GreenState())  # Transition to Green\n",
    "\n",
    "# Concrete State: Green\n",
    "class GreenState(TrafficLightState):\n",
    "    def change_state(self, context):\n",
    "        print(\"Vehicles can move.\")\n",
    "        context.set_state(YellowState())  # Transition to Yellow\n",
    "\n",
    "# Concrete State: Yellow\n",
    "class YellowState(TrafficLightState):\n",
    "    def change_state(self, context):\n",
    "        print(\"Vehicles should prepare to stop.\")\n",
    "        context.set_state(RedState())  # Transition to Red\n",
    "\n",
    "# Context: Traffic Light System\n",
    "class TrafficLight:\n",
    "    def __init__(self):\n",
    "        self.state = RedState()  # Initial state\n",
    "\n",
    "    def set_state(self, state):\n",
    "        self.state = state  # Set the current state\n",
    "\n",
    "    def change_state(self):\n",
    "        self.state.change_state(self)  # Delegate to current state's behavior\n",
    "\n",
    "# Usage\n",
    "traffic_light = TrafficLight()\n",
    "traffic_light.change_state()  # Red\n",
    "traffic_light.change_state()  # Red -> Green\n",
    "traffic_light.change_state()  # Green -> Yellow\n",
    "traffic_light.change_state()  # Yellow -> Red\n"
   ]
  },
  {
   "cell_type": "code",
   "execution_count": null,
   "id": "20cf4c90-5c56-4a3d-a0f8-56ccd547bfd2",
   "metadata": {},
   "outputs": [],
   "source": []
  },
  {
   "cell_type": "markdown",
   "id": "606da690-a638-44b0-8379-957ce3b9d26a",
   "metadata": {},
   "source": [
    "## 2. Scenario: Vending Machine System\n",
    "The vending machine operates in different states like Idle, Has Money, Dispensing Item, Under Maintenance, and Out of Service. Each state dictates the behavior of the machine. For example:\n",
    "- Idle: The machine is ready to accept money.\n",
    "- Has Money: The machine waits for the user to select an item.\n",
    "- Dispensing Item: The machine dispenses the selected item.\n",
    "- Under Maintenance: The machine cannot accept money or dispense items.\n",
    "- Out of Service: The machine cannot perform any operations."
   ]
  },
  {
   "cell_type": "markdown",
   "id": "86e774d7-6a8d-41c9-93bc-756a3721550a",
   "metadata": {},
   "source": [
    "### 2.1 Solving with Traditional Method (With if-else or switch-case):"
   ]
  },
  {
   "cell_type": "code",
   "execution_count": 8,
   "id": "ca6b2421-7915-4054-88ad-62d131be0514",
   "metadata": {},
   "outputs": [
    {
     "name": "stdout",
     "output_type": "stream",
     "text": [
      "Money inserted: 5\n",
      "Item selected, dispensing now...\n",
      "Item dispensed.\n",
      "Vending machine is out of service.\n",
      "Machine is out of service.\n",
      "Vending machine is under maintenance.\n",
      "Vending machine is ready for use again.\n"
     ]
    }
   ],
   "source": [
    "class VendingMachine:\n",
    "    def __init__(self):\n",
    "        self.state = \"Idle\"\n",
    "    \n",
    "    def insert_money(self, amount):\n",
    "        if self.state == \"Idle\":\n",
    "            print(f\"Money inserted: {amount}\")\n",
    "            self.state = \"Has Money\"\n",
    "        elif self.state == \"Has Money\":\n",
    "            print(\"Money already inserted.\")\n",
    "        elif self.state == \"Dispensing Item\":\n",
    "            print(\"Cannot insert money. Dispensing item.\")\n",
    "        elif self.state == \"Out of Service\":\n",
    "            print(\"Machine is out of service.\")\n",
    "        elif self.state == \"Under Maintenance\":\n",
    "            print(\"Machine is under maintenance.\")\n",
    "    \n",
    "    def select_item(self):\n",
    "        if self.state == \"Idle\":\n",
    "            print(\"Please insert money first.\")\n",
    "        elif self.state == \"Has Money\":\n",
    "            print(\"Item selected, dispensing now...\")\n",
    "            self.state = \"Dispensing Item\"\n",
    "        elif self.state == \"Dispensing Item\":\n",
    "            print(\"Already dispensing an item.\")\n",
    "        elif self.state == \"Out of Service\":\n",
    "            print(\"Machine is out of service.\")\n",
    "        elif self.state == \"Under Maintenance\":\n",
    "            print(\"Machine is under maintenance.\")\n",
    "    \n",
    "    def dispense_item(self):\n",
    "        if self.state == \"Dispensing Item\":\n",
    "            print(\"Item dispensed.\")\n",
    "            self.state = \"Idle\"  # Go back to idle after dispensing\n",
    "        else:\n",
    "            print(\"Cannot dispense item. Select an item first.\")\n",
    "    \n",
    "    def out_of_service(self):\n",
    "        self.state = \"Out of Service\"\n",
    "        print(\"Vending machine is out of service.\")\n",
    "    \n",
    "    def under_maintenance(self):\n",
    "        self.state = \"Under Maintenance\"\n",
    "        print(\"Vending machine is under maintenance.\")\n",
    "    \n",
    "    def service_completed(self):\n",
    "        self.state = \"Idle\"\n",
    "        print(\"Vending machine is ready for use again.\")\n",
    "\n",
    "\n",
    "# Client code:\n",
    "vending_machine = VendingMachine()\n",
    "\n",
    "# Insert money\n",
    "vending_machine.insert_money(5)\n",
    "\n",
    "# Select item\n",
    "vending_machine.select_item()\n",
    "\n",
    "# Dispense item\n",
    "vending_machine.dispense_item()\n",
    "\n",
    "# Put machine out of service\n",
    "vending_machine.out_of_service()\n",
    "\n",
    "# Attempt to use machine when it's out of service\n",
    "vending_machine.insert_money(2)\n",
    "\n",
    "# Under maintenance\n",
    "vending_machine.under_maintenance()\n",
    "\n",
    "# Service completed\n",
    "vending_machine.service_completed()\n"
   ]
  },
  {
   "cell_type": "markdown",
   "id": "8f1fde77-7ed8-4ca6-93b6-d56f233530b3",
   "metadata": {},
   "source": [
    "### Problems with the Traditional Method:\n",
    "- Hard-Coded Transitions: The if-else statements check the current state and transition based on manual conditions, making it prone to errors when adding new states or behaviors.\n",
    "- Complexity: As more states and transitions are added, the complexity of the logic increases, making the system harder to maintain and extend.\n",
    "- Rigid Code: Every change in the state requires modification in multiple parts of the code.\n",
    "- Code Duplication: Each method (e.g., insert_money, select_item, etc.) repeats the state check logic, leading to redundant code and increased maintenance effort"
   ]
  },
  {
   "cell_type": "code",
   "execution_count": null,
   "id": "688649af-7287-490f-aef4-3621bb6d4a68",
   "metadata": {},
   "outputs": [],
   "source": []
  },
  {
   "cell_type": "markdown",
   "id": "765dfa16-39b7-4154-95e7-5459d97b5f9f",
   "metadata": {},
   "source": [
    "### 2.2 Solving with the State Pattern:"
   ]
  },
  {
   "cell_type": "code",
   "execution_count": 7,
   "id": "593402b6-15d6-4ffe-b500-51329307ed54",
   "metadata": {},
   "outputs": [
    {
     "name": "stdout",
     "output_type": "stream",
     "text": [
      "Money inserted: 5\n",
      "Item selected, dispensing now...\n",
      "Item dispensed.\n",
      "Machine is under maintenance. Cannot accept money.\n",
      "Machine is under maintenance. Cannot select items.\n"
     ]
    }
   ],
   "source": [
    "# State Interface\n",
    "class VendingMachineState:\n",
    "    def insert_money(self, context, amount):\n",
    "        raise NotImplementedError(\"Subclasses must implement this method.\")\n",
    "    \n",
    "    def select_item(self, context):\n",
    "        raise NotImplementedError(\"Subclasses must implement this method.\")\n",
    "    \n",
    "    def dispense_item(self, context):\n",
    "        raise NotImplementedError(\"Subclasses must implement this method.\")\n",
    "\n",
    "# Concrete State: Idle (Initial State)\n",
    "class IdleState(VendingMachineState):\n",
    "    def insert_money(self, context, amount):\n",
    "        print(f\"Money inserted: {amount}\")\n",
    "        context.set_state(HasMoneyState())  # Transition to HasMoneyState\n",
    "\n",
    "    def select_item(self, context):\n",
    "        print(\"Please insert money first.\")\n",
    "\n",
    "    def dispense_item(self, context):\n",
    "        print(\"Cannot dispense item. Select an item first.\")\n",
    "\n",
    "# Concrete State: HasMoney\n",
    "class HasMoneyState(VendingMachineState):\n",
    "    def insert_money(self, context, amount):\n",
    "        print(\"Money already inserted.\")\n",
    "    \n",
    "    def select_item(self, context):\n",
    "        print(\"Item selected, dispensing now...\")\n",
    "        context.set_state(DispensingItemState())  # Transition to DispensingItemState\n",
    "    \n",
    "    def dispense_item(self, context):\n",
    "        print(\"Cannot dispense item yet. Select an item first.\")\n",
    "\n",
    "# Concrete State: Dispensing Item\n",
    "class DispensingItemState(VendingMachineState):\n",
    "    def insert_money(self, context, amount):\n",
    "        print(\"Cannot insert money. Dispensing item.\")\n",
    "\n",
    "    def select_item(self, context):\n",
    "        print(\"Already dispensing an item.\")\n",
    "    \n",
    "    def dispense_item(self, context):\n",
    "        print(\"Item dispensed.\")\n",
    "        context.set_state(IdleState())  # Transition back to IdleState\n",
    "\n",
    "# Concrete State: Under Maintenance\n",
    "class UnderMaintenanceState(VendingMachineState):\n",
    "    def insert_money(self, context, amount):\n",
    "        print(\"Machine is under maintenance. Cannot accept money.\")\n",
    "    \n",
    "    def select_item(self, context):\n",
    "        print(\"Machine is under maintenance. Cannot select items.\")\n",
    "    \n",
    "    def dispense_item(self, context):\n",
    "        print(\"Machine is under maintenance. Cannot dispense items.\")\n",
    "\n",
    "# Concrete State: Out of Service\n",
    "class OutOfServiceState(VendingMachineState):\n",
    "    def insert_money(self, context, amount):\n",
    "        print(\"Machine is out of service.\")\n",
    "    \n",
    "    def select_item(self, context):\n",
    "        print(\"Machine is out of service.\")\n",
    "    \n",
    "    def dispense_item(self, context):\n",
    "        print(\"Machine is out of service.\")\n",
    "\n",
    "# Context: Vending Machine\n",
    "class VendingMachine:\n",
    "    def __init__(self):\n",
    "        self.state = IdleState()  # Initial state\n",
    "\n",
    "    def set_state(self, state):\n",
    "        self.state = state  # Set the new state\n",
    "\n",
    "    def insert_money(self, amount):\n",
    "        self.state.insert_money(self, amount)\n",
    "\n",
    "    def select_item(self):\n",
    "        self.state.select_item(self)\n",
    "\n",
    "    def dispense_item(self):\n",
    "        self.state.dispense_item(self)\n",
    "\n",
    "# Usage\n",
    "vm = VendingMachine()\n",
    "vm.insert_money(5)  # Transition to HasMoneyState\n",
    "vm.select_item()  # Transition to DispensingItemState\n",
    "vm.dispense_item()  # Transition back to IdleState\n",
    "\n",
    "# Switching to Under Maintenance\n",
    "vm.set_state(UnderMaintenanceState())\n",
    "vm.insert_money(5)  # Machine is under maintenance\n",
    "vm.select_item()  # Machine is under maintenance\n"
   ]
  },
  {
   "cell_type": "markdown",
   "id": "37b9ce88-6e98-4cd3-bea8-1571c77cf61b",
   "metadata": {},
   "source": [
    "### How State Method Pattern solve problems:\n",
    "- Avoids complex conditionals: No need for if-else or switch-case to manage states.\n",
    "- Encapsulates behavior: Each state has its own class for specific behavior.\n",
    "- Simplifies state transitions: Transitions handled within state classes, making flow clear.\n",
    "- Improves flexibility: New states can be added easily without affecting other code.\n",
    "- Decouples logic: Context delegates behavior to the current state.\n",
    "- Enhances scalability: New states can be added without modifying existing code.\n",
    "- Reduces Code Duplication: Each state-specific behavior is encapsulated in its own class, reducing repetitive logic and making maintenance easier."
   ]
  },
  {
   "cell_type": "code",
   "execution_count": null,
   "id": "4c21f2fa-1dc3-4a53-8ce5-72b26b2aca84",
   "metadata": {},
   "outputs": [],
   "source": []
  },
  {
   "cell_type": "markdown",
   "id": "dba574ef-6309-4a8f-bd7a-884293dca684",
   "metadata": {},
   "source": [
    "## State Method Pattern and Strategy Method seems similar but they are different:\n",
    "### State Pattern:\n",
    "The behavior of an object changes based on its current state, and the state transitions between predefined states. The object repeats certain behaviors depending on which state it’s in. Each state has specific logic, and state transitions drive the flow.\n",
    "- Example: In a vending machine, the state transitions from \"Idle\" to \"Has Money\" to \"Dispensing Item\", and each state has distinct behavior.\n",
    "\n",
    "### Strategy Pattern:\n",
    "The behavior changes dynamically by selecting different strategies (or algorithms). There is no repetitive internal state, and the change is based on switching strategies rather than transitioning states.\n",
    "- Example: A payment system dynamically selects a strategy like \"CreditCardStrategy\" or \"CashStrategy\" based on the user’s choice. There are no repeated internal transitions, just swapping strategies."
   ]
  }
 ],
 "metadata": {
  "kernelspec": {
   "display_name": "Python 3 (ipykernel)",
   "language": "python",
   "name": "python3"
  },
  "language_info": {
   "codemirror_mode": {
    "name": "ipython",
    "version": 3
   },
   "file_extension": ".py",
   "mimetype": "text/x-python",
   "name": "python",
   "nbconvert_exporter": "python",
   "pygments_lexer": "ipython3",
   "version": "3.13.0"
  },
  "widgets": {
   "application/vnd.jupyter.widget-state+json": {
    "state": {},
    "version_major": 2,
    "version_minor": 0
   }
  }
 },
 "nbformat": 4,
 "nbformat_minor": 5
}
