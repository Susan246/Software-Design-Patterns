{
 "cells": [
  {
   "cell_type": "markdown",
   "id": "d80f54c2-69b5-42ce-b041-fd6b669df25d",
   "metadata": {},
   "source": [
    "## Problems without and Solution By Builder Method Pattern\n",
    "- Overload on Constructor: Too many parameters make it hard to manage.\n",
    "- Inflexibility: Adding features requires changing the constructor.\n",
    "-  Breaking Client Code: Modifying the constructor breaks existing code.\n",
    "- No Flexibility: Can't create complex objects step by step."
   ]
  },
  {
   "cell_type": "markdown",
   "id": "e6882d54-29c8-4bf6-be34-aea76314be9b",
   "metadata": {},
   "source": [
    "### Problem 1: Constructor Overload Without Builder Method\n",
    "When we have multiple variations of a product, we end up overloading the constructor to handle different combinations of parameters. This leads to:\n",
    "\n",
    "- Complexity: Many overloaded constructors are difficult to maintain.\n",
    "- Ambiguity: Clients must know the correct parameter order.\n",
    "- Inflexibility: Adding new features requires changing all constructors and potentially breaking existing code."
   ]
  },
  {
   "cell_type": "code",
   "execution_count": 1,
   "id": "d64a694a-b4d3-4745-a755-dc3ccbefaccc",
   "metadata": {},
   "outputs": [],
   "source": [
    "class House:\n",
    "    # Constructor for basic house\n",
    "    def __init__(self, num_bedrooms, num_bathrooms):\n",
    "        self.num_bedrooms = num_bedrooms\n",
    "        self.num_bathrooms = num_bathrooms\n",
    "        self.has_garage = False\n",
    "        self.has_pool = False\n",
    "        self.has_garden = False\n",
    "\n",
    "    # Overloaded constructor for house with a garage\n",
    "    def __init__(self, num_bedrooms, num_bathrooms, has_garage):\n",
    "        self.num_bedrooms = num_bedrooms\n",
    "        self.num_bathrooms = num_bathrooms\n",
    "        self.has_garage = has_garage\n",
    "        self.has_pool = False\n",
    "        self.has_garden = False\n",
    "\n",
    "    # Overloaded constructor for luxury house\n",
    "    def __init__(self, num_bedrooms, num_bathrooms, has_garage, has_pool, has_garden):\n",
    "        self.num_bedrooms = num_bedrooms\n",
    "        self.num_bathrooms = num_bathrooms\n",
    "        self.has_garage = has_garage\n",
    "        self.has_pool = has_pool\n",
    "        self.has_garden = has_garden\n",
    "\n",
    "# Creating a house becomes ambiguous\n",
    "# house = House(3, 2)  # Constructor for basic house\n",
    "# house = House(3, 2, True)  # Constructor with garage\n",
    "house = House(3, 2, True, True, True)  # Luxury house\n"
   ]
  },
  {
   "cell_type": "markdown",
   "id": "9675b623-72bb-40e1-b1c3-0dcdbe7127dd",
   "metadata": {},
   "source": [
    "### Constructor Overload with Default Parameters:\n",
    "It is not the pure constructor overloading cause Python doesn't have that features; it looks a like but not the pure form."
   ]
  },
  {
   "cell_type": "code",
   "execution_count": 10,
   "id": "7ccdb1c9-f8ba-4ed2-87c1-f62c5ef95cab",
   "metadata": {},
   "outputs": [
    {
     "name": "stdout",
     "output_type": "stream",
     "text": [
      "{'num_bedrooms': 3, 'num_bathrooms': 2, 'has_garage': False, 'has_pool': False, 'has_garden': False}\n",
      "{'num_bedrooms': 3, 'num_bathrooms': 2, 'has_garage': True, 'has_pool': False, 'has_garden': False}\n"
     ]
    }
   ],
   "source": [
    "class House:\n",
    "    def __init__(self, num_bedrooms, num_bathrooms, has_garage=False, has_pool=False, has_garden=False):\n",
    "        self.num_bedrooms = num_bedrooms\n",
    "        self.num_bathrooms = num_bathrooms\n",
    "        self.has_garage = has_garage\n",
    "        self.has_pool = has_pool\n",
    "        self.has_garden = has_garden\n",
    "\n",
    "# Client creates objects with varying levels of information\n",
    "basic_house = House(3, 2)\n",
    "house_with_garage = House(3, 2, has_garage=True)\n",
    "luxury_house = House(3, 2, has_garage=True, has_pool=True, has_garden=True)\n",
    "\n",
    "print(basic_house.__dict__)\n",
    "print(house_with_garage.__dict__)"
   ]
  },
  {
   "cell_type": "markdown",
   "id": "65a25026-6835-4079-b52a-28c7774a3c5b",
   "metadata": {},
   "source": [
    "### Solution: Builder Method\n",
    "The Builder Method solves these problems by:\n",
    "\n",
    "- Eliminating overloaded constructors.\n",
    "- Providing clear, step-by-step methods to configure the product.\n",
    "- Allowing new features to be added by extending the builder without breaking existing code."
   ]
  },
  {
   "cell_type": "code",
   "execution_count": 13,
   "id": "8db736d8-5156-46a0-a727-78010c71922b",
   "metadata": {},
   "outputs": [
    {
     "name": "stdout",
     "output_type": "stream",
     "text": [
      "House with 3 bedrooms, 2 bathrooms, garage: False, pool: False, garden: False\n",
      "House with 5 bedrooms, 4 bathrooms, garage: True, pool: True, garden: True\n"
     ]
    }
   ],
   "source": [
    "# Product: House\n",
    "class House:\n",
    "    def __init__(self, num_bedrooms, num_bathrooms, has_garage=False, has_pool=False, has_garden=False):\n",
    "        self.num_bedrooms = num_bedrooms\n",
    "        self.num_bathrooms = num_bathrooms\n",
    "        self.has_garage = has_garage\n",
    "        self.has_pool = has_pool\n",
    "        self.has_garden = has_garden\n",
    "\n",
    "    def __str__(self):\n",
    "        return f\"House with {self.num_bedrooms} bedrooms, {self.num_bathrooms} bathrooms, \" \\\n",
    "               f\"garage: {self.has_garage}, pool: {self.has_pool}, garden: {self.has_garden}\"\n",
    "\n",
    "# Builder: Abstract Builder for constructing the House\n",
    "class HouseBuilder:\n",
    "    def __init__(self):\n",
    "        self.house = House(0, 0)  # Start with an empty house\n",
    "\n",
    "    def set_bedrooms(self, num_bedrooms):\n",
    "        self.house.num_bedrooms = num_bedrooms\n",
    "        return self  # Allow method chaining\n",
    "\n",
    "    def set_bathrooms(self, num_bathrooms):\n",
    "        self.house.num_bathrooms = num_bathrooms\n",
    "        return self  # Allow method chaining\n",
    "\n",
    "    def add_garage(self):\n",
    "        self.house.has_garage = True\n",
    "        return self  # Allow method chaining\n",
    "\n",
    "    def add_pool(self):\n",
    "        self.house.has_pool = True\n",
    "        return self  # Allow method chaining\n",
    "\n",
    "    def add_garden(self):\n",
    "        self.house.has_garden = True\n",
    "        return self  # Allow method chaining\n",
    "\n",
    "    def build(self):\n",
    "        return self.house\n",
    "\n",
    "# Client Code\n",
    "# Creating a basic house\n",
    "builder = HouseBuilder()\n",
    "basic_house = builder.set_bedrooms(3).set_bathrooms(2).build()\n",
    "print(basic_house)\n",
    "\n",
    "# Creating a luxury house\n",
    "luxury_house = builder.set_bedrooms(5).set_bathrooms(4).add_garage().add_pool().add_garden().build()\n",
    "print(luxury_house)\n"
   ]
  },
  {
   "cell_type": "markdown",
   "id": "f8b396b3-8db8-4176-bc54-9ed09a3b31fb",
   "metadata": {},
   "source": []
  },
  {
   "cell_type": "markdown",
   "id": "d41632a9-0fac-4fbe-be25-ea09f87db3ee",
   "metadata": {},
   "source": [
    "### Constructor Overloading:\n",
    "- Multiple constructors for different configurations.\n",
    "- Object is created immediately when calling the constructor.\n",
    "- Limited flexibility; requires a new constructor for each new configuration.\n",
    "- Can become complex with many parameters.\n",
    "### Builder Pattern:\n",
    "- Single constructor to initialize an object.\n",
    "- Object is built incrementally using setter methods.\n",
    "- Object is created at the end with build().\n",
    "- More flexible and maintainable as features can be added easily.\n"
   ]
  },
  {
   "cell_type": "code",
   "execution_count": null,
   "id": "7cad45db-9665-460a-9bfc-293fb60359c6",
   "metadata": {},
   "outputs": [],
   "source": []
  },
  {
   "cell_type": "markdown",
   "id": "257ae290-041e-4490-ade8-f5680bb79913",
   "metadata": {},
   "source": [
    "### Advantage of using Step-By-Step Method\n",
    "- Avoids Constructor Overloading: No need for multiple constructors.\n",
    "- Simplifies Complex Objects: Breaks down creation into manageable steps.\n",
    "- Improves Maintainability: Easy to modify and extend the object.\n",
    "- Cleaner Code: Reduces repetitive code in client classes."
   ]
  },
  {
   "cell_type": "markdown",
   "id": "57b9dbab-7d3e-4ac0-bc98-a6140c4a3eb4",
   "metadata": {},
   "source": [
    "### Steps to Add a New Feature (has_basement):\n",
    "1. Modify House Class:\n",
    "\n",
    "2. Add has_basement as a new attribute in the class.\n",
    "Modify the __str__ method to display it.\n",
    "Modify HouseBuilder:\n",
    "\n",
    "3. Add a new method add_basement() for setting the has_basement feature.\n",
    "Ensure method chaining by returning self.\n",
    "Update Client Code:\n",
    "\n",
    "Use the new method add_basement() to add the basement feature to the house.\n"
   ]
  },
  {
   "cell_type": "code",
   "execution_count": 5,
   "id": "924924e9-368d-4370-8cde-664f3ad8a0d3",
   "metadata": {},
   "outputs": [
    {
     "name": "stdout",
     "output_type": "stream",
     "text": [
      "House with 3 bedrooms, 2 bathrooms, garage: False, pool: False, garden: False, basement: False\n",
      "House with 4 bedrooms, 3 bathrooms, garage: False, pool: False, garden: False, basement: True\n",
      "House with 5 bedrooms, 4 bathrooms, garage: True, pool: True, garden: True, basement: True\n"
     ]
    }
   ],
   "source": [
    "# Product: House\n",
    "class House:\n",
    "    def __init__(self, num_bedrooms, num_bathrooms, has_garage=False, has_pool=False, has_garden=False, has_basement=False):\n",
    "        self.num_bedrooms = num_bedrooms\n",
    "        self.num_bathrooms = num_bathrooms\n",
    "        self.has_garage = has_garage\n",
    "        self.has_pool = has_pool\n",
    "        self.has_garden = has_garden\n",
    "        self.has_basement = has_basement  # New feature\n",
    "\n",
    "    def __str__(self):\n",
    "        return (f\"House with {self.num_bedrooms} bedrooms, {self.num_bathrooms} bathrooms, \" \n",
    "               f\"garage: {self.has_garage}, pool: {self.has_pool}, garden: {self.has_garden}, basement: {self.has_basement}\")\n",
    "\n",
    "# Builder: Abstract Builder for constructing the House\n",
    "class HouseBuilder:\n",
    "    def __init__(self):\n",
    "        self.house = House(0, 0)  # Start with an empty house\n",
    "\n",
    "    def set_bedrooms(self, num_bedrooms):\n",
    "        self.house.num_bedrooms = num_bedrooms\n",
    "        return self  # Allow method chaining\n",
    "\n",
    "    def set_bathrooms(self, num_bathrooms):\n",
    "        self.house.num_bathrooms = num_bathrooms\n",
    "        return self  # Allow method chaining\n",
    "\n",
    "    def add_garage(self):\n",
    "        self.house.has_garage = True\n",
    "        return self  # Allow method chaining\n",
    "\n",
    "    def add_pool(self):\n",
    "        self.house.has_pool = True\n",
    "        return self  # Allow method chaining\n",
    "\n",
    "    def add_garden(self):\n",
    "        self.house.has_garden = True\n",
    "        return self  # Allow method chaining\n",
    "\n",
    "    def add_basement(self):\n",
    "        self.house.has_basement = True  # New feature added\n",
    "        return self  # Allow method chaining\n",
    "\n",
    "    def build(self):\n",
    "        return self.house\n",
    "\n",
    "# Client Code\n",
    "\n",
    "# Creating a basic house without basement\n",
    "builder = HouseBuilder()\n",
    "basic_house = builder.set_bedrooms(3).set_bathrooms(2).build()\n",
    "print(basic_house)\n",
    "\n",
    "# Creating a house with a basement\n",
    "house_with_basement = builder.set_bedrooms(4).set_bathrooms(3).add_basement().build()\n",
    "print(house_with_basement)\n",
    "\n",
    "# Creating a luxury house with a basement\n",
    "luxury_house = builder.set_bedrooms(5).set_bathrooms(4).add_garage().add_pool().add_garden().add_basement().build()\n",
    "print(luxury_house)\n"
   ]
  },
  {
   "cell_type": "code",
   "execution_count": null,
   "id": "8a72f75d-1129-44ce-8a92-07cc95e3b2c9",
   "metadata": {},
   "outputs": [],
   "source": []
  }
 ],
 "metadata": {
  "kernelspec": {
   "display_name": "Python 3 (ipykernel)",
   "language": "python",
   "name": "python3"
  },
  "language_info": {
   "codemirror_mode": {
    "name": "ipython",
    "version": 3
   },
   "file_extension": ".py",
   "mimetype": "text/x-python",
   "name": "python",
   "nbconvert_exporter": "python",
   "pygments_lexer": "ipython3",
   "version": "3.13.0"
  },
  "widgets": {
   "application/vnd.jupyter.widget-state+json": {
    "state": {},
    "version_major": 2,
    "version_minor": 0
   }
  }
 },
 "nbformat": 4,
 "nbformat_minor": 5
}
