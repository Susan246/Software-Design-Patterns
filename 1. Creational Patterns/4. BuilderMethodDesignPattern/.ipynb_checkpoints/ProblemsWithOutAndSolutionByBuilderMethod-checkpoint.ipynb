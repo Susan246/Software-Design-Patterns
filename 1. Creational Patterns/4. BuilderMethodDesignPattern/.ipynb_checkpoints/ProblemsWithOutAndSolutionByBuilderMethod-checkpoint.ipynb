{
 "cells": [
  {
   "cell_type": "markdown",
   "id": "09104bb6-ffde-4d77-bd73-90b0ff42042b",
   "metadata": {},
   "source": [
    "# Problems WithOut And Solution By Builder Method"
   ]
  },
  {
   "cell_type": "markdown",
   "id": "0abebab7-d221-4183-af42-d9629b926b56",
   "metadata": {},
   "source": [
    "### Problems without Builder Method Pattern\n",
    "- Constructor Overload: Too many parameters make it hard to manage.\n",
    "- Inflexibility: Adding features requires changing the constructor.\n",
    "- Breaking Client Code: Modifying the constructor breaks existing code.\n",
    "- No Flexibility: Can't create complex objects step by step."
   ]
  },
  {
   "cell_type": "markdown",
   "id": "040d5b94-8218-4801-b540-98a5c036ada0",
   "metadata": {},
   "source": [
    "## Problem: Constructor Overload Without Builder Method\n",
    "When we have multiple variations of a product, we end up overloading the constructor to handle different combinations of parameters. This leads to:\n",
    "- Complexity: Many overloaded constructors are difficult to maintain.\n",
    "- Ambiguity: Clients must know the correct parameter order.\n",
    "- Inflexibility: Adding new features requires changing all constructors and potentially breaking existing code."
   ]
  },
  {
   "cell_type": "code",
   "execution_count": 1,
   "id": "35641690-16a1-4f59-b614-d8bd8fee8fba",
   "metadata": {},
   "outputs": [],
   "source": [
    "class House:\n",
    "    # Constructor for basic house\n",
    "    def __init__(self, num_bedrooms, num_bathrooms):\n",
    "        self.num_bedrooms = num_bedrooms\n",
    "        self.num_bathrooms = num_bathrooms\n",
    "        self.has_garage = False\n",
    "        self.has_pool = False\n",
    "        self.has_garden = False\n",
    "\n",
    "    # Overloaded constructor for house with a garage\n",
    "    def __init__(self, num_bedrooms, num_bathrooms, has_garage):\n",
    "        self.num_bedrooms = num_bedrooms\n",
    "        self.num_bathrooms = num_bathrooms\n",
    "        self.has_garage = has_garage\n",
    "        self.has_pool = False\n",
    "        self.has_garden = False\n",
    "\n",
    "    # Overloaded constructor for luxury house\n",
    "    def __init__(self, num_bedrooms, num_bathrooms, has_garage, has_pool, has_garden):\n",
    "        self.num_bedrooms = num_bedrooms\n",
    "        self.num_bathrooms = num_bathrooms\n",
    "        self.has_garage = has_garage\n",
    "        self.has_pool = has_pool\n",
    "        self.has_garden = has_garden\n",
    "\n",
    "# Creating a house becomes ambiguous\n",
    "# house = House(3, 2)  # Constructor for basic house\n",
    "# house = House(3, 2, True)  # Constructor with garage\n",
    "house = House(3, 2, True, True, True)  # Luxury house\n"
   ]
  },
  {
   "cell_type": "markdown",
   "id": "3a0882a9-8b02-4302-ac95-12251b3663a7",
   "metadata": {},
   "source": [
    "### Solution: Builder Method\n",
    "The Builder Method solves these problems by:\n",
    "\n",
    "- Eliminating overloaded constructors.\n",
    "- Providing clear, step-by-step methods to configure the product.\n",
    "- Allowing new features to be added by extending the builder without breaking existing code.\n"
   ]
  },
  {
   "cell_type": "code",
   "execution_count": 2,
   "id": "2a18667e-24a8-4948-8df3-3874211a0d5e",
   "metadata": {},
   "outputs": [
    {
     "name": "stdout",
     "output_type": "stream",
     "text": [
      "House with 3 bedrooms, 2 bathrooms, garage: False, pool: False, garden: False\n",
      "House with 5 bedrooms, 4 bathrooms, garage: True, pool: True, garden: True\n"
     ]
    }
   ],
   "source": [
    "# Product: House\n",
    "class House:\n",
    "    def __init__(self, num_bedrooms, num_bathrooms, has_garage=False, has_pool=False, has_garden=False):\n",
    "        self.num_bedrooms = num_bedrooms\n",
    "        self.num_bathrooms = num_bathrooms\n",
    "        self.has_garage = has_garage\n",
    "        self.has_pool = has_pool\n",
    "        self.has_garden = has_garden\n",
    "\n",
    "    def __str__(self):\n",
    "        return f\"House with {self.num_bedrooms} bedrooms, {self.num_bathrooms} bathrooms, \" \\\n",
    "               f\"garage: {self.has_garage}, pool: {self.has_pool}, garden: {self.has_garden}\"\n",
    "\n",
    "# Builder: Abstract Builder for constructing the House\n",
    "class HouseBuilder:\n",
    "    def __init__(self):\n",
    "        self.house = House(0, 0)  # Start with an empty house\n",
    "\n",
    "    def set_bedrooms(self, num_bedrooms):\n",
    "        self.house.num_bedrooms = num_bedrooms\n",
    "        return self  # Allow method chaining\n",
    "\n",
    "    def set_bathrooms(self, num_bathrooms):\n",
    "        self.house.num_bathrooms = num_bathrooms\n",
    "        return self  # Allow method chaining\n",
    "\n",
    "    def add_garage(self):\n",
    "        self.house.has_garage = True\n",
    "        return self  # Allow method chaining\n",
    "\n",
    "    def add_pool(self):\n",
    "        self.house.has_pool = True\n",
    "        return self  # Allow method chaining\n",
    "\n",
    "    def add_garden(self):\n",
    "        self.house.has_garden = True\n",
    "        return self  # Allow method chaining\n",
    "\n",
    "    def build(self):\n",
    "        return self.house\n",
    "\n",
    "# Client Code\n",
    "# Creating a basic house\n",
    "builder = HouseBuilder()\n",
    "basic_house = builder.set_bedrooms(3).set_bathrooms(2).build()\n",
    "print(basic_house)\n",
    "\n",
    "# Creating a luxury house\n",
    "luxury_house = builder.set_bedrooms(5).set_bathrooms(4).add_garage().add_pool().add_garden().build()\n",
    "print(luxury_house)\n"
   ]
  },
  {
   "cell_type": "markdown",
   "id": "e489ccde-f28b-4ae0-bea1-d03d5014067a",
   "metadata": {},
   "source": []
  },
  {
   "cell_type": "markdown",
   "id": "93e47315-ce1b-46e2-87fe-6a19448f5eba",
   "metadata": {},
   "source": [
    "## Advantage of Step-By-Step Object Creation:\n",
    "- Flexibility: Allows adding features without modifying existing code.\n",
    "- Avoids Constructor Overloading: No need for multiple constructors.\n",
    "- Simplifies Complex Objects: Breaks down creation into manageable steps.\n",
    "- Improves Maintainability: Easy to modify and extend the object.\n",
    "- Cleaner Code: Reduces repetitive code in client classes."
   ]
  },
  {
   "cell_type": "markdown",
   "id": "1aaf80bd-7ec2-40f2-a110-8bc8f75194d1",
   "metadata": {},
   "source": [
    "### Steps to Add a New Feature (has_basement):\n",
    "1. Modify House Class:\n",
    "- Add has_basement as a new attribute in the class.\n",
    "- Modify the __str__ method to display it.\n",
    "2. Modify HouseBuilder:\n",
    "- Add a new method add_basement() for setting the has_basement feature.\n",
    "- Ensure method chaining by returning self.\n",
    "3. Update Client Code:\n",
    "- Use the new method add_basement() to add the basement feature to the house.\n"
   ]
  },
  {
   "cell_type": "code",
   "execution_count": 4,
   "id": "c16cf6ff-a89b-4fe5-b8fb-f47e034a75ea",
   "metadata": {},
   "outputs": [
    {
     "name": "stdout",
     "output_type": "stream",
     "text": [
      "House with 3 bedrooms, 2 bathrooms, garage: False, pool: False, garden: False, basement: False\n",
      "House with 4 bedrooms, 3 bathrooms, garage: False, pool: False, garden: False, basement: True\n",
      "House with 5 bedrooms, 4 bathrooms, garage: True, pool: True, garden: True, basement: True\n"
     ]
    }
   ],
   "source": [
    "# Product: House\n",
    "class House:\n",
    "    def __init__(self, num_bedrooms, num_bathrooms, has_garage=False, has_pool=False, has_garden=False, has_basement=False):\n",
    "        self.num_bedrooms = num_bedrooms\n",
    "        self.num_bathrooms = num_bathrooms\n",
    "        self.has_garage = has_garage\n",
    "        self.has_pool = has_pool\n",
    "        self.has_garden = has_garden\n",
    "        self.has_basement = has_basement  # New feature\n",
    "\n",
    "    def __str__(self):\n",
    "        return f\"House with {self.num_bedrooms} bedrooms, {self.num_bathrooms} bathrooms, \" \\\n",
    "               f\"garage: {self.has_garage}, pool: {self.has_pool}, garden: {self.has_garden}, basement: {self.has_basement}\"\n",
    "\n",
    "# Builder: Abstract Builder for constructing the House\n",
    "class HouseBuilder:\n",
    "    def __init__(self):\n",
    "        self.house = House(0, 0)  # Start with an empty house\n",
    "\n",
    "    def set_bedrooms(self, num_bedrooms):\n",
    "        self.house.num_bedrooms = num_bedrooms\n",
    "        return self  # Allow method chaining\n",
    "\n",
    "    def set_bathrooms(self, num_bathrooms):\n",
    "        self.house.num_bathrooms = num_bathrooms\n",
    "        return self  # Allow method chaining\n",
    "\n",
    "    def add_garage(self):\n",
    "        self.house.has_garage = True\n",
    "        return self  # Allow method chaining\n",
    "\n",
    "    def add_pool(self):\n",
    "        self.house.has_pool = True\n",
    "        return self  # Allow method chaining\n",
    "\n",
    "    def add_garden(self):\n",
    "        self.house.has_garden = True\n",
    "        return self  # Allow method chaining\n",
    "\n",
    "    def add_basement(self):\n",
    "        self.house.has_basement = True  # New feature added\n",
    "        return self  # Allow method chaining\n",
    "\n",
    "    def build(self):\n",
    "        return self.house\n",
    "\n",
    "# Client Code\n",
    "\n",
    "# Creating a basic house without basement\n",
    "builder = HouseBuilder()\n",
    "basic_house = builder.set_bedrooms(3).set_bathrooms(2).build()\n",
    "print(basic_house)\n",
    "\n",
    "# Creating a house with a basement\n",
    "house_with_basement = builder.set_bedrooms(4).set_bathrooms(3).add_basement().build()\n",
    "print(house_with_basement)\n",
    "\n",
    "# Creating a luxury house with a basement\n",
    "luxury_house = builder.set_bedrooms(5).set_bathrooms(4).add_garage().add_pool().add_garden().add_basement().build()\n",
    "print(luxury_house)\n"
   ]
  },
  {
   "cell_type": "code",
   "execution_count": null,
   "id": "f0105440-f7c2-41cb-b13a-1a6dbcf0d7d8",
   "metadata": {},
   "outputs": [],
   "source": []
  }
 ],
 "metadata": {
  "kernelspec": {
   "display_name": "Python 3 (ipykernel)",
   "language": "python",
   "name": "python3"
  },
  "language_info": {
   "codemirror_mode": {
    "name": "ipython",
    "version": 3
   },
   "file_extension": ".py",
   "mimetype": "text/x-python",
   "name": "python",
   "nbconvert_exporter": "python",
   "pygments_lexer": "ipython3",
   "version": "3.13.0"
  },
  "widgets": {
   "application/vnd.jupyter.widget-state+json": {
    "state": {},
    "version_major": 2,
    "version_minor": 0
   }
  }
 },
 "nbformat": 4,
 "nbformat_minor": 5
}
