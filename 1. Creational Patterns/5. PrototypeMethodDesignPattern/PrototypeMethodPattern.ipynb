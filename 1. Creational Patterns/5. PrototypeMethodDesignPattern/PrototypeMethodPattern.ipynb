{
 "cells": [
  {
   "cell_type": "markdown",
   "id": "e35bf498-1922-4727-a527-1b93d0b55294",
   "metadata": {},
   "source": [
    "# Prototype Method Design Pattern"
   ]
  },
  {
   "cell_type": "markdown",
   "id": "6cb88a63-2f9b-4f13-b9d0-1a017a9f64a4",
   "metadata": {},
   "source": [
    "## Some Use Cases:\n",
    "1. Cloning Complex Data Structures:\n",
    "- Use Case: When dealing with large datasets or complex data structures (e.g., a graph or multi-dimensional arrays), the Prototype pattern can be used to clone the object, avoiding the need for complex re-initialization.\n",
    "- Benefit: Reduces overhead in creating new objects, as it clones an existing prototype rather than rebuilding an object from scratch.\n",
    "2. Simulating Different Data Processing Scenarios:\n",
    "- Use Case: In simulation tasks (e.g., simulating different types of data processing for testing), the Prototype pattern can be used to quickly duplicate configurations or states of the system and modify them.\n",
    "- Benefit: Efficiently generates multiple variations of the same object with minimal overhead, allowing rapid testing of different configurations or states.\n",
    "3. Versioning and Object Duplication:\n",
    "- Use Case: In version-controlled data systems (like big data processing frameworks), Prototype can be used to duplicate objects as they evolve over time, maintaining different versions of the same object.\n",
    "- Benefit: Helps in version management and allows quick duplication without costly instantiation processes, ensuring consistency between versions."
   ]
  },
  {
   "cell_type": "code",
   "execution_count": null,
   "id": "8dba6a50-e0b1-4ce5-8978-562c34f38403",
   "metadata": {},
   "outputs": [],
   "source": []
  },
  {
   "cell_type": "markdown",
   "id": "c2a66c0d-500a-4b28-9c9c-063e243edaab",
   "metadata": {},
   "source": [
    "### Scenario: Space Shooter Game with Multiple Players\n",
    "- Imagine you're working on a space shooter game where multiple players control their own spaceships to fight against enemies. Each player can customize their spaceship to have different attributes like speed, health, and firepower.\n",
    "- In this game, there are multiple spaceships that need to be created. Each spaceship might have the same default stats, like speed = 10, health = 100, and firepower = 50. However, as the game progresses, each player's spaceship may require individual adjustments, such as changes in health after taking damage."
   ]
  },
  {
   "cell_type": "markdown",
   "id": "08e790e9-f243-4396-924b-d53867db229b",
   "metadata": {},
   "source": [
    "### Issues with the Approach:\n",
    "- Repetitive Code: Same values are specified for each spaceship, leading to inefficiency.\n",
    "- Error-Prone: Any change in attributes requires modifying each spaceship creation manually.\n",
    "- Scalability: Creating many spaceships manually becomes cumbersome as the number of players increases."
   ]
  },
  {
   "cell_type": "code",
   "execution_count": 1,
   "id": "7e8e38f2-3ace-40cc-a465-76486fcbf5c0",
   "metadata": {},
   "outputs": [],
   "source": [
    "class Spaceship:\n",
    "    def __init__(self, speed, health, firepower):\n",
    "        self.speed = speed\n",
    "        self.health = health\n",
    "        self.firepower = firepower\n",
    "\n",
    "    def __str__(self):\n",
    "        return f\"Spaceship with speed {self.speed}, health {self.health}, firepower {self.firepower}\"\n",
    "\n",
    "# Creating spaceships manually\n",
    "spaceship1 = Spaceship(10, 100, 50)\n",
    "spaceship2 = Spaceship(10, 100, 50)\n",
    "spaceship3 = Spaceship(10, 100, 50)\n",
    "\n",
    "# This is repetitive and inefficient, especially when there are many spaceships\n"
   ]
  },
  {
   "cell_type": "markdown",
   "id": "7c19245a-e34a-42dc-bc2c-f923659da4b4",
   "metadata": {},
   "source": [
    "### How Prototype Solves the Problem:\n",
    "- No Repetition: Clone the prototype instead of redefining attributes for each spaceship.\n",
    "- Efficiency: Cloning is faster and more efficient than manual creation.\n",
    "- Easy Customization: Modify individual spaceships after cloning, without affecting others.\n",
    "- Scalability: Easily add new spaceships by cloning and customizing the prototype."
   ]
  },
  {
   "cell_type": "code",
   "execution_count": 3,
   "id": "6261f9f7-1f5e-411f-be5a-4c7af0a5e81c",
   "metadata": {},
   "outputs": [
    {
     "name": "stdout",
     "output_type": "stream",
     "text": [
      "Spaceship with speed 10, health 90, firepower 50\n",
      "Spaceship with speed 10, health 100, firepower 50\n",
      "Spaceship with speed 10, health 100, firepower 50\n"
     ]
    }
   ],
   "source": [
    "import copy\n",
    "\n",
    "class Spaceship:\n",
    "    def __init__(self, speed, health, firepower):\n",
    "        self.speed = speed\n",
    "        self.health = health\n",
    "        self.firepower = firepower\n",
    "\n",
    "    def __str__(self):\n",
    "        return f\"Spaceship with speed {self.speed}, health {self.health}, firepower {self.firepower}\"\n",
    "\n",
    "    def clone(self):\n",
    "        # Return a clone (shallow copy) of the current spaceship\n",
    "        return copy.copy(self)\n",
    "\n",
    "# Create the prototype spaceship\n",
    "prototype_spaceship = Spaceship(10, 100, 50)\n",
    "\n",
    "# Clone the prototype spaceship for new objects\n",
    "spaceship1 = prototype_spaceship.clone()\n",
    "spaceship2 = prototype_spaceship.clone()\n",
    "spaceship3 = prototype_spaceship.clone()\n",
    "\n",
    "# Now, you can modify individual spaceships without affecting the others\n",
    "spaceship1.health = 90  # spaceship1 has less health than the others\n",
    "\n",
    "print(spaceship1)  # Health is now 90\n",
    "print(spaceship2)  # Health is still 100\n",
    "print(spaceship3)  # Health is still 100\n"
   ]
  },
  {
   "cell_type": "markdown",
   "id": "68fd9694-9575-4e3a-a746-0ac966f04d50",
   "metadata": {},
   "source": []
  },
  {
   "cell_type": "markdown",
   "id": "36b6dd5c-f005-49be-b830-c6a236b7b6dc",
   "metadata": {},
   "source": [
    "### Components of Prototype Method Design Pattern:\n",
    "- Prototype Interface: Defines the contract for cloning objects.\n",
    "- Concrete Prototype: Implements the cloning logic for specific objects.\n",
    "- Client: Requests new objects by cloning existing ones.\n",
    "- Cloning Method: Process of creating copies of objects based on a prototype."
   ]
  },
  {
   "cell_type": "code",
   "execution_count": 8,
   "id": "d7c60ccc-13c2-4bea-ab7c-63d4a9e142df",
   "metadata": {},
   "outputs": [
    {
     "name": "stdout",
     "output_type": "stream",
     "text": [
      "Spaceship with speed 10, health 90, firepower 50\n",
      "Spaceship with speed 10, health 100, firepower 60\n",
      "Spaceship with speed 10, health 100, firepower 50\n"
     ]
    }
   ],
   "source": [
    "import copy\n",
    "from abc import ABC, abstractmethod\n",
    "\n",
    "# 1. Prototype Interface (Abstract class)\n",
    "class Prototype(ABC):\n",
    "    @abstractmethod\n",
    "    def clone(self):\n",
    "        pass\n",
    "\n",
    "# 2. Concrete Prototype: Implements the clone method\n",
    "class Spaceship(Prototype):\n",
    "    def __init__(self, speed, health, firepower):\n",
    "        self.speed = speed\n",
    "        self.health = health\n",
    "        self.firepower = firepower\n",
    "\n",
    "    def __str__(self):\n",
    "        return f\"Spaceship with speed {self.speed}, health {self.health}, firepower {self.firepower}\"\n",
    "\n",
    "    def clone(self):\n",
    "        # Creates a shallow copy of the spaceship object\n",
    "        return copy.deepcopy(self)\n",
    "\n",
    "# 3. Client: Uses the prototype to create new objects by cloning\n",
    "# Create the prototype spaceship with default values\n",
    "prototype_spaceship = Spaceship(10, 100, 50)\n",
    "\n",
    "# 4. Cloning objects from the prototype\n",
    "spaceship1 = prototype_spaceship.clone()  # Clone spaceship 1\n",
    "spaceship2 = prototype_spaceship.clone()  # Clone spaceship 2\n",
    "spaceship3 = prototype_spaceship.clone()  # Clone spaceship 3\n",
    "\n",
    "# Customizing individual clones\n",
    "spaceship1.health = 90  # Modify spaceship1 health\n",
    "spaceship2.firepower = 60  # Modify spaceship2 firepower\n",
    "\n",
    "# Displaying the cloned spaceships\n",
    "print(spaceship1)  # Health = 90\n",
    "print(spaceship2)  # Firepower = 60\n",
    "print(spaceship3)  # Default values\n"
   ]
  },
  {
   "cell_type": "markdown",
   "id": "f34938b9-60cc-4725-a329-ca5a7f1f3c1c",
   "metadata": {},
   "source": []
  },
  {
   "cell_type": "markdown",
   "id": "fe6d5d5a-55fa-404a-aa13-a333639d891f",
   "metadata": {},
   "source": [
    "### 1. Shallow Copy\n",
    "- Definition: A shallow copy creates a new object, but it does not recursively copy objects that are contained within the original object. Instead, it copies the references to those inner objects.\n",
    "- Effect: Changes made to the nested objects in the shallow copy will reflect in the original object because both the original and the shallow copy refer to the same inner objects."
   ]
  },
  {
   "cell_type": "code",
   "execution_count": 6,
   "id": "7f971984-e066-4a57-aa87-b2826e690b65",
   "metadata": {},
   "outputs": [
    {
     "name": "stdout",
     "output_type": "stream",
     "text": [
      "Original: [1, 2, [99, 4]]\n",
      "Shallow Copy: [1, 2, [99, 4]]\n"
     ]
    }
   ],
   "source": [
    "import copy\n",
    "\n",
    "# Original object\n",
    "original_list = [1, 2, [3, 4]]\n",
    "\n",
    "# Creating a shallow copy\n",
    "shallow_copied_list = copy.copy(original_list)\n",
    "\n",
    "# Modifying the nested list in the shallow copy\n",
    "shallow_copied_list[2][0] = 99\n",
    "\n",
    "print(\"Original:\", original_list)        # Output: [1, 2, [99, 4]]\n",
    "print(\"Shallow Copy:\", shallow_copied_list)  # Output: [1, 2, [99, 4]]\n"
   ]
  },
  {
   "cell_type": "markdown",
   "id": "b4879dc8-1737-497c-97d6-18cc9fc712f3",
   "metadata": {},
   "source": []
  },
  {
   "cell_type": "markdown",
   "id": "2ca65772-a82b-41f6-83e9-d9d1eabc0c98",
   "metadata": {},
   "source": [
    "#### 2. Deep Copy\n",
    "- Definition: A deep copy creates a completely independent copy of the original object, including recursively copying all the objects nested within it. This means that the original object and the deep copy do not share references to any inner objects.\n",
    "- Effect: Changes made to nested objects in the deep copy do not affect the original object."
   ]
  },
  {
   "cell_type": "code",
   "execution_count": 7,
   "id": "72f3c3cc-65e1-4104-8292-0a5e4d25b1f5",
   "metadata": {},
   "outputs": [
    {
     "name": "stdout",
     "output_type": "stream",
     "text": [
      "Original: [1, 2, [3, 4]]\n",
      "Deep Copy: [1, 2, [99, 4]]\n"
     ]
    }
   ],
   "source": [
    "import copy\n",
    "\n",
    "# Original object\n",
    "original_list = [1, 2, [3, 4]]\n",
    "\n",
    "# Creating a deep copy\n",
    "deep_copied_list = copy.deepcopy(original_list)\n",
    "\n",
    "# Modifying the nested list in the deep copy\n",
    "deep_copied_list[2][0] = 99\n",
    "\n",
    "print(\"Original:\", original_list)        # Output: [1, 2, [3, 4]]\n",
    "print(\"Deep Copy:\", deep_copied_list)    # Output: [1, 2, [99, 4]]\n"
   ]
  }
 ],
 "metadata": {
  "kernelspec": {
   "display_name": "Python 3 (ipykernel)",
   "language": "python",
   "name": "python3"
  },
  "language_info": {
   "codemirror_mode": {
    "name": "ipython",
    "version": 3
   },
   "file_extension": ".py",
   "mimetype": "text/x-python",
   "name": "python",
   "nbconvert_exporter": "python",
   "pygments_lexer": "ipython3",
   "version": "3.13.0"
  },
  "widgets": {
   "application/vnd.jupyter.widget-state+json": {
    "state": {},
    "version_major": 2,
    "version_minor": 0
   }
  }
 },
 "nbformat": 4,
 "nbformat_minor": 5
}
