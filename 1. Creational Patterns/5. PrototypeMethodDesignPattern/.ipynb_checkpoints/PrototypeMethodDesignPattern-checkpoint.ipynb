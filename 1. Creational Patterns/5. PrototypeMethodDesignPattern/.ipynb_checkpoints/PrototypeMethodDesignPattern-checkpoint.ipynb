{
 "cells": [
  {
   "cell_type": "code",
   "execution_count": 2,
   "id": "ee7f0b9b-3b15-4d89-8180-1e6e2863ceb5",
   "metadata": {},
   "outputs": [
    {
     "name": "stdout",
     "output_type": "stream",
     "text": [
      "Car(make: Toyota, model: Corolla)\n",
      "Car(make: Toyota, model: Corolla)\n",
      "False\n"
     ]
    }
   ],
   "source": [
    "import copy\n",
    "\n",
    "# Prototype Interface (abstract class)\n",
    "class Prototype:\n",
    "    def clone(self):\n",
    "        raise NotImplementedError\n",
    "\n",
    "# Concrete Prototype\n",
    "class Car(Prototype):\n",
    "    def __init__(self, make, model):\n",
    "        self.make = make\n",
    "        self.model = model\n",
    "\n",
    "    def clone(self):\n",
    "        # Implementing the clone method using deep copy\n",
    "        return copy.deepcopy(self)\n",
    "\n",
    "    def __str__(self):\n",
    "        return f\"Car(make: {self.make}, model: {self.model})\"\n",
    "\n",
    "# Client code\n",
    "car1 = Car(\"Toyota\", \"Corolla\")\n",
    "car2 = car1.clone()  # Cloning car1\n",
    "\n",
    "print(car1)  # Output: Car(make: Toyota, model: Corolla)\n",
    "print(car2)  # Output: Car(make: Toyota, model: Corolla)\n",
    "\n",
    "# Confirming that car1 and car2 are different objects\n",
    "print(car1 is car2)  # Output: False\n"
   ]
  }
 ],
 "metadata": {
  "kernelspec": {
   "display_name": "Python 3 (ipykernel)",
   "language": "python",
   "name": "python3"
  },
  "language_info": {
   "codemirror_mode": {
    "name": "ipython",
    "version": 3
   },
   "file_extension": ".py",
   "mimetype": "text/x-python",
   "name": "python",
   "nbconvert_exporter": "python",
   "pygments_lexer": "ipython3",
   "version": "3.13.0"
  }
 },
 "nbformat": 4,
 "nbformat_minor": 5
}
