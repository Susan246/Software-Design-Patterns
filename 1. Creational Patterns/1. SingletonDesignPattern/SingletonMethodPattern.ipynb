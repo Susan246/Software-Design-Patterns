{
 "cells": [
  {
   "cell_type": "markdown",
   "id": "a8e3264b-e852-4c77-b418-c7c784be4fb8",
   "metadata": {},
   "source": [
    "# Singleton Method Design Pattern"
   ]
  },
  {
   "cell_type": "markdown",
   "id": "e164b6e3-0021-414f-868f-bcfa1219fcd5",
   "metadata": {},
   "source": [
    "## Some Use Cases:\n",
    "1. Database Connection Pooling:\n",
    "- Use Case: In data engineering, managing a pool of database connections efficiently is critical for performance. Using the Singleton pattern ensures that only one instance of the connection pool is created, and that instance is reused across the application.\n",
    "- Benefit: Prevents the overhead of creating new connections repeatedly, improving resource utilization and avoiding connection leakage\n",
    "2. Configuration Management:\n",
    "- Use Case: Applications often need to read and manage configurations (such as database credentials, API keys, etc.). A Singleton ensures that configuration settings are loaded only once and accessed globally across different parts of the system.\n",
    "- Benefit: Ensures consistency of configuration values and prevents unnecessary reloading of settings.\n",
    "3. Cache Management:\n",
    "- Use Case: When caching data, a Singleton pattern can ensure that only one cache manager instance exists, which controls access to the cache.\n",
    "- Benefit: Prevents multiple cache instances from creating conflicts or inconsistency, ensuring that the cache is centralized and consistent."
   ]
  },
  {
   "cell_type": "code",
   "execution_count": null,
   "id": "2b9765b2-2881-4744-af5f-c253df58f13a",
   "metadata": {},
   "outputs": [],
   "source": []
  },
  {
   "cell_type": "markdown",
   "id": "af953006-a53e-4986-84c8-86f5422a2771",
   "metadata": {},
   "source": [
    "### In Python, object creation involves two methods:\n",
    "\n",
    "- __new__: Allocates memory for the object and returns a new instance.\n",
    "- __init__: Initializes the object’s attributes using the passed arguments.\n",
    "\n",
    "\n",
    "### Process:\n",
    "- __new__ is called first to create the object.\n",
    "- __init__ is called afterward to set up the object’s attributes."
   ]
  },
  {
   "cell_type": "code",
   "execution_count": 8,
   "id": "365291fc-6dc2-426d-a913-065ce3f7e721",
   "metadata": {},
   "outputs": [
    {
     "name": "stdout",
     "output_type": "stream",
     "text": [
      "Step 1: Memory allocated using __new__\n",
      "Step 2: Object initialized using __init__\n",
      "Step 1: Memory allocated using __new__\n",
      "Step 2: Object initialized using __init__\n",
      "\n",
      "<__main__.Apple object at 0x00000168E2889400>\n",
      "10\n",
      "\n",
      "<__main__.Apple object at 0x00000168E2E28690>\n",
      "20\n",
      "1549988828160\n",
      "1549994722960\n"
     ]
    }
   ],
   "source": [
    "class Apple:\n",
    "    \n",
    "    def __new__(cls, *args, **kwargs):\n",
    "        print(\"Step 1: Memory allocated using __new__\")\n",
    "        instance = super().__new__(cls)  # Call the parent class's __new__()\n",
    "        return instance\n",
    "\n",
    "    def __init__(self, value):\n",
    "        print(\"Step 2: Object initialized using __init__\")\n",
    "        self.value = value\n",
    "\n",
    "# Object creation\n",
    "obj = Apple(10)\n",
    "obj2 = Apple(20)\n",
    "\n",
    "\n",
    "print(f\"\\n{obj}\")\n",
    "print(obj.value)\n",
    "\n",
    "print(f\"\\n{obj2}\")\n",
    "print(obj2.value)\n",
    "\n",
    "print(id(obj))\n",
    "print(id(obj2))"
   ]
  },
  {
   "cell_type": "markdown",
   "id": "38cc6dd4-5af0-4290-837a-5d3b03e5624c",
   "metadata": {},
   "source": [
    "### Singleton Method Design Pattern; so class instance is restricted to only one"
   ]
  },
  {
   "cell_type": "code",
   "execution_count": 9,
   "id": "0a618df4-b90d-4635-b559-d94ceca54fd6",
   "metadata": {},
   "outputs": [
    {
     "name": "stdout",
     "output_type": "stream",
     "text": [
      "Instance is initialized only once\n",
      "\n",
      "<__main__.Apple object at 0x00000168E28896A0>\n",
      "<__main__.Apple object at 0x00000168E28896A0>\n",
      "\n",
      "the objects are same:\n",
      "True\n",
      "\n",
      "memory id of instance:\n",
      "1549988828832\n",
      "1549988828832\n",
      "\n",
      "__dict__ attribute of instance:\n",
      "{'initialized': 'only one instance'}\n",
      "{'initialized': 'only one instance'}\n"
     ]
    }
   ],
   "source": [
    "class Apple:\n",
    "    \n",
    "    _instance = None  # Static variable to store the instance of the class\n",
    "\n",
    "    def __new__(cls, *args, **kwargs):\n",
    "        if not cls._instance:\n",
    "            cls._instance = super(Apple, cls).__new__(cls)  # Create the instance if it doesn't exist\n",
    "        return cls._instance\n",
    "\n",
    "    def __init__(self):\n",
    "        if not hasattr(self, 'initialized'):\n",
    "            print(f\"Instance is initialized only once\\n\")\n",
    "            self.initialized = \"only one instance\"\n",
    "\n",
    "# Object Creation\n",
    "s1 = Apple()\n",
    "s2 = Apple()\n",
    "\n",
    "print(s1)\n",
    "print(s2)\n",
    "\n",
    "print(f\"\\nthe objects are same:\")\n",
    "print(s1 is s2)   # Check if both objects are the same instance\n",
    "\n",
    "print(f\"\\nmemory id of instance:\")\n",
    "print(id(s1))    # Print the memory id of the instance\n",
    "print(id(s2))\n",
    "\n",
    "print(f\"\\n__dict__ attribute of instance:\")\n",
    "print(s1.__dict__)    # Print the __dict__ attribute of the instance\n",
    "print(s1.__dict__)"
   ]
  },
  {
   "cell_type": "markdown",
   "id": "084e015d-9472-4814-8738-d8a3a1c8dbb9",
   "metadata": {},
   "source": [
    "### Singleton Method Pattern; using class/static method and static variable\n",
    "\n",
    "### Why Not Use Instance Methods Directly?\n",
    "In a Singleton pattern:\n",
    "\n",
    "- Instance methods require creating an instance of the class first (e.g., singleton = Singleton()), which contradicts the idea of a Singleton (ensuring only one instance).\n",
    "- Static methods do not require creating an instance to access the method. They operate independently of instance creation, allowing you to manage the single instance centrally."
   ]
  },
  {
   "cell_type": "code",
   "execution_count": 10,
   "id": "d492199f-c7ac-40af-a20c-9d0f4fa4cb1d",
   "metadata": {},
   "outputs": [
    {
     "name": "stdout",
     "output_type": "stream",
     "text": [
      "True\n"
     ]
    }
   ],
   "source": [
    "class Singleton:\n",
    "\n",
    "    _instance = None  # Static variable to hold the single instance\n",
    "\n",
    "    @classmethod\n",
    "    def get_instance(cls):\n",
    "        if cls._instance is None:\n",
    "            cls._instance = cls()  # Create the instance if it doesn't exist\n",
    "        return cls._instance\n",
    "\n",
    "# Object Creation\n",
    "s1 = Singleton.get_instance()\n",
    "s2 = Singleton.get_instance()\n",
    "\n",
    "print(s1 is s2) \n"
   ]
  },
  {
   "cell_type": "markdown",
   "id": "a6d0d436-727c-4262-a4a4-d828cfdf2d92",
   "metadata": {},
   "source": [
    "### Singleton Method Pattern; using Borg Pattern"
   ]
  },
  {
   "cell_type": "code",
   "execution_count": 11,
   "id": "3eaa7721-d73f-4c1f-92de-ac64c09746f9",
   "metadata": {},
   "outputs": [
    {
     "name": "stdout",
     "output_type": "stream",
     "text": [
      "Memory id of __shared_state: 1549994695552\n",
      "1st obj: <__main__.Borg object at 0x00000168E2889940>\n",
      "2nd obj: <__main__.Borg object at 0x00000168E2E28550>\n",
      "1st instance state: 2\n",
      "2nd instance state: 2\n",
      "\n",
      "1st obj: <__main__.Borg object at 0x00000168E2889940>\n",
      "2nd obj: <__main__.Borg object at 0x00000168E2E28550>\n",
      "3rd obj: <__main__.Borg object at 0x00000168E2E287D0>\n",
      "1st instance state: 3\n",
      "2nd instance state: 3\n",
      "3nd instance state: 3\n",
      "\n",
      "\n",
      "{'state': 3}\n",
      "{'state': 3}\n",
      "{'state': 3}\n",
      "1549994695552\n",
      "1549994695552\n",
      "1549994695552\n"
     ]
    }
   ],
   "source": [
    "# Singleton Borg pattern\n",
    "class Borg:\n",
    "\n",
    "    # state shared by each instance\n",
    "    __shared_state = {}\n",
    "    print(\"Memory id of __shared_state:\",id(__shared_state))\n",
    "\n",
    "    def __init__(self, state):\n",
    "        self.__dict__ = self.__shared_state\n",
    "        self.state = state\n",
    "\n",
    "\n",
    "# main method\n",
    "if __name__ == \"__main__\":\n",
    "\n",
    "    person1 = Borg(1)    # object of class Borg\n",
    "    person2 = Borg(2)\n",
    "  \n",
    "    print(\"1st obj:\",person1)\n",
    "    print(\"2nd obj:\",person2)\n",
    "    print(\"1st instance state:\",person1.state)\n",
    "    print(\"2nd instance state:\",person2.state)\n",
    "\n",
    "    person3 = Borg(3)\n",
    "  \n",
    "    print(f\"\\n1st obj:\",person1)\n",
    "    print(\"2nd obj:\",person2)\n",
    "    print(\"3rd obj:\",person3)\n",
    "\n",
    "    print(\"1st instance state:\",person1.state)\n",
    "    print(\"2nd instance state:\",person2.state)\n",
    "    print(\"3nd instance state:\",person3.state)\n",
    "\n",
    "    print(f\"\\n\")\n",
    "    print(person1.__dict__)\n",
    "    print(person2.__dict__)\n",
    "    print(person3.__dict__)\n",
    "\n",
    "    print(id(person1.__dict__))\n",
    "    print(id(person2.__dict__))\n",
    "    print(id(person3.__dict__))"
   ]
  },
  {
   "cell_type": "markdown",
   "id": "fc102476-8c35-4afe-bc6d-88c3c5b579ce",
   "metadata": {},
   "source": [
    "### Concept of Reference Sharing: In Python it works on only Mutable Datatypes"
   ]
  },
  {
   "cell_type": "code",
   "execution_count": 5,
   "id": "913b6644-638c-4693-9560-bbe6ac27903b",
   "metadata": {},
   "outputs": [
    {
     "name": "stdout",
     "output_type": "stream",
     "text": [
      "a: {'a': 'apple', 'b': 'ball', 'c': 'cat'}\n",
      "b: {'a': 'apple', 'b': 'ball', 'c': 'cat'}\n",
      "ID of a: 2161729018560\n",
      "ID of b: 2161729018560\n"
     ]
    }
   ],
   "source": [
    "b = {}  # Create an empty dictionary\n",
    "a = b   # a and b now refer to the same object\n",
    "\n",
    "# Modify the dictionary via a and b\n",
    "a[\"a\"] = \"apple\"\n",
    "a[\"b\"] = \"ball\"\n",
    "b[\"c\"]=\"cat\"\n",
    "\n",
    "# Since both a and b reference the same dictionary, the changes are reflected in both\n",
    "print(\"a:\", a)\n",
    "print(\"b:\", b)\n",
    "\n",
    "# Both a and b refer to the same object, so their ids are the same\n",
    "print(\"ID of a:\", id(a))\n",
    "print(\"ID of b:\", id(b))\n"
   ]
  },
  {
   "cell_type": "markdown",
   "id": "ff67e845-b55a-4aca-852d-85118acfae96",
   "metadata": {},
   "source": [
    "### Singleton Method Pattern; using Thread Safety\n",
    "\n",
    "Thread safety in Singleton ensures only one instance is created in multithreaded environments, preventing race conditions and maintaining consistency across threads.\n",
    "- Locking: Ensures that only one thread can enter the critical section (the part of the code that creates the instance) at a time.\n",
    "- Double-Checked Locking: Optimizes performance by avoiding unnecessary locking after the instance is created."
   ]
  },
  {
   "cell_type": "code",
   "execution_count": 12,
   "id": "030994ad-4fe6-40f0-8035-d0cdf678f9d8",
   "metadata": {},
   "outputs": [
    {
     "name": "stdout",
     "output_type": "stream",
     "text": [
      "True\n",
      "True\n"
     ]
    }
   ],
   "source": [
    "import threading\n",
    "\n",
    "class Singleton:\n",
    "\n",
    "    # Lock for thread-safe singleton instance creation\n",
    "    __singleton_lock = threading.Lock()\n",
    "    # Holds the single instance of the class\n",
    "    __singleton_instance = None\n",
    "\n",
    "    @classmethod\n",
    "    def instance(cls):\n",
    "        # First check (outside the lock) for efficiency\n",
    "        if not cls.__singleton_instance:\n",
    "            # Acquire the lock for thread safety\n",
    "            with cls.__singleton_lock:\n",
    "                # Second check (inside the lock) to ensure only one instance is created\n",
    "                if not cls.__singleton_instance:\n",
    "                    cls.__singleton_instance = cls()  # Create the instance if it doesn't exist\n",
    "\n",
    "        return cls.__singleton_instance\n",
    "\n",
    "# main method\n",
    "if __name__ == '__main__':\n",
    "    \n",
    "    # Create class X which uses the Singleton pattern\n",
    "    class X(Singleton):\n",
    "        pass\n",
    "\n",
    "    # Create class Y which also uses the Singleton pattern\n",
    "    class Y(Singleton):\n",
    "        pass\n",
    "\n",
    "    # Create instances of class X\n",
    "    A1, A2 = X.instance(), X.instance()\n",
    "    \n",
    "    # Create instances of class Y\n",
    "    B1, B2 = Y.instance(), Y.instance()\n",
    "\n",
    "    print(A1 is A2)\n",
    "    print(B1 is B2)\n"
   ]
  }
 ],
 "metadata": {
  "kernelspec": {
   "display_name": "Python 3 (ipykernel)",
   "language": "python",
   "name": "python3"
  },
  "language_info": {
   "codemirror_mode": {
    "name": "ipython",
    "version": 3
   },
   "file_extension": ".py",
   "mimetype": "text/x-python",
   "name": "python",
   "nbconvert_exporter": "python",
   "pygments_lexer": "ipython3",
   "version": "3.13.0"
  },
  "widgets": {
   "application/vnd.jupyter.widget-state+json": {
    "state": {},
    "version_major": 2,
    "version_minor": 0
   }
  }
 },
 "nbformat": 4,
 "nbformat_minor": 5
}
