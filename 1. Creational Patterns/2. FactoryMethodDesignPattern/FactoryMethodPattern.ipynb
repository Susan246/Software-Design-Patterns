{
 "cells": [
  {
   "cell_type": "markdown",
   "id": "556a6cdd-116a-485d-a629-71039cb8b7df",
   "metadata": {},
   "source": [
    "# Factory Method Design Pattern:"
   ]
  },
  {
   "cell_type": "markdown",
   "id": "869a0bd6-cc72-41b7-aee1-987cff7e9c12",
   "metadata": {},
   "source": [
    "## Some Use Cases:\n",
    "1. Database Query Builder:\n",
    "- Use Case: When building queries dynamically for different types of databases (e.g., MySQL, PostgreSQL), the Factory Method pattern allows you to create the appropriate query builder based on the database type.\n",
    "- Benefit: Enables flexibility to easily extend support for new database types without changing the core logic.\n",
    "2. Data Parser Creation:\n",
    "- Use Case: When processing different data formats (e.g., JSON, XML, CSV), the Factory Method helps create specific parsers based on the file type.\n",
    "- Benefit: Centralizes and simplifies object creation for different data parsing tasks, maintaining consistency and reducing complexity.\n",
    "3. Data Source Connection:\n",
    "- Use Case: In data pipelines, a Factory Method can be used to create specific connection objects for different data sources (e.g., APIs, file systems, databases).\n",
    "- Benefit: Allows for scalable and dynamic creation of connections to diverse data sources with minimal changes to the codebase."
   ]
  },
  {
   "cell_type": "code",
   "execution_count": null,
   "id": "f399ed3b-8a49-49bc-8086-356dc33e21bc",
   "metadata": {},
   "outputs": [],
   "source": []
  },
  {
   "cell_type": "markdown",
   "id": "af730b1c-55f4-4872-9010-f9066ac14c91",
   "metadata": {},
   "source": [
    "## Scenario: Transport Creation"
   ]
  },
  {
   "cell_type": "markdown",
   "id": "639ac03a-4fe5-49f7-88a7-192485de0c0d",
   "metadata": {},
   "source": [
    "### 1. Direct Instantiation (Naive Approach):\n",
    "- Implementation:\n",
    "Each client directly creates transport objects (Truck, Ship, Plane) without any abstraction."
   ]
  },
  {
   "cell_type": "code",
   "execution_count": 9,
   "id": "b571ce18-1fbc-4f9d-b0d2-0d586c544922",
   "metadata": {},
   "outputs": [
    {
     "name": "stdout",
     "output_type": "stream",
     "text": [
      "Truck\n",
      "Ship\n",
      "Plane\n"
     ]
    }
   ],
   "source": [
    "# Classes\n",
    "class Truck:\n",
    "    def __init__(self):\n",
    "        self.type = \"Truck\"\n",
    "\n",
    "class Ship:\n",
    "    def __init__(self):\n",
    "        self.type = \"Ship\"\n",
    "\n",
    "class Plane:\n",
    "    def __init__(self):\n",
    "        self.type = \"Plane\"\n",
    "\n",
    "# Clients\n",
    "def client1():\n",
    "    return Truck()\n",
    "\n",
    "def client2():\n",
    "    return Ship()\n",
    "\n",
    "def client3():\n",
    "    return Plane()\n",
    "\n",
    "# Usage\n",
    "transport1 = client1()\n",
    "transport2 = client2()\n",
    "transport3 = client3()\n",
    "\n",
    "print(transport1.type)  # Truck\n",
    "print(transport2.type)  # Ship\n",
    "print(transport3.type)  # Plane\n"
   ]
  },
  {
   "cell_type": "markdown",
   "id": "d57d4d89-9f8f-4c77-aba9-f67c56c4d393",
   "metadata": {},
   "source": [
    "### Problem with above approach:\n",
    "- Tight Coupling: Clients are tightly coupled to specific creator classes.\n",
    "- No Abstraction: The product creation logic is directly embedded in each client function, making it less flexible.\n",
    "- Hard to Maintain: Changes in product classes (like renaming) require changes in multiple client functions.\n"
   ]
  },
  {
   "cell_type": "code",
   "execution_count": null,
   "id": "607ad9b7-cb42-4309-a3c6-65c3d73fd468",
   "metadata": {},
   "outputs": [],
   "source": []
  },
  {
   "cell_type": "markdown",
   "id": "bb1e6112-daad-4356-a33a-4ff48cb32cb4",
   "metadata": {},
   "source": [
    "## 2. Using Factory Method Pattern with if-else method:"
   ]
  },
  {
   "cell_type": "markdown",
   "id": "6d23bd3a-8c89-405c-b5b2-a029eb652a7f",
   "metadata": {},
   "source": [
    "### Components:\n",
    "- Abstract Product: Transport is an abstract class representing transport types with a get_type method.\n",
    "- Concrete Products: Truck, Ship, and Plane are concrete implementations of Transport.\n",
    "- Creator: TransportCreator is an abstract class with the create_transport method.\n",
    "- Concrete Creators: TruckCreator, ShipCreator, and PlaneCreator implement the factory method to create specific products.\n",
    "- Multiple Clients: Clients use concrete creators to get objects without knowing how they are created\n",
    "\n",
    "\n",
    "### How Factory Method with if-else solves the above problems:\n",
    "- Centralized Creation: Removes object creation logic from clients.\n",
    "- Decoupling: Clients depend on the factory , not on specific product classes.\n",
    "- Abstraction: Hides object creation details from clients.\n",
    "- Single Responsibility: Responsibility for creating each product is delegated to its respective creator class."
   ]
  },
  {
   "cell_type": "code",
   "execution_count": 7,
   "id": "53c3c336-96e5-4c3d-8227-855ed2f95dfb",
   "metadata": {},
   "outputs": [
    {
     "name": "stdout",
     "output_type": "stream",
     "text": [
      "Object: <__main__.Truck object at 0x000001CE2AD7C830> \ttype: Truck\n",
      "Object: <__main__.Ship object at 0x000001CE2AD7C590> \ttype: Ship\n",
      "Object: <__main__.Plane object at 0x000001CE2AD7C050> \ttype: Plane\n"
     ]
    }
   ],
   "source": [
    "# Abstract Product Class (Transport)\n",
    "class Transport:\n",
    "    def __init__(self):\n",
    "        self.type = \"Transport\"\n",
    "\n",
    "    def get_type(self):\n",
    "        return self.type\n",
    "\n",
    "\n",
    "# Concrete Product Classes (Truck, Ship, Plane)\n",
    "class Truck(Transport):\n",
    "    def __init__(self):\n",
    "        self.type = \"Truck\"\n",
    "\n",
    "\n",
    "class Ship(Transport):\n",
    "    def __init__(self):\n",
    "        self.type = \"Ship\"\n",
    "\n",
    "\n",
    "class Plane(Transport):\n",
    "    def __init__(self):\n",
    "        self.type = \"Plane\"\n",
    "\n",
    "\n",
    "# Creator Class (Abstract Creator)\n",
    "class TransportCreator:\n",
    "    \"\"\"\n",
    "    TransportCreator provides a static method `switch` to decide which concrete creator to use\n",
    "    and dynamically create the appropriate transport object.\n",
    "    \"\"\"\n",
    "    @classmethod\n",
    "    def create_transport(cls,transport_type):\n",
    "        pass\n",
    "\n",
    "    @staticmethod\n",
    "    def switch(transport_type):\n",
    "        if transport_type == \"truck\":\n",
    "            creator = TruckCreator()\n",
    "        elif transport_type == \"ship\":\n",
    "            creator = ShipCreator()\n",
    "        elif transport_type == \"plane\":\n",
    "            creator = PlaneCreator()\n",
    "        else:\n",
    "            raise ValueError(f\"Unknown transport type: {transport_type}\")\n",
    "        return creator.create_transport(transport_type)\n",
    "\n",
    "\n",
    "# Concrete Creator Classes (TruckCreator, ShipCreator, PlaneCreator)\n",
    "class TruckCreator(TransportCreator):\n",
    "    def create_transport(cls, transport_type):\n",
    "        if transport_type == \"truck\":\n",
    "            return Truck()  # Returns a Truck object\n",
    "        else:\n",
    "            raise ValueError(\"Unknown transport type\")\n",
    "\n",
    "\n",
    "class ShipCreator(TransportCreator):\n",
    "    def create_transport(cls, transport_type):\n",
    "        if transport_type == \"ship\":\n",
    "            return Ship()  # Returns a Ship object\n",
    "        else:\n",
    "            raise ValueError(\"Unknown transport type\")\n",
    "\n",
    "\n",
    "class PlaneCreator(TransportCreator):\n",
    "    def create_transport(cls, transport_type):\n",
    "        if transport_type == \"plane\":\n",
    "            return Plane()  # Returns a Plane object\n",
    "        else:\n",
    "            raise ValueError(\"Unknown transport type\")\n",
    "\n",
    "\n",
    "# Client Code\n",
    "def client(transport_type):\n",
    "    return TransportCreator.switch(transport_type)\n",
    "\n",
    "\n",
    "# Example Usage\n",
    "transport_1 = client(\"truck\")  # Creates a Truck object\n",
    "transport_2 = client(\"ship\")   # Creates a Ship object\n",
    "transport_3 = client(\"plane\")  # Creates a Plane object\n",
    "\n",
    "# Output the transport types created\n",
    "print(\"Object:\",transport_1,f\"\\ttype:\",transport_1.get_type())\n",
    "print(\"Object:\",transport_2,f\"\\ttype:\",transport_2.get_type())  # Output: Truck\n",
    "print(\"Object:\",transport_3,f\"\\ttype:\",transport_3.get_type())  # Output: Truck"
   ]
  },
  {
   "cell_type": "markdown",
   "id": "23de81ba-cb36-4b8b-a420-749c2919aca6",
   "metadata": {},
   "source": [
    "### Advantage:\n",
    "- You don't need to know about the creator details like which creator creates the specific product.\n",
    "\n",
    "### Problem with above approach:\n",
    "- Centralized Logic but Less Modular: Factory logic uses if-else, tightly coupling all transport types. \n",
    "- Scalability: On scaling the structure of the code need to change, so violation of open/close principle."
   ]
  },
  {
   "cell_type": "code",
   "execution_count": null,
   "id": "9af62a8e-7fae-41db-85a5-b2aeabd5ccdd",
   "metadata": {},
   "outputs": [],
   "source": []
  },
  {
   "cell_type": "markdown",
   "id": "b7eee82f-a8f7-435d-a368-f1c0b973c152",
   "metadata": {},
   "source": [
    "## 3. Using Factory Method Design Pattern with Single Responsibility Principle:"
   ]
  },
  {
   "cell_type": "markdown",
   "id": "7478e9bd-fb7c-4c7a-bf3d-376ad274f843",
   "metadata": {},
   "source": [
    "### How the this approach Solves above problems:\n",
    "- Modularity: Avoiding a centralized if-else logic.\n",
    "- Open/Closed Principle: New transport types can be added by introducing new creator classes without modifying existing code.\n",
    "- Scalability: Easier to manage and extend when the number of products increases with out changing the structure of code."
   ]
  },
  {
   "cell_type": "code",
   "execution_count": 17,
   "id": "6bcf5c2e-27a3-470e-8a71-62601e343d3f",
   "metadata": {},
   "outputs": [
    {
     "name": "stdout",
     "output_type": "stream",
     "text": [
      "Truck\n",
      "Ship\n",
      "Plane\n"
     ]
    }
   ],
   "source": [
    "# Abstract Product Class (Transport)\n",
    "class Transport:\n",
    "    def __init__(self):\n",
    "        self.type = \"Transport\"\n",
    "\n",
    "    def get_type(self):\n",
    "        return self.type\n",
    "\n",
    "\n",
    "# Concrete Product Classes (Truck, Ship, Plane)\n",
    "class Truck(Transport):\n",
    "    def __init__(self):\n",
    "        self.type = \"Truck\"\n",
    "\n",
    "\n",
    "class Ship(Transport):\n",
    "    def __init__(self):\n",
    "        self.type = \"Ship\"\n",
    "\n",
    "\n",
    "class Plane(Transport):\n",
    "    def __init__(self):\n",
    "        self.type = \"Plane\"\n",
    "\n",
    "\n",
    "# Creator Class (Abstract Creator) - defines the factory method\n",
    "class TransportCreator:\n",
    "    \"\"\"\n",
    "    TransportCreator is an abstract class that declares the factory method `create_transport`.\n",
    "    Subclasses will implement the method to create specific products.\n",
    "    \"\"\"\n",
    "    def create_transport(self, transport_type):\n",
    "        raise NotImplementedError(\"Subclasses should implement this method\")\n",
    "\n",
    "\n",
    "# Concrete Creator Classes (TruckCreator, ShipCreator, PlaneCreator)\n",
    "class TruckCreator(TransportCreator):\n",
    "    def create_transport(self, transport_type):\n",
    "        if transport_type == \"truck\":\n",
    "            return Truck()  # Returns a Truck object\n",
    "        else:\n",
    "            raise ValueError(\"Unknown transport type\")\n",
    "\n",
    "\n",
    "class ShipCreator(TransportCreator):\n",
    "    def create_transport(self, transport_type):\n",
    "        if transport_type == \"ship\":\n",
    "            return Ship()  # Returns a Ship object\n",
    "        else:\n",
    "            raise ValueError(\"Unknown transport type\")\n",
    "\n",
    "\n",
    "class PlaneCreator(TransportCreator):\n",
    "    def create_transport(self, transport_type):\n",
    "        if transport_type == \"plane\":\n",
    "            return Plane()  # Returns a Plane object\n",
    "        else:\n",
    "            raise ValueError(\"Unknown transport type\")\n",
    "\n",
    "\n",
    "# Clients that use the factory method to create objects\n",
    "\n",
    "# Client 1\n",
    "def client1():\n",
    "    creator = TruckCreator()  # Choose the creator for Truck\n",
    "    transport = creator.create_transport(\"truck\")  # Create a truck\n",
    "    return transport\n",
    "\n",
    "\n",
    "# Client 2\n",
    "def client2():\n",
    "    creator = ShipCreator()  # Choose the creator for Ship\n",
    "    transport = creator.create_transport(\"ship\")  # Create a ship\n",
    "    return transport\n",
    "\n",
    "\n",
    "# Client 3\n",
    "def client3():\n",
    "    creator = PlaneCreator()  # Choose the creator for Plane\n",
    "    transport = creator.create_transport(\"plane\")  # Create a plane\n",
    "    return transport\n",
    "\n",
    "\n",
    "# Example usage:\n",
    "transport_1 = client1()  # Client 1 creates a Truck object\n",
    "transport_2 = client2()  # Client 2 creates a Ship object\n",
    "transport_3 = client3()  # Client 3 creates a Plane object\n",
    "\n",
    "# Output the transport types created\n",
    "print(transport_1.get_type())  \n",
    "print(transport_2.get_type())  \n",
    "print(transport_3.get_type())  \n"
   ]
  },
  {
   "cell_type": "markdown",
   "id": "3d6e2f27-99b5-442f-9cfb-180e221d7312",
   "metadata": {},
   "source": [
    "### Advantage:\n",
    "- Open/Closed Principle: New transport types can be added by introducing new creator classes without modifying existing code.\n",
    "\n",
    "### Problem with above approach:\n",
    "- Clients need to have details about concrete creator like who creates the specific product."
   ]
  }
 ],
 "metadata": {
  "kernelspec": {
   "display_name": "Python 3 (ipykernel)",
   "language": "python",
   "name": "python3"
  },
  "language_info": {
   "codemirror_mode": {
    "name": "ipython",
    "version": 3
   },
   "file_extension": ".py",
   "mimetype": "text/x-python",
   "name": "python",
   "nbconvert_exporter": "python",
   "pygments_lexer": "ipython3",
   "version": "3.13.0"
  },
  "widgets": {
   "application/vnd.jupyter.widget-state+json": {
    "state": {},
    "version_major": 2,
    "version_minor": 0
   }
  }
 },
 "nbformat": 4,
 "nbformat_minor": 5
}
