{
 "cells": [
  {
   "cell_type": "markdown",
   "id": "3111259b-b764-457c-8f07-f1762e40190b",
   "metadata": {},
   "source": [
    "# Decorator Method Design Pattern vs Visitor Method Design Pattern:\n",
    "- While both the Decorator and Visitor patterns enhance functionality without altering the existing structure, they serve fundamentally different purposes and are applied in distinct scenarios."
   ]
  },
  {
   "cell_type": "markdown",
   "id": "6c4f77ff-eac6-4c19-aad2-1301ab8e1fa5",
   "metadata": {},
   "source": [
    "### 1. Decorator Pattern:\n",
    "- Purpose: Add or modify behavior to individual objects dynamically without affecting other objects of the same class.\n",
    "#### Fields of Application:\n",
    "- Enhancing graphical components in GUI systems.\n",
    "- Adding cross-cutting concerns like logging, security, or caching.\n",
    "\n",
    "### 2. Visitor Pattern:\n",
    "- Purpose: Define new operations on a collection of heterogeneous objects without modifying their classes.\n",
    "#### Fields of Application:\n",
    "- Traversing and processing complex object structures like ASTs, file systems, or document hierarchies.\n",
    "- Performing multiple operations (e.g., serialization, validation) on objects without duplicating code in each class."
   ]
  },
  {
   "cell_type": "code",
   "execution_count": null,
   "id": "5bbe1880-3853-4802-b2cc-91d361b72b88",
   "metadata": {},
   "outputs": [],
   "source": []
  },
  {
   "cell_type": "markdown",
   "id": "13d3d36c-9ac6-47bd-aaa5-0d3619cb4fd9",
   "metadata": {},
   "source": [
    "## 1. Scenario: Dynamic Formatting in a Text Editor\n",
    "- We are building a text editor, and we want users to be able to apply multiple formatting options like bold, italic, underline, etc., to the text. The challenge is that users may want to combine different formatting styles on the same text dynamically, and we need to do this without modifying the text object each time.\n"
   ]
  },
  {
   "cell_type": "markdown",
   "id": "3d7517bf-1784-4424-89ed-fa033c275a71",
   "metadata": {},
   "source": [
    "### 1.1 Using Visitor Method Design Pattern:\n",
    "- If we use the Visitor Pattern, we'd need to define a visitor class for each formatting operation (like BoldVisitor, ItalicVisitor, etc.).\n",
    "- However, this approach has a disadvantage: Visitors cannot dynamically combine formatting styles on a single object at runtime. For instance, if a user wants to apply bold and italic styles to the same text, you'd need to define separate visitors for every combination of styles, which becomes cumbersome and inflexible.\n"
   ]
  },
  {
   "cell_type": "code",
   "execution_count": 9,
   "id": "031fb341-1f7f-41c2-8425-cb373fa43b87",
   "metadata": {},
   "outputs": [
    {
     "name": "stdout",
     "output_type": "stream",
     "text": [
      "<b>Hello World!</b>\n",
      "<i><b>Hello World!</b></i>\n"
     ]
    }
   ],
   "source": [
    "class Text:\n",
    "    # Element class: Represents the object to be visited\n",
    "    def __init__(self, content):\n",
    "        self.content = content\n",
    "\n",
    "    def accept(self, visitor):\n",
    "        # Accepts a visitor\n",
    "        visitor.visit(self)\n",
    "\n",
    "class TextVisitor:\n",
    "    # Visitor base class\n",
    "    def visit(self, text):\n",
    "        pass\n",
    "\n",
    "class BoldVisitor(TextVisitor):\n",
    "    # Concrete Visitor: Adds bold formatting\n",
    "    def visit(self, text):\n",
    "        text.content = f\"<b>{text.content}</b>\"\n",
    "\n",
    "class ItalicVisitor(TextVisitor):\n",
    "    # Concrete Visitor: Adds italic formatting\n",
    "    def visit(self, text):\n",
    "        text.content = f\"<i>{text.content}</i>\"\n",
    "\n",
    "# Client Code: Applying visitors\n",
    "text = Text(\"Hello World!\")  # Element\n",
    "bold_visitor = BoldVisitor()  # Visitor for bold\n",
    "italic_visitor = ItalicVisitor()  # Visitor for italic\n",
    "\n",
    "text.accept(bold_visitor)  # Apply BoldVisitor\n",
    "print(text.content)  # Output: <b>Hello World!</b>\n",
    "text.accept(italic_visitor)  # Apply ItalicVisitor\n",
    "print(text.content)  # Output: <i><b>Hello World!</b></i>\n"
   ]
  },
  {
   "cell_type": "markdown",
   "id": "bd2357e9-6f18-4e4b-b5e5-a3c2bce780b8",
   "metadata": {},
   "source": [
    "### Disadvantages:\n",
    "- No flexibility to combine visitors dynamically at runtime (the user can't apply both bold and italic at once without explicitly creating a separate visitor for this).\n",
    "- Visitors are applied sequentially, and we can’t stack them dynamically, leading to code duplication and complexity as the number of formatting options grows."
   ]
  },
  {
   "cell_type": "code",
   "execution_count": null,
   "id": "62c07355-61c8-4e84-9e12-768788a6b200",
   "metadata": {},
   "outputs": [],
   "source": []
  },
  {
   "cell_type": "markdown",
   "id": "57fb8a5b-ff69-4439-83f1-19b6b2d6196c",
   "metadata": {},
   "source": [
    "### 1.2 Using Decorator Method Pattern:\n",
    "- we can use the Decorator Pattern, which allows us to dynamically compose multiple features (like bold, italic, etc.) without modifying the Text object itself. This allows us to apply as many decorators as needed in any order."
   ]
  },
  {
   "cell_type": "code",
   "execution_count": 6,
   "id": "b1e361e8-57c0-4462-897f-cb96a7ed80bd",
   "metadata": {},
   "outputs": [
    {
     "name": "stdout",
     "output_type": "stream",
     "text": [
      "<i><b>Hello World!</b></i>\n"
     ]
    }
   ],
   "source": [
    "# Component\n",
    "class Text:\n",
    "    def __init__(self, content):\n",
    "        self.content = content\n",
    "    \n",
    "    def render(self):\n",
    "        return self.content\n",
    "\n",
    "# Decorators\n",
    "class BoldDecorator:\n",
    "    def __init__(self, text_component):\n",
    "        self.text_component = text_component\n",
    "    \n",
    "    def render(self):\n",
    "        return f\"<b>{self.text_component.render()}</b>\"\n",
    "\n",
    "class ItalicDecorator:\n",
    "    def __init__(self, text_component):\n",
    "        self.text_component = text_component\n",
    "    \n",
    "    def render(self):\n",
    "        return f\"<i>{self.text_component.render()}</i>\"\n",
    "\n",
    "# Applying multiple decorators dynamically at runtime\n",
    "text = Text(\"Hello World!\")\n",
    "bold_text = BoldDecorator(text)\n",
    "italic_bold_text = ItalicDecorator(bold_text)  # Stack decorators\n",
    "\n",
    "# The final output\n",
    "print(italic_bold_text.render())  # Output: <i><b>Hello World!</b></i>\n"
   ]
  },
  {
   "cell_type": "markdown",
   "id": "e1eec247-33c8-4cec-9cea-8219d1067789",
   "metadata": {},
   "source": [
    "### Advantages of Decorator:\n",
    "- Dynamic Composition: You can combine multiple decorators (like BoldDecorator and ItalicDecorator) at runtime to apply different behaviors to the same object. This is not possible with the Visitor pattern in this case.\n",
    "- Flexibility: New decorators can be added at any time without modifying the Text object or the existing code.\n",
    "- Reusable and Composable: You can mix and match decorators for various combinations of formatting."
   ]
  },
  {
   "cell_type": "code",
   "execution_count": null,
   "id": "14628276-f6d2-4aed-868f-65e44315afde",
   "metadata": {},
   "outputs": [],
   "source": []
  },
  {
   "cell_type": "markdown",
   "id": "16b44c06-0a5d-4f62-b31b-f458c1c218f2",
   "metadata": {},
   "source": [
    "## 2. Scenario: Adding Operations Across a Set of Shapes\n",
    "- We're working on a graphics application that manages different shapes, like circles and rectangles. You want to add a new operation to all shapes, such as scaling or drawing, but we don’t want to modify the Shape class or its subclasses each time you add a new operation."
   ]
  },
  {
   "cell_type": "markdown",
   "id": "5c93f84d-b147-487e-989e-b6a4738ab17e",
   "metadata": {},
   "source": [
    "### 2.2 Using Decorator Method Pattern:\n",
    "- With the Decorator Pattern, you must create a decorator class for each operation (DrawDecorator, ScaleDecorator, etc.) and apply it to every shape individually. This quickly becomes unmanageable when you have multiple shapes and operations."
   ]
  },
  {
   "cell_type": "code",
   "execution_count": 7,
   "id": "8eaf8d40-040b-40f6-b2ea-82fec1fd93a9",
   "metadata": {},
   "outputs": [
    {
     "name": "stdout",
     "output_type": "stream",
     "text": [
      "Drawing Circle\n",
      "Scaling Drawing Circle\n",
      "Scaling Rectangle\n"
     ]
    }
   ],
   "source": [
    "# Shape Classes\n",
    "class Shape:\n",
    "    def render(self):\n",
    "        pass\n",
    "\n",
    "class Circle(Shape):\n",
    "    def render(self):\n",
    "        return \"Circle\"\n",
    "\n",
    "class Rectangle(Shape):\n",
    "    def render(self):\n",
    "        return \"Rectangle\"\n",
    "\n",
    "# Decorators for each operation\n",
    "class DrawDecorator:\n",
    "    def __init__(self, shape):\n",
    "        self.shape = shape\n",
    "    \n",
    "    def render(self):\n",
    "        return f\"Drawing {self.shape.render()}\"\n",
    "\n",
    "class ScaleDecorator:\n",
    "    def __init__(self, shape):\n",
    "        self.shape = shape\n",
    "    \n",
    "    def render(self):\n",
    "        return f\"Scaling {self.shape.render()}\"\n",
    "\n",
    "# Applying operations using decorators\n",
    "circle = Circle()\n",
    "drawn_circle = DrawDecorator(circle)\n",
    "scaled_circle = ScaleDecorator(drawn_circle)\n",
    "\n",
    "rectangle = Rectangle()\n",
    "scaled_rectangle = ScaleDecorator(rectangle)\n",
    "\n",
    "# Output\n",
    "print(drawn_circle.render())  # Output: Drawing Circle\n",
    "print(scaled_circle.render())  # Output: Scaling Drawing Circle\n",
    "print(scaled_rectangle.render())  # Output: Scaling Rectangle\n"
   ]
  },
  {
   "cell_type": "markdown",
   "id": "951ef004-92d2-4a22-913d-4f9f2a4cad98",
   "metadata": {},
   "source": [
    "### Issues with Decorator:\n",
    "- Repetition: You must apply decorators for each shape individually.\n",
    "DrawDecorator(circle), ScaleDecorator(circle), DrawDecorator(rectangle), etc.\n",
    "- Scalability Problem: If there are N shapes and M operations, you potentially deal with N x M decorator applications."
   ]
  },
  {
   "cell_type": "code",
   "execution_count": null,
   "id": "3c648495-e359-4248-9a74-7bae032a745d",
   "metadata": {},
   "outputs": [],
   "source": []
  },
  {
   "cell_type": "markdown",
   "id": "8d4c765c-72b8-430c-a4a6-e41159522e79",
   "metadata": {},
   "source": [
    "### 2.2 Using Visitor Method Pattern:\n",
    "- The Visitor Pattern lets us define a single visitor class for each operation (DrawVisitor, ScaleVisitor) and apply them across all shapes without modifying the shape classes or requiring per-object decorators."
   ]
  },
  {
   "cell_type": "code",
   "execution_count": 8,
   "id": "aed19ccf-b9dd-40cf-9155-858963a822e7",
   "metadata": {},
   "outputs": [
    {
     "name": "stdout",
     "output_type": "stream",
     "text": [
      "Drawing Circle\n",
      "Drawing Rectangle\n",
      "Scaling Circle\n",
      "Scaling Rectangle\n"
     ]
    }
   ],
   "source": [
    "# Shape Classes\n",
    "class Shape:\n",
    "    def accept(self, visitor):\n",
    "        pass\n",
    "\n",
    "class Circle(Shape):\n",
    "    def accept(self, visitor):\n",
    "        visitor.visit_circle(self)\n",
    "\n",
    "class Rectangle(Shape):\n",
    "    def accept(self, visitor):\n",
    "        visitor.visit_rectangle(self)\n",
    "\n",
    "# Visitor Interface\n",
    "class ShapeVisitor:\n",
    "    def visit_circle(self, circle):\n",
    "        pass\n",
    "\n",
    "    def visit_rectangle(self, rectangle):\n",
    "        pass\n",
    "\n",
    "# Concrete Visitors for operations\n",
    "class DrawVisitor(ShapeVisitor):\n",
    "    def visit_circle(self, circle):\n",
    "        print(\"Drawing Circle\")\n",
    "\n",
    "    def visit_rectangle(self, rectangle):\n",
    "        print(\"Drawing Rectangle\")\n",
    "\n",
    "class ScaleVisitor(ShapeVisitor):\n",
    "    def visit_circle(self, circle):\n",
    "        print(\"Scaling Circle\")\n",
    "\n",
    "    def visit_rectangle(self, rectangle):\n",
    "        print(\"Scaling Rectangle\")\n",
    "\n",
    "# Applying operations across shapes\n",
    "shapes = [Circle(), Rectangle()]\n",
    "draw_visitor = DrawVisitor()\n",
    "scale_visitor = ScaleVisitor()\n",
    "\n",
    "# Using visitors to perform operations\n",
    "for shape in shapes:\n",
    "    shape.accept(draw_visitor)\n",
    "    # Output:\n",
    "    # Drawing Circle\n",
    "    # Drawing Rectangle\n",
    "\n",
    "for shape in shapes:\n",
    "    shape.accept(scale_visitor)\n",
    "    # Output:\n",
    "    # Scaling Circle\n",
    "    # Scaling Rectangle\n"
   ]
  },
  {
   "cell_type": "markdown",
   "id": "60b54afa-195a-4786-a5ff-22bca0b10022",
   "metadata": {},
   "source": [
    "### How the Visitor Method Pattern solves it:\n",
    "- Single Definition for Each Operation: In the Visitor Pattern, operations like draw and scale are defined once in their respective visitor classes (DrawVisitor, ScaleVisitor) and applied to all shape types, we don’t need separate decorators for every shape and operation combination.\n",
    "- Clean and Scalable: Adding a new operation is as simple as creating a new visitor (e.g., RotateVisitor), and it works seamlessly across all shapes without touching the shape classes or creating new decorators."
   ]
  }
 ],
 "metadata": {
  "kernelspec": {
   "display_name": "Python 3 (ipykernel)",
   "language": "python",
   "name": "python3"
  },
  "language_info": {
   "codemirror_mode": {
    "name": "ipython",
    "version": 3
   },
   "file_extension": ".py",
   "mimetype": "text/x-python",
   "name": "python",
   "nbconvert_exporter": "python",
   "pygments_lexer": "ipython3",
   "version": "3.13.0"
  },
  "widgets": {
   "application/vnd.jupyter.widget-state+json": {
    "state": {},
    "version_major": 2,
    "version_minor": 0
   }
  }
 },
 "nbformat": 4,
 "nbformat_minor": 5
}
