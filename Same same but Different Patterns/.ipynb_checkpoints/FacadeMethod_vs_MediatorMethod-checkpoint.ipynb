{
 "cells": [
  {
   "cell_type": "markdown",
   "id": "41010335-6900-4eb3-821f-673edb576fdc",
   "metadata": {},
   "source": [
    "# Facade Method Pattern vs Mediator Method Pattern:\n",
    "- While both the Facade and Mediator patterns simplify interactions between components, they serve fundamentally different purposes and are applied in distinct scenarios."
   ]
  },
  {
   "cell_type": "markdown",
   "id": "683a410c-2f81-4b2c-baeb-accefd85df93",
   "metadata": {},
   "source": [
    "## 1. Scenario: Centralized UI Communication\n",
    "- In a GUI application, you have multiple components like a Button, TextBox, and Label. These components need to interact, such as updating the Label text when the Button is clicked or clearing the TextBox when the Label changes. A centralized mediator can simplify communication."
   ]
  },
  {
   "cell_type": "markdown",
   "id": "c5519f66-6ce5-4ccc-8f6d-e7fb4e642a88",
   "metadata": {},
   "source": [
    "### 1.1 Using Facade Method Pattern:\n",
    "- The Facade Pattern organizes components behind a simplified interface but doesn’t manage communication between them. Each component still needs to interact directly, increasing coupling."
   ]
  },
  {
   "cell_type": "code",
   "execution_count": 2,
   "id": "5cf8fffa-e7fc-4e07-b6e5-746f15d5ade5",
   "metadata": {},
   "outputs": [
    {
     "name": "stdout",
     "output_type": "stream",
     "text": [
      "Button clicked!\n",
      "Label updated: Button clicked!\n",
      "TextBox cleared.\n"
     ]
    }
   ],
   "source": [
    "# Facade Class\n",
    "class UIFacade:\n",
    "    def __init__(self, button, textbox, label):\n",
    "        self.button = button\n",
    "        self.textbox = textbox\n",
    "        self.label = label\n",
    "\n",
    "    def click_button(self):\n",
    "        print(\"Button clicked!\")\n",
    "        self.label.set_text(\"Button clicked!\")      # Direct Interaction here cause using their objects to interact\n",
    "        self.textbox.clear()\n",
    "\n",
    "# SubClass: Button\n",
    "class Button:\n",
    "    def click(self):\n",
    "        print(\"Button logic executed.\")\n",
    "\n",
    "# SubClass: TextBox\n",
    "class TextBox:\n",
    "    def __init__(self):\n",
    "        self.content = \"Sample text\"\n",
    "\n",
    "    def clear(self):\n",
    "        self.content = \"\"\n",
    "        print(\"TextBox cleared.\")\n",
    "\n",
    "# SubClass: Label\n",
    "class Label:\n",
    "    def __init__(self):\n",
    "        self.text = \"\"\n",
    "\n",
    "    def set_text(self, text):\n",
    "        self.text = text\n",
    "        print(f\"Label updated: {self.text}\")\n",
    "\n",
    "# Client Code\n",
    "button = Button()\n",
    "textbox = TextBox()\n",
    "label = Label()\n",
    "ui = UIFacade(button, textbox, label)\n",
    "\n",
    "ui.click_button()\n"
   ]
  },
  {
   "cell_type": "markdown",
   "id": "13018f56-e261-4a57-bcf6-b2c2d8fc3983",
   "metadata": {},
   "source": [
    "### Issues with Facade Pattern:\n",
    "- No inter-component logic: The facade simplifies access but doesn’t manage dynamic communication between components.\n",
    "- Coupling remains: Components still require direct interaction through the facade."
   ]
  },
  {
   "cell_type": "code",
   "execution_count": null,
   "id": "772e768f-05c2-4650-9f2b-10b6361a66c5",
   "metadata": {},
   "outputs": [],
   "source": []
  },
  {
   "cell_type": "markdown",
   "id": "c213a39f-7543-49f6-88db-58b8f4d63e66",
   "metadata": {},
   "source": [
    "### 1.2 Using Mediator Method Pattern:\n",
    "- The Mediator Pattern centralizes communication between components, reducing coupling. Components interact only with the mediator, which handles coordination."
   ]
  },
  {
   "cell_type": "code",
   "execution_count": 4,
   "id": "ae75cbcd-6b50-4341-95d3-c4152d882ca3",
   "metadata": {},
   "outputs": [
    {
     "name": "stdout",
     "output_type": "stream",
     "text": [
      "Button clicked.\n",
      "Mediator handling button click.\n",
      "Label updated: Button clicked!\n",
      "TextBox cleared.\n"
     ]
    }
   ],
   "source": [
    "# Mediator interface\n",
    "class Mediator:\n",
    "    def notify(self, sender, event):\n",
    "        pass\n",
    "\n",
    "# Concrete mediator\n",
    "class UIMediator(Mediator):\n",
    "    def __init__(self):\n",
    "        self.button = None\n",
    "        self.textbox = None\n",
    "        self.label = None\n",
    "\n",
    "    def set_components(self, button, textbox, label):\n",
    "        self.button = button\n",
    "        self.textbox = textbox\n",
    "        self.label = label\n",
    "\n",
    "    def notify(self, sender, event):\n",
    "        if event == \"button_clicked\":\n",
    "            print(\"Mediator handling button click.\")\n",
    "            self.label.set_text(\"Button clicked!\")       # look here mediator's object is interacting with colleagues instead of ConcreteColleague's objects\n",
    "            self.textbox.clear()\n",
    "\n",
    "# ConcreteColleague: Button\n",
    "class Button:\n",
    "    def __init__(self, mediator):\n",
    "        self.mediator = mediator\n",
    "\n",
    "    def click(self):\n",
    "        print(\"Button clicked.\")\n",
    "        self.mediator.notify(self, \"button_clicked\")   # look here mediator's object is interacting with colleagues instead of ConcreteColleague's objects\n",
    "\n",
    "# ConcreteColleague: TextBox\n",
    "class TextBox:\n",
    "    def __init__(self, mediator):\n",
    "        self.mediator = mediator\n",
    "        self.content = \"Sample text\"\n",
    "\n",
    "    def clear(self):\n",
    "        self.content = \"\"\n",
    "        print(\"TextBox cleared.\")\n",
    "\n",
    "# ConcreteColleague: Label\n",
    "class Label:\n",
    "    def __init__(self, mediator):\n",
    "        self.mediator = mediator\n",
    "        self.text = \"\"\n",
    "\n",
    "    def set_text(self, text):\n",
    "        self.text = text\n",
    "        print(f\"Label updated: {self.text}\")\n",
    "\n",
    "# Client Code\n",
    "mediator = UIMediator()\n",
    "button = Button(mediator)\n",
    "textbox = TextBox(mediator)\n",
    "label = Label(mediator)\n",
    "mediator.set_components(button, textbox, label)\n",
    "\n",
    "button.click()\n"
   ]
  },
  {
   "cell_type": "markdown",
   "id": "bb6ea8ec-fd2d-4810-8485-846dd8930ce0",
   "metadata": {},
   "source": [
    "### Advantages of Mediator Pattern:\n",
    "- Reduced coupling: Components don’t communicate directly, simplifying dependencies.\n",
    "- Dynamic coordination: The mediator allows flexible inter-component communication."
   ]
  },
  {
   "cell_type": "code",
   "execution_count": null,
   "id": "3acd00df-02d1-4a04-98fa-39c78ea56725",
   "metadata": {},
   "outputs": [],
   "source": []
  },
  {
   "cell_type": "markdown",
   "id": "30212d09-d692-4bd6-9ae7-8095344047ff",
   "metadata": {},
   "source": [
    "## 2. Scenario: Simplifying Subsystem Access\n",
    "- You’re working on a complex system with subsystems like Authentication, Logging, and Database Management. A simplified interface is needed to provide controlled access."
   ]
  },
  {
   "cell_type": "markdown",
   "id": "9165933d-d3be-4bb0-8a89-b2c8e7d72b1d",
   "metadata": {},
   "source": [
    "### 2.1 Using Mediator Method Pattern:\n",
    "- The Mediator Pattern is better suited for managing communication between peer objects. Using it to coordinate subsystem access adds unnecessary complexity and overhead."
   ]
  },
  {
   "cell_type": "code",
   "execution_count": 6,
   "id": "1aa0a35b-b182-48dc-966e-a373df52311b",
   "metadata": {},
   "outputs": [
    {
     "name": "stdout",
     "output_type": "stream",
     "text": [
      "Mediator handling login.\n",
      "Authenticating user...\n",
      "Logging: User logged in.\n",
      "Connecting to database...\n"
     ]
    }
   ],
   "source": [
    "# Mediator coordinating subsystems\n",
    "class SystemMediator:\n",
    "    def __init__(self):\n",
    "        self.auth = Authentication()\n",
    "        self.logger = Logger()\n",
    "        self.db = Database()\n",
    "\n",
    "    def notify(self, sender, event):\n",
    "        if event == \"login\":\n",
    "            print(\"Mediator handling login.\")\n",
    "            self.auth.authenticate()\n",
    "            self.logger.log(\"User logged in.\")\n",
    "            self.db.connect()\n",
    "\n",
    "# Subsystem: Authentication\n",
    "class Authentication:\n",
    "    def authenticate(self):\n",
    "        print(\"Authenticating user...\")\n",
    "\n",
    "# Subsystem: Logger\n",
    "class Logger:\n",
    "    def log(self, message):\n",
    "        print(f\"Logging: {message}\")\n",
    "\n",
    "# Subsystem: Database\n",
    "class Database:\n",
    "    def connect(self):\n",
    "        print(\"Connecting to database...\")\n",
    "\n",
    "# Client Code\n",
    "mediator = SystemMediator()\n",
    "mediator.notify(None, \"login\")\n"
   ]
  },
  {
   "cell_type": "markdown",
   "id": "2e458d92-eb56-4989-87d5-c7f4590f69d9",
   "metadata": {},
   "source": [
    "### Issues with Mediator Pattern:\n",
    "- Overhead: Adding a mediator for a straightforward subsystem interaction is unnecessary.\n",
    "- Limited scalability: Subsystems don’t benefit much from centralized communication logic."
   ]
  },
  {
   "cell_type": "code",
   "execution_count": null,
   "id": "713e3f9c-5bd2-4f6e-8293-f0e29a06aa0f",
   "metadata": {},
   "outputs": [],
   "source": []
  },
  {
   "cell_type": "markdown",
   "id": "890fc312-3006-456d-ae85-f43549a443eb",
   "metadata": {},
   "source": [
    "### 2.2 Using Facade Method Pattern:\n",
    "- The Facade Pattern simplifies subsystem interactions by exposing a unified interface. This is efficient for systems where subsystems work sequentially or hierarchically."
   ]
  },
  {
   "cell_type": "code",
   "execution_count": 7,
   "id": "69f5748e-b3aa-40fd-aa7e-6ff9d381a173",
   "metadata": {},
   "outputs": [
    {
     "name": "stdout",
     "output_type": "stream",
     "text": [
      "Facade handling login.\n",
      "Authenticating user...\n",
      "Logging: User logged in.\n",
      "Connecting to database...\n"
     ]
    }
   ],
   "source": [
    "# Facade simplifying subsystem access\n",
    "class SystemFacade:\n",
    "    def __init__(self):\n",
    "        self.auth = Authentication()\n",
    "        self.logger = Logger()\n",
    "        self.db = Database()\n",
    "\n",
    "    def login(self):\n",
    "        print(\"Facade handling login.\")\n",
    "        self.auth.authenticate()\n",
    "        self.logger.log(\"User logged in.\")\n",
    "        self.db.connect()\n",
    "\n",
    "# Subsystem: Authentication\n",
    "class Authentication:\n",
    "    def authenticate(self):\n",
    "        print(\"Authenticating user...\")\n",
    "\n",
    "# Subsystem: Logger\n",
    "class Logger:\n",
    "    def log(self, message):\n",
    "        print(f\"Logging: {message}\")\n",
    "\n",
    "# Subsystem: Database\n",
    "class Database:\n",
    "    def connect(self):\n",
    "        print(\"Connecting to database...\")\n",
    "\n",
    "# Client Code\n",
    "facade = SystemFacade()\n",
    "facade.login()\n"
   ]
  },
  {
   "cell_type": "markdown",
   "id": "6bf7fc0f-1edb-47ad-95d4-4f6c7d4776a3",
   "metadata": {},
   "source": [
    "### Advantages of Facade Pattern:\n",
    "- Simplified access: Exposes a unified interface for complex subsystems.\n",
    "- Encapsulation: Hides subsystem details from the client"
   ]
  },
  {
   "cell_type": "code",
   "execution_count": null,
   "id": "93658b1e-a6fd-4f32-922f-0f0776d67dbc",
   "metadata": {},
   "outputs": [],
   "source": []
  },
  {
   "cell_type": "markdown",
   "id": "2b7c523b-b2fe-4abb-8746-af8645686a74",
   "metadata": {},
   "source": [
    "## In Facade Pattern:\n",
    "#### Advantage of Direct Interaction:\n",
    "The Facade Pattern allows direct interaction between components if needed because the facade is just a simplified interface, not an enforcer of communication rules. This flexibility is useful in scenarios where:\n",
    "\n",
    "- Subsystems need to bypass the facade for performance-critical operations.\n",
    "- The client requires finer control over specific subsystem behaviors.\n",
    "#### Disadvantage of Direct Interaction:\n",
    "\n",
    "- Leads to tighter coupling if the client starts heavily depending on subsystem internals.\n",
    "- Can undermine the purpose of the facade by exposing too much complexity to the client.\n",
    "\n",
    "\n",
    "## In Mediator Pattern:\n",
    "#### Advantage of Indirect Interaction (No Direct Interaction):\n",
    "The Mediator Pattern enforces communication through the mediator, promoting:\n",
    "\n",
    "- Loose coupling: Components don’t depend on each other’s implementation, only on the mediator.\n",
    "- Scalability: Adding or modifying components doesn’t require changes to other components, only the mediator.\n",
    "#### Disadvantage of Indirect Interaction (No Direct Interaction):\n",
    "\n",
    "- Can lead to an overly complex mediator if too much logic is centralized.\n",
    "- May introduce overhead in scenarios where direct communication would have been simpler and more efficient.\n"
   ]
  },
  {
   "cell_type": "code",
   "execution_count": null,
   "id": "2da8b770-046d-4ec2-9b73-5014aefab6cf",
   "metadata": {},
   "outputs": [],
   "source": []
  }
 ],
 "metadata": {
  "kernelspec": {
   "display_name": "Python 3 (ipykernel)",
   "language": "python",
   "name": "python3"
  },
  "language_info": {
   "codemirror_mode": {
    "name": "ipython",
    "version": 3
   },
   "file_extension": ".py",
   "mimetype": "text/x-python",
   "name": "python",
   "nbconvert_exporter": "python",
   "pygments_lexer": "ipython3",
   "version": "3.13.0"
  },
  "widgets": {
   "application/vnd.jupyter.widget-state+json": {
    "state": {},
    "version_major": 2,
    "version_minor": 0
   }
  }
 },
 "nbformat": 4,
 "nbformat_minor": 5
}
