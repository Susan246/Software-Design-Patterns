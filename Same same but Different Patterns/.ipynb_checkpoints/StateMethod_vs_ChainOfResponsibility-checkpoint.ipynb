{
 "cells": [
  {
   "cell_type": "markdown",
   "id": "101e1593-449c-47e5-8704-3e533a161b99",
   "metadata": {},
   "source": [
    "# State Method Pattern vs Chain Of Responsibility Pattern:\n",
    "- While both the State and Chain of Responsibility patterns support chaining to manage dynamic behavior, they serve fundamentally different purposes and are applied in distinct scenarios.\n",
    "\n"
   ]
  },
  {
   "cell_type": "markdown",
   "id": "e6d0fdbf-8a5f-4753-b519-5257a094f3d0",
   "metadata": {},
   "source": [
    "## 1. Scenario: Access Control System\n",
    "- You are designing an access control system where users must pass multiple checks to access a resource (e.g., authentication, authorization, and security clearance). These checks can vary depending on the resource or user role."
   ]
  },
  {
   "cell_type": "markdown",
   "id": "29faa85b-f74e-40fe-b307-514ff0e75047",
   "metadata": {},
   "source": [
    "### 1.1 Using State Method Design Pattern:"
   ]
  },
  {
   "cell_type": "markdown",
   "id": "73e2f912-4da9-4b2e-8341-f61e3c9543da",
   "metadata": {},
   "source": [
    "#### Issue:\n",
    "- The State Pattern is rigid, requiring predefined transitions between checks. Adding, removing, or reordering checks requires modifying state transitions, making it inflexible for dynamically changing rules i.e. Static Chaining."
   ]
  },
  {
   "cell_type": "code",
   "execution_count": 1,
   "id": "d7fc62ef-c0b9-49f7-940e-4cb144cef976",
   "metadata": {},
   "outputs": [
    {
     "name": "stdout",
     "output_type": "stream",
     "text": [
      "User authenticated.\n",
      "User authorized.\n",
      "Security clearance failed.\n"
     ]
    }
   ],
   "source": [
    "# State interface\n",
    "class AccessState:\n",
    "    def handle(self, user):\n",
    "        pass\n",
    "\n",
    "# Concrete state: Authentication\n",
    "class AuthenticationState(AccessState):\n",
    "    def handle(self, user):\n",
    "        if user['authenticated']:\n",
    "            print(\"User authenticated.\")\n",
    "            user['state'] = AuthorizationState()\n",
    "        else:\n",
    "            print(\"Authentication failed.\")\n",
    "            user['state'] = None\n",
    "\n",
    "# Concrete state: Authorization\n",
    "class AuthorizationState(AccessState):\n",
    "    def handle(self, user):\n",
    "        if user['authorized']:\n",
    "            print(\"User authorized.\")\n",
    "            user['state'] = ClearanceState()\n",
    "        else:\n",
    "            print(\"Authorization failed.\")\n",
    "            user['state'] = None\n",
    "\n",
    "# Concrete state: Security Clearance\n",
    "class ClearanceState(AccessState):\n",
    "    def handle(self, user):\n",
    "        if user['clearance']:\n",
    "            print(\"Access granted.\")\n",
    "            user['state'] = None\n",
    "        else:\n",
    "            print(\"Security clearance failed.\")\n",
    "            user['state'] = None\n",
    "\n",
    "# Context managing the state\n",
    "class AccessControl:\n",
    "    def __init__(self):\n",
    "        self.state = AuthenticationState()\n",
    "\n",
    "    def process(self, user):\n",
    "        while self.state:\n",
    "            self.state.handle(user)\n",
    "            self.state = user.get('state')\n",
    "\n",
    "# Client Code\n",
    "user = {\"authenticated\": True, \"authorized\": True, \"clearance\": False}\n",
    "access_control = AccessControl()\n",
    "access_control.process(user)\n"
   ]
  },
  {
   "cell_type": "code",
   "execution_count": null,
   "id": "71fba4d5-1e03-4596-b635-92c91eaf42ae",
   "metadata": {},
   "outputs": [],
   "source": []
  },
  {
   "cell_type": "markdown",
   "id": "6fa9899a-706d-4e3c-9d7e-094c91b6aafe",
   "metadata": {},
   "source": [
    "### 1.2 Using Chain of Responsibility Method Pattern:"
   ]
  },
  {
   "cell_type": "markdown",
   "id": "7c9eefea-c2e5-47bb-acc8-1f6c6af7ce93",
   "metadata": {},
   "source": [
    "#### Solution:\n",
    "- The Chain of Responsibility allows checks to be dynamically added, removed, or reordered. Each step is loosely coupled, and decisions about passing to the next handler are made independently i.e. Dynamic Chaining."
   ]
  },
  {
   "cell_type": "code",
   "execution_count": 2,
   "id": "e38acc27-c2a4-47f9-ada9-74e3ac35bc06",
   "metadata": {},
   "outputs": [
    {
     "name": "stdout",
     "output_type": "stream",
     "text": [
      "User authenticated.\n",
      "User authorized.\n",
      "Security clearance failed.\n"
     ]
    }
   ],
   "source": [
    "# Handler interface\n",
    "class AccessHandler:\n",
    "    def __init__(self, successor=None):\n",
    "        self.successor = successor\n",
    "\n",
    "    def handle(self, user):\n",
    "        if self.successor:\n",
    "            self.successor.handle(user)\n",
    "\n",
    "# Concrete handler: Authentication\n",
    "class AuthenticationHandler(AccessHandler):\n",
    "    def handle(self, user):\n",
    "        if user['authenticated']:\n",
    "            print(\"User authenticated.\")\n",
    "            super().handle(user)\n",
    "        else:\n",
    "            print(\"Authentication failed.\")\n",
    "\n",
    "# Concrete handler: Authorization\n",
    "class AuthorizationHandler(AccessHandler):\n",
    "    def handle(self, user):\n",
    "        if user['authorized']:\n",
    "            print(\"User authorized.\")\n",
    "            super().handle(user)\n",
    "        else:\n",
    "            print(\"Authorization failed.\")\n",
    "\n",
    "# Concrete handler: Security Clearance\n",
    "class ClearanceHandler(AccessHandler):\n",
    "    def handle(self, user):\n",
    "        if user['clearance']:\n",
    "            print(\"Access granted.\")\n",
    "        else:\n",
    "            print(\"Security clearance failed.\")\n",
    "\n",
    "# Client Code\n",
    "user = {\"authenticated\": True, \"authorized\": True, \"clearance\": False}\n",
    "workflow = AuthenticationHandler(\n",
    "    AuthorizationHandler(\n",
    "        ClearanceHandler()\n",
    "    )\n",
    ")\n",
    "workflow.handle(user)\n"
   ]
  },
  {
   "cell_type": "code",
   "execution_count": null,
   "id": "dbfe0076-9cb6-43df-88d7-c1774ae87aba",
   "metadata": {},
   "outputs": [],
   "source": []
  },
  {
   "cell_type": "markdown",
   "id": "bba3a65b-41f5-4235-a597-51356054ce9a",
   "metadata": {},
   "source": [
    "### 2. Scenario: Game Character States\n",
    "- You are designing a game character system where the character can transition between states like Idle, Running, Jumping, and Attacking. Each state has strict rules about which transitions are allowed (e.g., the character can transition from Idle to Running, but not directly from Idle to Attacking)."
   ]
  },
  {
   "cell_type": "markdown",
   "id": "1175f99e-78d9-4ee6-929e-577acfad3c2e",
   "metadata": {},
   "source": [
    "### 2.1 Using Chain of Responsibility:\n",
    "#### Issue:\n",
    "- The Chain of Responsibility lacks a mechanism for enforcing strict state transitions. Each handler independently processes the request and passes it to the next, making it difficult to enforce specific rules between states."
   ]
  },
  {
   "cell_type": "code",
   "execution_count": 4,
   "id": "19357d3a-37c0-4588-a7e9-cfe217fe4f3c",
   "metadata": {},
   "outputs": [
    {
     "name": "stdout",
     "output_type": "stream",
     "text": [
      "Transitioning from Idle to Running.\n",
      "Action not allowed in Running state.\n",
      "Action not allowed in Jumping state.\n",
      "Action not allowed in Idle state.\n",
      "Action not allowed in Running state.\n",
      "Transitioning from Jumping to Attacking.\n"
     ]
    }
   ],
   "source": [
    "# Abstract handler\n",
    "class StateHandler:\n",
    "    def __init__(self, successor=None):\n",
    "        self.successor = successor\n",
    "\n",
    "    def handle(self, action):\n",
    "        if self.successor:\n",
    "            self.successor.handle(action)\n",
    "\n",
    "# Concrete handler: Idle state\n",
    "class IdleHandler(StateHandler):\n",
    "    def handle(self, action):\n",
    "        if action == \"run\":\n",
    "            print(\"Transitioning from Idle to Running.\")\n",
    "        else:\n",
    "            print(\"Action not allowed in Idle state.\")\n",
    "        super().handle(action)\n",
    "\n",
    "# Concrete handler: Running state\n",
    "class RunningHandler(StateHandler):\n",
    "    def handle(self, action):\n",
    "        if action == \"jump\":\n",
    "            print(\"Transitioning from Running to Jumping.\")\n",
    "        else:\n",
    "            print(\"Action not allowed in Running state.\")\n",
    "        super().handle(action)\n",
    "\n",
    "# Concrete handler: Jumping state\n",
    "class JumpingHandler(StateHandler):\n",
    "    def handle(self, action):\n",
    "        if action == \"attack\":\n",
    "            print(\"Transitioning from Jumping to Attacking.\")\n",
    "        else:\n",
    "            print(\"Action not allowed in Jumping state.\")\n",
    "        super().handle(action)\n",
    "\n",
    "# Client Code\n",
    "workflow = IdleHandler(RunningHandler(JumpingHandler()))\n",
    "workflow.handle(\"run\")  # Works\n",
    "workflow.handle(\"attack\")  # Action not allowed\n"
   ]
  },
  {
   "cell_type": "code",
   "execution_count": null,
   "id": "6814c697-19c2-4a7a-bc08-f6749021c1d8",
   "metadata": {},
   "outputs": [],
   "source": []
  },
  {
   "cell_type": "markdown",
   "id": "a3222a23-ee34-4d44-8c56-bf9708fe4ad1",
   "metadata": {},
   "source": [
    "### 2.2 Using State Method Pattern:\n",
    "#### Solution:\n",
    "- The State Pattern explicitly defines state transitions within each state. The current state is managed centrally, ensuring only valid transitions are allowed."
   ]
  },
  {
   "cell_type": "code",
   "execution_count": 5,
   "id": "d613459b-209d-4258-90af-39eb4aebabeb",
   "metadata": {},
   "outputs": [
    {
     "name": "stdout",
     "output_type": "stream",
     "text": [
      "Transitioning from Idle to Running.\n",
      "Transitioning from Running to Jumping.\n",
      "Transitioning from Jumping to Attacking.\n",
      "Action completed: Attacking.\n"
     ]
    }
   ],
   "source": [
    "# State interface\n",
    "class CharacterState:\n",
    "    def handle(self, action, character):\n",
    "        pass\n",
    "\n",
    "# Concrete state: Idle\n",
    "class IdleState(CharacterState):\n",
    "    def handle(self, action, character):\n",
    "        if action == \"run\":\n",
    "            print(\"Transitioning from Idle to Running.\")\n",
    "            character.state = RunningState()\n",
    "        else:\n",
    "            print(\"Action not allowed in Idle state.\")\n",
    "\n",
    "# Concrete state: Running\n",
    "class RunningState(CharacterState):\n",
    "    def handle(self, action, character):\n",
    "        if action == \"jump\":\n",
    "            print(\"Transitioning from Running to Jumping.\")\n",
    "            character.state = JumpingState()\n",
    "        else:\n",
    "            print(\"Action not allowed in Running state.\")\n",
    "\n",
    "# Concrete state: Jumping\n",
    "class JumpingState(CharacterState):\n",
    "    def handle(self, action, character):\n",
    "        if action == \"attack\":\n",
    "            print(\"Transitioning from Jumping to Attacking.\")\n",
    "            character.state = AttackingState()\n",
    "        else:\n",
    "            print(\"Action not allowed in Jumping state.\")\n",
    "\n",
    "# Concrete state: Attacking\n",
    "class AttackingState(CharacterState):\n",
    "    def handle(self, action, character):\n",
    "        print(\"Action completed: Attacking.\")\n",
    "        character.state = IdleState()  # Reset to Idle after attack\n",
    "\n",
    "# Context managing the current state\n",
    "class GameCharacter:\n",
    "    def __init__(self):\n",
    "        self.state = IdleState()\n",
    "\n",
    "    def perform_action(self, action):\n",
    "        self.state.handle(action, self)\n",
    "\n",
    "# Client Code\n",
    "character = GameCharacter()\n",
    "character.perform_action(\"run\")    # Transitioning from Idle to Running\n",
    "character.perform_action(\"jump\")   # Transitioning from Running to Jumping\n",
    "character.perform_action(\"attack\") # Transitioning from Jumping to Attacking\n",
    "character.perform_action(\"run\")    # Action not allowed in Idle state\n"
   ]
  },
  {
   "cell_type": "code",
   "execution_count": null,
   "id": "987976ef-ce5b-4802-a491-64b2cd11725e",
   "metadata": {},
   "outputs": [],
   "source": []
  }
 ],
 "metadata": {
  "kernelspec": {
   "display_name": "Python 3 (ipykernel)",
   "language": "python",
   "name": "python3"
  },
  "language_info": {
   "codemirror_mode": {
    "name": "ipython",
    "version": 3
   },
   "file_extension": ".py",
   "mimetype": "text/x-python",
   "name": "python",
   "nbconvert_exporter": "python",
   "pygments_lexer": "ipython3",
   "version": "3.13.0"
  },
  "widgets": {
   "application/vnd.jupyter.widget-state+json": {
    "state": {},
    "version_major": 2,
    "version_minor": 0
   }
  }
 },
 "nbformat": 4,
 "nbformat_minor": 5
}
